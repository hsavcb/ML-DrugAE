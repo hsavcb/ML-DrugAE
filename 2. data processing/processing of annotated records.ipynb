{
 "cells": [
  {
   "cell_type": "markdown",
   "metadata": {},
   "source": [
    "# Processing of extra annotated records\n",
    "\n",
    "1. remove duplicated contexts\n",
    "2. replace symbols and acronyms\n",
    "3. remove symbols (non-alphabets and non digits)\n",
    "4. join with original training examples"
   ]
  },
  {
   "cell_type": "code",
   "execution_count": 57,
   "metadata": {},
   "outputs": [],
   "source": [
    "# import packages\n",
    "import pandas as pd\n",
    "import re"
   ]
  },
  {
   "cell_type": "code",
   "execution_count": 58,
   "metadata": {},
   "outputs": [],
   "source": [
    "# ***************** # IMPORT segmented data\n",
    "df_2009 = pd.read_excel (r'.\\train and test dataset.xlsx', sheet_name='2009') # training and validation\n",
    "df_2010 = pd.read_excel (r'.\\train and test dataset.xlsx', sheet_name='2010') # test 2010\n",
    "df_2011 = pd.read_excel (r'.\\train and test dataset.xlsx', sheet_name='Readpeer 2011') # test 2011\n",
    "df_MIMIC = pd.read_excel (r'.\\train and test dataset.xlsx', sheet_name='MIMIC III')\n",
    "df_MIMIC_ur = pd.read_excel (r'.\\train and test dataset.xlsx', sheet_name='MIMIC III unrestricted')"
   ]
  },
  {
   "cell_type": "code",
   "execution_count": 59,
   "metadata": {
    "scrolled": true
   },
   "outputs": [
    {
     "name": "stdout",
     "output_type": "stream",
     "text": [
      "                                                context  \\\n",
      "0     allergies:  intravenous iron which leads to an...   \n",
      "1     percocet and keflex which lead to severe gastr...   \n",
      "2     the patient also complained of some right leg ...   \n",
      "3     Patient on appropriate cardiac medications exc...   \n",
      "4     but vomited upon arrival to the[**hospital1 88...   \n",
      "5     generalized convulsive seizure in [**2184**] i...   \n",
      "6     the patient reported that the reason she did n...   \n",
      "7     Patient's doxazosin was held given low BPs, sh...   \n",
      "8     the patient's lasix drip had been stopped due ...   \n",
      "9     discharged from detox program on day ofadmissi...   \n",
      "10    nfectious disease recommendedto discontinue al...   \n",
      "11    while the abdominal pain resolved, the patient...   \n",
      "12    subsequently, the patient developed constipati...   \n",
      "13    in the immediate postoperative period the pati...   \n",
      "14    the patient's heparin drip was d/c'ed on [**21...   \n",
      "15    overall weigth gain sicne starting prednisone ...   \n",
      "16    and was treated on nitrodrip and nitroprusside...   \n",
      "17    additional vasoconstriction in setting of neo ...   \n",
      "18    his post-transplant course has been complicate...   \n",
      "19    the patient is allergic to both penicillin and...   \n",
      "20    in regard to patient's congestive heart failur...   \n",
      "21    due to no coronary artery disease the chest pa...   \n",
      "22    history of chronic kidney disease (stage iv)se...   \n",
      "23    patient states allergies to aspirin which caus...   \n",
      "24    history of hypokalemia secondary to ace inhibi...   \n",
      "25    the patient was begun on a heparin infusion.  ...   \n",
      "26    anaphylaxis:  patient was treated in a code bl...   \n",
      "27    dermatology was consulted and they agreed that...   \n",
      "28    include oxaliplatin which caused hives during ...   \n",
      "29    allergies: morphine from which she develops rash.   \n",
      "...                                                 ...   \n",
      "3046  for treatment of stroke, patient was continued...   \n",
      "3047  he was started on cefazolin forcellulitis of t...   \n",
      "3048  she had audible wheezing on exam. repeat cxr w...   \n",
      "3049  pt was hospitalized at [**hospital6 **] [**dat...   \n",
      "3050  pod1 she was febrile to 102.4, her urine outpu...   \n",
      "3051   coumadin was resumed for history of afib and pe.   \n",
      "3052  aftersurgery he went to the icu with a subgale...   \n",
      "3053  toxicology was consulted becausepatient's pre-...   \n",
      "3054  cxr was consistent withacute pulmonary edema. ...   \n",
      "3055  he was started on a 7 days courseof keflex for...   \n",
      "3056  due to apneaof prematuriyt, patient was starte...   \n",
      "3057  in the night of the13th, he had an episode of ...   \n",
      "3058  on the [**12-13**], he did have one episode of...   \n",
      "3059  of note, he began using nitroglycerin tablets ...   \n",
      "3060  patient was started on dilantin for seizurepro...   \n",
      "3061  recommendedsupportive treatments, and pt was s...   \n",
      "3062  scabies: patient with evidence of scabies on e...   \n",
      "3063  he also reports a several week historyof low b...   \n",
      "3064  the patient was noted to have a monilial rash ...   \n",
      "3065  pt. was in usoh until [**3-28**] 11am, when he...   \n",
      "3066  the patient also had some brief episodes of na...   \n",
      "3067  shewas switched to aggrenox 1-2 years ago but ...   \n",
      "3068  patient was continued onlasix drip and added a...   \n",
      "3069  this ultrasound demonstrated a nonocclusive th...   \n",
      "3070        she was on dilantin for seizureprophylaxis.   \n",
      "3071  bipolar disorder:  the patient was continued o...   \n",
      "3072  she was also given albuterolmdi p.r.n.  she ha...   \n",
      "3073  gout:  this was stable throughout the course o...   \n",
      "3074  he wsa started onlevophed and dopamine and add...   \n",
      "3075  delirium: with waxing and [**doctor last name ...   \n",
      "\n",
      "                                                segment  \\\n",
      "0     allergies:  intravenous iron which leads to an...   \n",
      "1     percocet and keflex which lead to severe gastr...   \n",
      "2     the patient also complained of some right leg ...   \n",
      "3     Patient on appropriate cardiac medications exc...   \n",
      "4     but vomited upon arrival to the[**hospital1 88...   \n",
      "5     generalized convulsive seizure in [**2184**] i...   \n",
      "6     the patient reported that the reason she did n...   \n",
      "7     Patient's doxazosin was held given low BPs, sh...   \n",
      "8     the patient's lasix drip had been stopped due ...   \n",
      "9     discharged from detox program on day ofadmissi...   \n",
      "10    nfectious disease recommendedto discontinue al...   \n",
      "11    while the abdominal pain resolved, the patient...   \n",
      "12    subsequently, the patient developed constipati...   \n",
      "13    in the immediate postoperative period the pati...   \n",
      "14    the patient's heparin drip was d/c'ed on [**21...   \n",
      "15    overall weigth gain sicne starting prednisone ...   \n",
      "16    and was treated on nitrodrip and nitroprusside...   \n",
      "17    additional vasoconstriction in setting of neo ...   \n",
      "18    his post-transplant course has been complicate...   \n",
      "19    the patient is allergic to both penicillin and...   \n",
      "20    in regard to patient's congestive heart failur...   \n",
      "21    due to no coronary artery disease the chest pa...   \n",
      "22    history of chronic kidney disease (stage iv)se...   \n",
      "23    patient states allergies to aspirin which caus...   \n",
      "24    history of hypokalemia secondary to ace inhibi...   \n",
      "25    the patient was begun on a heparin infusion.  ...   \n",
      "26    anaphylaxis:  patient was treated in a code bl...   \n",
      "27    dermatology was consulted and they agreed that...   \n",
      "28    include oxaliplatin which caused hives during ...   \n",
      "29    allergies: morphine from which she develops rash.   \n",
      "...                                                 ...   \n",
      "3046  for treatment of stroke, patient was continued...   \n",
      "3047  he was started on cefazolin forcellulitis of t...   \n",
      "3048  she had audible wheezing on exam. repeat cxr w...   \n",
      "3049  pt was hospitalized at [**hospital6 **] [**dat...   \n",
      "3050  pod1 she was febrile to 102.4, her urine outpu...   \n",
      "3051   coumadin was resumed for history of afib and pe.   \n",
      "3052  aftersurgery he went to the icu with a subgale...   \n",
      "3053  toxicology was consulted becausepatient's pre-...   \n",
      "3054  cxr was consistent withacute pulmonary edema. ...   \n",
      "3055  he was started on a 7 days courseof keflex for...   \n",
      "3056  due to apneaof prematuriyt, patient was starte...   \n",
      "3057  in the night of the13th, he had an episode of ...   \n",
      "3058  on the [**12-13**], he did have one episode of...   \n",
      "3059  of note, he began using nitroglycerin tablets ...   \n",
      "3060  patient was started on dilantin for seizurepro...   \n",
      "3061  recommendedsupportive treatments, and pt was s...   \n",
      "3062  scabies: patient with evidence of scabies on e...   \n",
      "3063  he also reports a several week historyof low b...   \n",
      "3064  the patient was noted to have a monilial rash ...   \n",
      "3065  pt. was in usoh until [**3-28**] 11am, when he...   \n",
      "3066  the patient also had some brief episodes of na...   \n",
      "3067  shewas switched to aggrenox 1-2 years ago but ...   \n",
      "3068  patient was continued onlasix drip and added a...   \n",
      "3069  this ultrasound demonstrated a nonocclusive th...   \n",
      "3070        she was on dilantin for seizureprophylaxis.   \n",
      "3071  bipolar disorder:  the patient was continued o...   \n",
      "3072  she was also given albuterolmdi p.r.n.  she ha...   \n",
      "3073  gout:  this was stable throughout the course o...   \n",
      "3074  he wsa started onlevophed and dopamine and add...   \n",
      "3075  delirium: with waxing and [**doctor last name ...   \n",
      "\n",
      "                                  ae                  drug  label  \n",
      "0                        anaphylaxis                  iron      1  \n",
      "1     severe gastrointestional upset              Percocet      1  \n",
      "2                           weakness              epidural      1  \n",
      "3                            low LDL               statins      1  \n",
      "4                            vomited              Morphine      1  \n",
      "5     generalized convulsive seizure                 Paxil      1  \n",
      "6                            burning              dilantin      1  \n",
      "7                             low BP             doxazosin      1  \n",
      "8            hemodynamic instability                 lasix      1  \n",
      "9              altered mental status             clonidine      1  \n",
      "10                      eosinophilia           antibiotics      1  \n",
      "11                    demented state               Remeron      1  \n",
      "12                      constipation             narcotics      1  \n",
      "13            postoperative bleeding                plavix      1  \n",
      "14                      blood oozing               heparin      1  \n",
      "15                       weigth gain            prednisone      1  \n",
      "16          blood pressure decreased         nitroprusside      1  \n",
      "17                  vasoconstriction                   Neo      1  \n",
      "18               acute kidney injury            tacrolimus      1  \n",
      "19                              rash               codeine      0  \n",
      "20                       hypotension  isosorbide dinitrate      1  \n",
      "21                        chest pain               cocaine      1  \n",
      "22            chronic kidney disease               lithium      1  \n",
      "23                              rash               aspirin      0  \n",
      "24                       hypokalemia        ace inhibitors      1  \n",
      "25                      elevated INR               heparin      1  \n",
      "26                       Anaphylaxis           CT Contrast      1  \n",
      "27                         drug rash             Oxacillin      0  \n",
      "28                             hives           OXALIPLATIN      0  \n",
      "29                              RASH              MORPHINE      0  \n",
      "...                              ...                   ...    ...  \n",
      "3046                          stroke              aggrenox      0  \n",
      "3047                      cellulitis             cefazolin      0  \n",
      "3048                        wheezing            solumedrol      0  \n",
      "3049               copd exacerbation            prednisone      0  \n",
      "3050                     hypotensive              levophed      0  \n",
      "3051                            afib              coumadin      0  \n",
      "3052                         seizure                ativan      0  \n",
      "3053                        delirium             lactulose      0  \n",
      "3054                 pulmonary edema                 lasix      0  \n",
      "3055                        erythema                keflex      0  \n",
      "3056                           apnea              caffeine      0  \n",
      "3057                         dyspnea            furosemide      0  \n",
      "3058                      chest pain         nitroglycerin      0  \n",
      "3059                      chest pain         nitroglycerin      0  \n",
      "3060                         seizure              dilantin      0  \n",
      "3061                            pain             oxycodone      0  \n",
      "3062                         scabies            permethrin      0  \n",
      "3063                         scabies             neurontin      0  \n",
      "3064                            rash              nystatin      0  \n",
      "3065                     diaphoresis                zantac      0  \n",
      "3066                          nausea                zofran      0  \n",
      "3067                        seizures             trileptal      0  \n",
      "3068                        diuresis                 lasix      0  \n",
      "3069                        thrombus               heparin      0  \n",
      "3070                         seizure              dilantin      0  \n",
      "3071                bipolar disorder               lithium      0  \n",
      "3072                        wheezing             albuterol      0  \n",
      "3073                            gout            colchicine      0  \n",
      "3074                     bradycardia              levophed      0  \n",
      "3075                        delirium                haldol      0  \n",
      "\n",
      "[3076 rows x 5 columns]\n"
     ]
    }
   ],
   "source": [
    "print(df_MIMIC_ur) # view dataset"
   ]
  },
  {
   "cell_type": "code",
   "execution_count": 60,
   "metadata": {},
   "outputs": [
    {
     "name": "stdout",
     "output_type": "stream",
     "text": [
      "5355\n",
      "5334\n"
     ]
    }
   ],
   "source": [
    "print(len(df_2009))\n",
    "df_2009=df_2009[df_2009['label']!=9] # remove cases when unsure if drug-AE pair (21 records) inside 2009 datasets\n",
    "print(len(df_2009))"
   ]
  },
  {
   "cell_type": "markdown",
   "metadata": {},
   "source": [
    "## 1. Remove duplicated contexts"
   ]
  },
  {
   "cell_type": "code",
   "execution_count": 61,
   "metadata": {},
   "outputs": [
    {
     "name": "stdout",
     "output_type": "stream",
     "text": [
      "5334\n",
      "321\n",
      "1326\n",
      "1342\n",
      "3076\n"
     ]
    }
   ],
   "source": [
    "# before dropping duplicates\n",
    "print(len(df_2009))\n",
    "print(len(df_2010))\n",
    "print(len(df_2011))\n",
    "print(len(df_MIMIC))\n",
    "print(len(df_MIMIC_ur))"
   ]
  },
  {
   "cell_type": "code",
   "execution_count": 62,
   "metadata": {},
   "outputs": [],
   "source": [
    "# remove records with duplicated contexts\n",
    "df_2009 = df_2009.drop_duplicates(subset='context', keep = 'first')\n",
    "df_2010 = df_2010.drop_duplicates(subset='context', keep = 'first')\n",
    "df_2011 = df_2011.drop_duplicates(subset='context', keep = 'first')\n",
    "df_MIMIC = df_MIMIC.drop_duplicates(subset='context', keep = 'first')\n",
    "df_MIMIC_ur = df_MIMIC_ur.drop_duplicates(subset='context', keep = 'first')"
   ]
  },
  {
   "cell_type": "code",
   "execution_count": 63,
   "metadata": {},
   "outputs": [
    {
     "name": "stdout",
     "output_type": "stream",
     "text": [
      "5088\n",
      "321\n",
      "1326\n",
      "1342\n",
      "3076\n"
     ]
    }
   ],
   "source": [
    "# after dropping duplicates\n",
    "print(len(df_2009))\n",
    "print(len(df_2010))\n",
    "print(len(df_2011))\n",
    "print(len(df_MIMIC))\n",
    "print(len(df_MIMIC_ur))"
   ]
  },
  {
   "cell_type": "markdown",
   "metadata": {},
   "source": [
    "## 2. Replace symbols and acronyms"
   ]
  },
  {
   "cell_type": "code",
   "execution_count": 64,
   "metadata": {},
   "outputs": [],
   "source": [
    "# function to replace symbols and acronyms\n",
    "def replace_acro(text):\n",
    "    text = text.replace(\"->\",\" resulted in \")\n",
    "    text = text.replace(\"?\",\" suspect \")\n",
    "    text = text.replace(\"%\",\" percent \")\n",
    "    text = text.replace(\">\",\" more than \")\n",
    "    text = text.replace(\"<\",\" less than \")\n",
    "    text = text.replace(\"s/p\",\" treated with \")\n",
    "    text = text.replace(\"-ve\",\" negative \")\n",
    "    text = text.replace(\"+ve\",\" positive \")\n",
    "    text = text.replace(\"+\",\" positive \")\n",
    "    text = text.replace(\"f/u\",\" follow up \")\n",
    "    text = text.replace(\"c/x\",\" complicated with \")\n",
    "    text = text.replace(\"s/b\",\" seen by \")\n",
    "    text = text.replace(\"b/l\",\" bilateral \")\n",
    "    text = text.replace(\"p/w\",\" presented with \")\n",
    "    text = text.replace(\" tcu \",\" appointment with \")\n",
    "    text = text.replace(\" kiv \",\" keep in view \")\n",
    "    text = text.replace(\" aor \",\" at own risk \")\n",
    "    text = text.replace(\" abdo \",\" abdomen \")\n",
    "    text = text.replace(\" sob \",\" shortness of breath \")\n",
    "    text = text.replace(\" adl \",\" activities of daily living \")\n",
    "    text = text.replace(\" cx \",\" complicated with \")\n",
    "    text = text.replace(\" tro \",\" to rule out \")\n",
    "    text = text.replace(\" ccod \", \" cause of death \")\n",
    "    text = text.replace(\" dil \",\" dangerously ill \")\n",
    "    text = text.replace(\" dnr \",\" do not resuscitate \")\n",
    "    return text"
   ]
  },
  {
   "cell_type": "code",
   "execution_count": 65,
   "metadata": {},
   "outputs": [],
   "source": [
    "df_2009['segment_2']=df_2009['segment'].apply(lambda x : replace_acro(x))\n",
    "df_2010['segment_2']=df_2010['segment'].apply(lambda x : replace_acro(x))\n",
    "df_2011['segment_2']=df_2011['segment'].apply(lambda x : replace_acro(x))\n",
    "df_MIMIC['segment_2']=df_MIMIC['segment'].apply(lambda x : replace_acro(x))\n",
    "df_MIMIC_ur['segment_2']=df_MIMIC_ur['segment'].apply(lambda x : replace_acro(x))"
   ]
  },
  {
   "cell_type": "code",
   "execution_count": null,
   "metadata": {},
   "outputs": [],
   "source": [
    "df_2009.head()"
   ]
  },
  {
   "cell_type": "markdown",
   "metadata": {},
   "source": [
    "## 3. Remove symbols (non-alphabets and non-digits)"
   ]
  },
  {
   "cell_type": "code",
   "execution_count": 67,
   "metadata": {},
   "outputs": [],
   "source": [
    "# function to remove symbols (non-alphabets and non-digits)\n",
    "def remove_symbols(text):\n",
    "    text = re.sub(\"[^A-Za-z0-9]\", \" \", text)\n",
    "    text=text.strip()\n",
    "    return text"
   ]
  },
  {
   "cell_type": "code",
   "execution_count": 68,
   "metadata": {},
   "outputs": [],
   "source": [
    "df_2009['segment_2']=df_2009['segment_2'].apply(lambda x : remove_symbols(x))\n",
    "df_2010['segment_2']=df_2010['segment_2'].apply(lambda x : remove_symbols(x))\n",
    "df_2011['segment_2']=df_2011['segment_2'].apply(lambda x : remove_symbols(x))\n",
    "df_MIMIC['segment_2']=df_MIMIC['segment_2'].apply(lambda x : remove_symbols(x))\n",
    "df_MIMIC_ur['segment_2']=df_MIMIC_ur['segment_2'].apply(lambda x : remove_symbols(x))"
   ]
  },
  {
   "cell_type": "code",
   "execution_count": 69,
   "metadata": {},
   "outputs": [
    {
     "data": {
      "text/html": [
       "<div>\n",
       "<style scoped>\n",
       "    .dataframe tbody tr th:only-of-type {\n",
       "        vertical-align: middle;\n",
       "    }\n",
       "\n",
       "    .dataframe tbody tr th {\n",
       "        vertical-align: top;\n",
       "    }\n",
       "\n",
       "    .dataframe thead th {\n",
       "        text-align: right;\n",
       "    }\n",
       "</style>\n",
       "<table border=\"1\" class=\"dataframe\">\n",
       "  <thead>\n",
       "    <tr style=\"text-align: right;\">\n",
       "      <th></th>\n",
       "      <th>context</th>\n",
       "      <th>segment</th>\n",
       "      <th>ae</th>\n",
       "      <th>drug</th>\n",
       "      <th>label</th>\n",
       "      <th>segment_2</th>\n",
       "    </tr>\n",
       "  </thead>\n",
       "  <tbody>\n",
       "    <tr>\n",
       "      <th>0</th>\n",
       "      <td>allergies:  intravenous iron which leads to an...</td>\n",
       "      <td>allergies:  intravenous iron which leads to an...</td>\n",
       "      <td>anaphylaxis</td>\n",
       "      <td>iron</td>\n",
       "      <td>1</td>\n",
       "      <td>allergies   intravenous iron which leads to an...</td>\n",
       "    </tr>\n",
       "    <tr>\n",
       "      <th>1</th>\n",
       "      <td>percocet and keflex which lead to severe gastr...</td>\n",
       "      <td>percocet and keflex which lead to severe gastr...</td>\n",
       "      <td>severe gastrointestional upset</td>\n",
       "      <td>Percocet</td>\n",
       "      <td>1</td>\n",
       "      <td>percocet and keflex which lead to severe gastr...</td>\n",
       "    </tr>\n",
       "    <tr>\n",
       "      <th>2</th>\n",
       "      <td>the patient also complained of some right leg ...</td>\n",
       "      <td>the patient also complained of some right leg ...</td>\n",
       "      <td>weakness</td>\n",
       "      <td>epidural</td>\n",
       "      <td>1</td>\n",
       "      <td>the patient also complained of some right leg ...</td>\n",
       "    </tr>\n",
       "    <tr>\n",
       "      <th>3</th>\n",
       "      <td>Patient on appropriate cardiac medications exc...</td>\n",
       "      <td>Patient on appropriate cardiac medications exc...</td>\n",
       "      <td>low LDL</td>\n",
       "      <td>statins</td>\n",
       "      <td>1</td>\n",
       "      <td>Patient on appropriate cardiac medications exc...</td>\n",
       "    </tr>\n",
       "    <tr>\n",
       "      <th>4</th>\n",
       "      <td>but vomited upon arrival to the[**hospital1 88...</td>\n",
       "      <td>but vomited upon arrival to the[**hospital1 88...</td>\n",
       "      <td>vomited</td>\n",
       "      <td>Morphine</td>\n",
       "      <td>1</td>\n",
       "      <td>but vomited upon arrival to the   hospital1 88...</td>\n",
       "    </tr>\n",
       "  </tbody>\n",
       "</table>\n",
       "</div>"
      ],
      "text/plain": [
       "                                             context  \\\n",
       "0  allergies:  intravenous iron which leads to an...   \n",
       "1  percocet and keflex which lead to severe gastr...   \n",
       "2  the patient also complained of some right leg ...   \n",
       "3  Patient on appropriate cardiac medications exc...   \n",
       "4  but vomited upon arrival to the[**hospital1 88...   \n",
       "\n",
       "                                             segment  \\\n",
       "0  allergies:  intravenous iron which leads to an...   \n",
       "1  percocet and keflex which lead to severe gastr...   \n",
       "2  the patient also complained of some right leg ...   \n",
       "3  Patient on appropriate cardiac medications exc...   \n",
       "4  but vomited upon arrival to the[**hospital1 88...   \n",
       "\n",
       "                               ae      drug  label  \\\n",
       "0                     anaphylaxis      iron      1   \n",
       "1  severe gastrointestional upset  Percocet      1   \n",
       "2                        weakness  epidural      1   \n",
       "3                         low LDL   statins      1   \n",
       "4                         vomited  Morphine      1   \n",
       "\n",
       "                                           segment_2  \n",
       "0  allergies   intravenous iron which leads to an...  \n",
       "1  percocet and keflex which lead to severe gastr...  \n",
       "2  the patient also complained of some right leg ...  \n",
       "3  Patient on appropriate cardiac medications exc...  \n",
       "4  but vomited upon arrival to the   hospital1 88...  "
      ]
     },
     "execution_count": 69,
     "metadata": {},
     "output_type": "execute_result"
    }
   ],
   "source": [
    "df_MIMIC_ur.head()"
   ]
  },
  {
   "cell_type": "markdown",
   "metadata": {},
   "source": [
    "## 4. Save to excel file"
   ]
  },
  {
   "cell_type": "code",
   "execution_count": 70,
   "metadata": {},
   "outputs": [],
   "source": [
    "writer = pd.ExcelWriter('train and test processed.xlsx')\n",
    "\n",
    "df_2009.to_excel(writer, sheet_name = 'df_2009', index = False)\n",
    "df_2010.to_excel(writer, sheet_name = 'df_2010', index = False)\n",
    "df_2011.to_excel(writer, sheet_name = 'df_2011', index = False)\n",
    "df_MIMIC.to_excel(writer, sheet_name = 'df_MIMIC', index = False)\n",
    "df_MIMIC_ur.to_excel(writer, sheet_name = 'df_MIMIC_ur', index = False)\n",
    "\n",
    "writer.save()"
   ]
  }
 ],
 "metadata": {
  "kernelspec": {
   "display_name": "Python 3",
   "language": "python",
   "name": "python3"
  },
  "language_info": {
   "codemirror_mode": {
    "name": "ipython",
    "version": 3
   },
   "file_extension": ".py",
   "mimetype": "text/x-python",
   "name": "python",
   "nbconvert_exporter": "python",
   "pygments_lexer": "ipython3",
   "version": "3.7.3"
  }
 },
 "nbformat": 4,
 "nbformat_minor": 2
}
