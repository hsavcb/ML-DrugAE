{
 "cells": [
  {
   "cell_type": "markdown",
   "metadata": {},
   "source": [
    "# Logistic regression\n",
    "\n",
    "In this notebook, we take the predictions from the previous models and train a logistic regression model to give a final probability of the segment containing a true drug-ae pair\n",
    "\n",
    "Outputs used: \n",
    "- tf-idf:naive bayes, stochastic gradient descent, random forest, xgboost\n",
    "- word2vec: stochastic gradient descent, xgboost\n",
    "- lstm"
   ]
  },
  {
   "cell_type": "code",
   "execution_count": 47,
   "metadata": {},
   "outputs": [],
   "source": [
    "import pandas as pd\n",
    "import numpy as np\n",
    "from openpyxl import load_workbook\n",
    "\n",
    "from sklearn.linear_model import LogisticRegression\n",
    "from sklearn.metrics import classification_report"
   ]
  },
  {
   "cell_type": "code",
   "execution_count": 48,
   "metadata": {},
   "outputs": [],
   "source": [
    "# Name of train and test dataset\n",
    "# Change according to test/train dataset chosen\n",
    "\n",
    "train_worksheet = 'train_5'# 1 to 5\n",
    "test_worksheet = 'test_5' # 1 to 5\n"
   ]
  },
  {
   "cell_type": "code",
   "execution_count": 49,
   "metadata": {},
   "outputs": [],
   "source": [
    "# ***************** # IMPORT TRAINING DATASET\n",
    "# Change according to test/train dataset chosen\n",
    "\n",
    "train_tfidf= pd.read_excel(r'.\\results_k_fold_tfidf.xlsx', sheet_name = train_worksheet)\n",
    "train_w2v= pd.read_excel(r'.\\results_k_fold_w2v.xlsx', sheet_name = train_worksheet)\n",
    "train_lstm= pd.read_excel(r'.\\results_k_fold_lstm.xlsx', sheet_name = train_worksheet)\n",
    "\n",
    "test_tfidf= pd.read_excel(r'.\\results_k_fold_tfidf.xlsx', sheet_name = test_worksheet)\n",
    "test_w2v= pd.read_excel(r'.\\results_k_fold_w2v.xlsx', sheet_name = test_worksheet)\n",
    "test_lstm= pd.read_excel(r'.\\results_k_fold_lstm.xlsx', sheet_name = test_worksheet)"
   ]
  },
  {
   "cell_type": "code",
   "execution_count": 50,
   "metadata": {},
   "outputs": [],
   "source": [
    "# *************** # Merge columns into single dataset\n",
    "train = pd.DataFrame({'context':train_tfidf['context'].tolist(),\n",
    "                        'segment_2':train_tfidf['segment_2'].tolist(),\n",
    "                        'drug':train_tfidf['drug'].tolist(),\n",
    "                        'ae': train_tfidf['ae'].tolist(),\n",
    "                        'label':train_tfidf['label'].tolist(),\n",
    "                        'prob_tfidf_nb':train_tfidf['prob_tfidf_nb'].tolist(),\n",
    "                        'prob_tfidf_sgd':train_tfidf['prob_tfidf_sgd'].tolist(),\n",
    "                        'prob_tfidf_rf':train_tfidf['prob_tfidf_rf'].tolist(),\n",
    "                        'prob_tfidf_xgb':train_tfidf['prob_tfidf_xgb'].tolist(),\n",
    "                        'prob_word2vec_sgd':train_w2v['prob_word2vec_sgd'].tolist(),\n",
    "                        'prob_word2vec_xgb':train_w2v['prob_word2vec_xgb'].tolist(),\n",
    "                        'pred_lstm':train_lstm['pred_lstm'].tolist(),\n",
    "                        })\n",
    "\n",
    "test = pd.DataFrame({'context':test_tfidf['context'].tolist(),\n",
    "                        'segment_2':test_tfidf['segment_2'].tolist(),\n",
    "                        'drug':test_tfidf['drug'].tolist(),\n",
    "                        'ae': test_tfidf['ae'].tolist(),\n",
    "                        'label':test_tfidf['label'].tolist(),\n",
    "                        'prob_tfidf_nb':test_tfidf['prob_tfidf_nb'].tolist(),\n",
    "                        'prob_tfidf_sgd':test_tfidf['prob_tfidf_sgd'].tolist(),\n",
    "                        'prob_tfidf_rf':test_tfidf['prob_tfidf_rf'].tolist(),\n",
    "                        'prob_tfidf_xgb':test_tfidf['prob_tfidf_xgb'].tolist(),\n",
    "                        'prob_word2vec_sgd':test_w2v['prob_word2vec_sgd'].tolist(),\n",
    "                        'prob_word2vec_xgb':test_w2v['prob_word2vec_xgb'].tolist(),\n",
    "                        'pred_lstm':test_lstm['pred_lstm'].tolist(),\n",
    "                        })"
   ]
  },
  {
   "cell_type": "code",
   "execution_count": null,
   "metadata": {},
   "outputs": [],
   "source": [
    "train.head()"
   ]
  },
  {
   "cell_type": "code",
   "execution_count": null,
   "metadata": {},
   "outputs": [],
   "source": [
    "test.head()"
   ]
  },
  {
   "cell_type": "markdown",
   "metadata": {},
   "source": [
    "## Logistic regression"
   ]
  },
  {
   "cell_type": "code",
   "execution_count": 53,
   "metadata": {},
   "outputs": [],
   "source": [
    "# CREATE ARRAYS FOR TRAINING AND TESTING\n",
    "\n",
    "x_train = train[['prob_tfidf_nb','prob_tfidf_sgd','prob_tfidf_rf','prob_tfidf_xgb','prob_word2vec_sgd','prob_word2vec_xgb','pred_lstm']]\n",
    "y_train = train['label']\n",
    "\n",
    "x_test = test[['prob_tfidf_nb','prob_tfidf_sgd','prob_tfidf_rf','prob_tfidf_xgb','prob_word2vec_sgd','prob_word2vec_xgb','pred_lstm']]\n",
    "y_test = test['label']"
   ]
  },
  {
   "cell_type": "code",
   "execution_count": 54,
   "metadata": {},
   "outputs": [],
   "source": [
    "model = LogisticRegression()"
   ]
  },
  {
   "cell_type": "code",
   "execution_count": 55,
   "metadata": {},
   "outputs": [
    {
     "name": "stderr",
     "output_type": "stream",
     "text": [
      "C:\\Program Files\\Anaconda3\\lib\\site-packages\\sklearn\\linear_model\\logistic.py:433: FutureWarning: Default solver will be changed to 'lbfgs' in 0.22. Specify a solver to silence this warning.\n",
      "  FutureWarning)\n"
     ]
    },
    {
     "data": {
      "text/plain": [
       "LogisticRegression(C=1.0, class_weight=None, dual=False, fit_intercept=True,\n",
       "          intercept_scaling=1, max_iter=100, multi_class='warn',\n",
       "          n_jobs=None, penalty='l2', random_state=None, solver='warn',\n",
       "          tol=0.0001, verbose=0, warm_start=False)"
      ]
     },
     "execution_count": 55,
     "metadata": {},
     "output_type": "execute_result"
    }
   ],
   "source": [
    "# fit log regression model\n",
    "model.fit(x_train, y_train)"
   ]
  },
  {
   "cell_type": "code",
   "execution_count": 56,
   "metadata": {},
   "outputs": [],
   "source": [
    "y_pred = model.predict(x_test)"
   ]
  },
  {
   "cell_type": "code",
   "execution_count": 57,
   "metadata": {},
   "outputs": [
    {
     "name": "stdout",
     "output_type": "stream",
     "text": [
      "              precision    recall  f1-score   support\n",
      "\n",
      "           0       0.96      0.79      0.87       888\n",
      "           1       0.35      0.79      0.49       129\n",
      "\n",
      "   micro avg       0.79      0.79      0.79      1017\n",
      "   macro avg       0.66      0.79      0.68      1017\n",
      "weighted avg       0.89      0.79      0.82      1017\n",
      "\n"
     ]
    }
   ],
   "source": [
    "print(classification_report(y_test, y_pred))"
   ]
  },
  {
   "cell_type": "markdown",
   "metadata": {},
   "source": [
    "## Get probability scoring and save to excel sheet"
   ]
  },
  {
   "cell_type": "code",
   "execution_count": 58,
   "metadata": {},
   "outputs": [],
   "source": [
    "y_prob = model.predict_proba(x_test) # probability output by the regression model for the testing set\n",
    "y_prob_train = model.predict_proba(x_train) # probability output by the regression model for the training set"
   ]
  },
  {
   "cell_type": "code",
   "execution_count": 59,
   "metadata": {},
   "outputs": [
    {
     "data": {
      "text/plain": [
       "array([[0.83635734, 0.16364266],\n",
       "       [0.64713839, 0.35286161],\n",
       "       [0.03777321, 0.96222679],\n",
       "       ...,\n",
       "       [0.00933025, 0.99066975],\n",
       "       [0.9667022 , 0.0332978 ],\n",
       "       [0.9121983 , 0.0878017 ]])"
      ]
     },
     "execution_count": 59,
     "metadata": {},
     "output_type": "execute_result"
    }
   ],
   "source": [
    "y_prob"
   ]
  },
  {
   "cell_type": "code",
   "execution_count": 60,
   "metadata": {},
   "outputs": [],
   "source": [
    "# Combine results to dataframe\n",
    "test['logreg_prob']=y_prob[:,1].tolist()\n",
    "train['logreg_prob']=y_prob_train[:,1].tolist()"
   ]
  },
  {
   "cell_type": "code",
   "execution_count": 61,
   "metadata": {},
   "outputs": [],
   "source": [
    "book=load_workbook(r'./logistic_k_fold.xlsx')\n",
    "writer = pd.ExcelWriter(r'./logistic_k_fold.xlsx', engine = 'openpyxl')\n",
    "writer.book = book\n",
    "writer.sheets = dict((ws.title, ws) for ws in book.worksheets)\n",
    "\n",
    "train.to_excel(writer, sheet_name = train_worksheet, index=False)\n",
    "test.to_excel(writer, sheet_name = test_worksheet, index=False)\n",
    "\n",
    "writer.save()"
   ]
  }
 ],
 "metadata": {
  "kernelspec": {
   "display_name": "Python 3",
   "language": "python",
   "name": "python3"
  },
  "language_info": {
   "codemirror_mode": {
    "name": "ipython",
    "version": 3
   },
   "file_extension": ".py",
   "mimetype": "text/x-python",
   "name": "python",
   "nbconvert_exporter": "python",
   "pygments_lexer": "ipython3",
   "version": "3.7.3"
  }
 },
 "nbformat": 4,
 "nbformat_minor": 2
}
