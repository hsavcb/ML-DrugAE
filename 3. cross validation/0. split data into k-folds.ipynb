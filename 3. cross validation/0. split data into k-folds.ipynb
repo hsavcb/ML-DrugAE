{
 "cells": [
  {
   "cell_type": "markdown",
   "metadata": {},
   "source": [
    "# Split data into k-folds\n",
    "\n",
    "- This notebook consists of two parts in preparing for k-fold cross validation\n",
    "- First, we will split the data into k folds and extract the training and test sets for each fold\n",
    "- Then, we will conduct undersampling of the '0' class on the training sets\n",
    "- The training and test sets for each fold will be saved in an excel file."
   ]
  },
  {
   "cell_type": "code",
   "execution_count": 1,
   "metadata": {},
   "outputs": [],
   "source": [
    "from sklearn.model_selection import KFold\n",
    "import numpy as np\n",
    "import pandas as pd\n",
    "import matplotlib.pyplot as plt"
   ]
  },
  {
   "cell_type": "code",
   "execution_count": null,
   "metadata": {},
   "outputs": [],
   "source": [
    "# import data and set the range to be number of rows\n",
    "# ***************** # IMPORT DATASET\n",
    "df_2009 = pd.read_excel(r'.\\train and test processed.xlsx')\n",
    "df_2009.head()"
   ]
  },
  {
   "cell_type": "markdown",
   "metadata": {},
   "source": [
    "## Splitting data into k folds"
   ]
  },
  {
   "cell_type": "code",
   "execution_count": 3,
   "metadata": {},
   "outputs": [],
   "source": [
    "# to demonstrate how the data are split, we will create 3 and 5 folds\n",
    "# KFold function has to be applied on the data and it returns a location\n",
    "kf5 = KFold(n_splits=5, shuffle =False)\n",
    "kf3 = KFold(n_splits=3, shuffle =False)"
   ]
  },
  {
   "cell_type": "code",
   "execution_count": 4,
   "metadata": {},
   "outputs": [],
   "source": [
    "def kfoldize(kf, df):\n",
    "    train = pd.DataFrame()\n",
    "    test = pd.DataFrame()\n",
    "    i=1\n",
    "    for train_index, test_index in kf.split(range(len(df))):\n",
    "        train_df = df.iloc[train_index]\n",
    "        train_df[\"val\"]=i\n",
    "        train = train.append(train_df)\n",
    "        \n",
    "        test_df = df.iloc[test_index]\n",
    "        test_df[\"val\"]=i\n",
    "        test = test.append(test_df)\n",
    "        i+= 1\n",
    "    return train, test"
   ]
  },
  {
   "cell_type": "code",
   "execution_count": 5,
   "metadata": {},
   "outputs": [
    {
     "name": "stderr",
     "output_type": "stream",
     "text": [
      "C:\\Program Files\\Anaconda3\\lib\\site-packages\\ipykernel_launcher.py:7: SettingWithCopyWarning: \n",
      "A value is trying to be set on a copy of a slice from a DataFrame.\n",
      "Try using .loc[row_indexer,col_indexer] = value instead\n",
      "\n",
      "See the caveats in the documentation: http://pandas.pydata.org/pandas-docs/stable/indexing.html#indexing-view-versus-copy\n",
      "  import sys\n",
      "C:\\Program Files\\Anaconda3\\lib\\site-packages\\ipykernel_launcher.py:11: SettingWithCopyWarning: \n",
      "A value is trying to be set on a copy of a slice from a DataFrame.\n",
      "Try using .loc[row_indexer,col_indexer] = value instead\n",
      "\n",
      "See the caveats in the documentation: http://pandas.pydata.org/pandas-docs/stable/indexing.html#indexing-view-versus-copy\n",
      "  # This is added back by InteractiveShellApp.init_path()\n"
     ]
    }
   ],
   "source": [
    "train5, test5= kfoldize(kf5, df_2009)"
   ]
  },
  {
   "cell_type": "code",
   "execution_count": null,
   "metadata": {},
   "outputs": [],
   "source": [
    "train5"
   ]
  },
  {
   "cell_type": "code",
   "execution_count": null,
   "metadata": {},
   "outputs": [],
   "source": [
    "test5"
   ]
  },
  {
   "cell_type": "markdown",
   "metadata": {},
   "source": [
    "## Undersample test datasets\n",
    "\n",
    "- In this study, we will only sample the training set for each fold"
   ]
  },
  {
   "cell_type": "code",
   "execution_count": 8,
   "metadata": {},
   "outputs": [],
   "source": [
    "# Define the training dataframes\n",
    "\n",
    "train_fold_1 = train5[train5['val']==1]\n",
    "train_fold_2 = train5[train5['val']==2]\n",
    "train_fold_3 = train5[train5['val']==3]\n",
    "train_fold_4 = train5[train5['val']==4]\n",
    "train_fold_5 = train5[train5['val']==5]"
   ]
  },
  {
   "cell_type": "code",
   "execution_count": 9,
   "metadata": {},
   "outputs": [],
   "source": [
    "# Define the testing dataframes\n",
    "\n",
    "test_fold_1 = test5[test5['val']==1]\n",
    "test_fold_2 = test5[test5['val']==2]\n",
    "test_fold_3 = test5[test5['val']==3]\n",
    "test_fold_4 = test5[test5['val']==4]\n",
    "test_fold_5 = test5[test5['val']==5]"
   ]
  },
  {
   "cell_type": "code",
   "execution_count": 10,
   "metadata": {},
   "outputs": [],
   "source": [
    "# Randomly sample the negative examples\n",
    "\n",
    "def undersample(df):\n",
    "    positive = df[df['label']==1]\n",
    "    negative = df[df['label']==0]\n",
    "    negative_us = negative.sample(n=len(positive), replace=False, random_state=1)\n",
    "    us = positive.append(negative_us)\n",
    "    return us"
   ]
  },
  {
   "cell_type": "code",
   "execution_count": 11,
   "metadata": {},
   "outputs": [],
   "source": [
    "# Apply undersampling function on all 5 training sets\n",
    "\n",
    "train_fold_1_us = undersample(train_fold_1)\n",
    "train_fold_2_us = undersample(train_fold_2)\n",
    "train_fold_3_us = undersample(train_fold_3)\n",
    "train_fold_4_us = undersample(train_fold_4)\n",
    "train_fold_5_us = undersample(train_fold_5)"
   ]
  },
  {
   "cell_type": "code",
   "execution_count": null,
   "metadata": {},
   "outputs": [],
   "source": [
    "train_fold_1_us"
   ]
  },
  {
   "cell_type": "code",
   "execution_count": null,
   "metadata": {},
   "outputs": [],
   "source": [
    "train_fold_1[train_fold_1['label']==1]"
   ]
  },
  {
   "cell_type": "code",
   "execution_count": 14,
   "metadata": {},
   "outputs": [
    {
     "data": {
      "text/plain": [
       "count    4071.000000\n",
       "mean        0.132891\n",
       "std         0.339499\n",
       "min         0.000000\n",
       "25%         0.000000\n",
       "50%         0.000000\n",
       "75%         0.000000\n",
       "max         1.000000\n",
       "Name: label, dtype: float64"
      ]
     },
     "execution_count": 14,
     "metadata": {},
     "output_type": "execute_result"
    }
   ],
   "source": [
    "train_fold_5['label'].describe()"
   ]
  },
  {
   "cell_type": "code",
   "execution_count": 15,
   "metadata": {},
   "outputs": [
    {
     "data": {
      "text/plain": [
       "count    1086.00000\n",
       "mean        0.50000\n",
       "std         0.50023\n",
       "min         0.00000\n",
       "25%         0.00000\n",
       "50%         0.50000\n",
       "75%         1.00000\n",
       "max         1.00000\n",
       "Name: label, dtype: float64"
      ]
     },
     "execution_count": 15,
     "metadata": {},
     "output_type": "execute_result"
    }
   ],
   "source": [
    "train_fold_1_us['label'].describe()"
   ]
  },
  {
   "cell_type": "markdown",
   "metadata": {},
   "source": [
    "## Save to excel"
   ]
  },
  {
   "cell_type": "code",
   "execution_count": 16,
   "metadata": {},
   "outputs": [],
   "source": [
    "writer = pd.ExcelWriter('train_k_fold.xlsx')\n",
    "\n",
    "train_fold_1_us.to_excel(writer, sheet_name = 'train_1',index=False)\n",
    "test_fold_1.to_excel(writer, sheet_name = 'test_1',index=False)\n",
    "train_fold_2_us.to_excel(writer, sheet_name = 'train_2',index=False)\n",
    "test_fold_2.to_excel(writer, sheet_name = 'test_2',index=False)\n",
    "train_fold_3_us.to_excel(writer, sheet_name = 'train_3',index=False)\n",
    "test_fold_3.to_excel(writer, sheet_name = 'test_3',index=False)\n",
    "train_fold_4_us.to_excel(writer, sheet_name = 'train_4',index=False)\n",
    "test_fold_4.to_excel(writer, sheet_name = 'test_4',index=False)\n",
    "train_fold_5_us.to_excel(writer, sheet_name = 'train_5',index=False)\n",
    "test_fold_5.to_excel(writer, sheet_name = 'test_5',index=False)\n",
    "\n",
    "writer.save()"
   ]
  }
 ],
 "metadata": {
  "kernelspec": {
   "display_name": "Python 3",
   "language": "python",
   "name": "python3"
  },
  "language_info": {
   "codemirror_mode": {
    "name": "ipython",
    "version": 3
   },
   "file_extension": ".py",
   "mimetype": "text/x-python",
   "name": "python",
   "nbconvert_exporter": "python",
   "pygments_lexer": "ipython3",
   "version": "3.7.3"
  }
 },
 "nbformat": 4,
 "nbformat_minor": 2
}
