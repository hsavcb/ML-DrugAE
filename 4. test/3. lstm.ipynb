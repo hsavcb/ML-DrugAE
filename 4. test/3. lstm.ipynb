{
 "cells": [
  {
   "cell_type": "markdown",
   "metadata": {},
   "source": [
    "# Applying lstm\n",
    "\n",
    "This notebook applies lstm model on the training set to determine if each context contains a (non-ae) drug-ae pair."
   ]
  },
  {
   "cell_type": "code",
   "execution_count": 2,
   "metadata": {},
   "outputs": [],
   "source": [
    "# Using a simple LSTM to classify text\n",
    "import pandas as pd\n",
    "import numpy as np\n",
    "import matplotlib.pyplot as plt\n",
    "import seaborn as sns\n",
    "import re\n",
    "from sklearn.model_selection import train_test_split\n",
    "from sklearn.preprocessing import LabelEncoder\n",
    "from tensorflow.keras.models import Model\n",
    "from tensorflow.keras.layers import LSTM, Activation, Dense, Dropout, Input, Embedding\n",
    "from tensorflow.keras.optimizers import RMSprop\n",
    "from tensorflow.keras.preprocessing.text import Tokenizer\n",
    "from tensorflow.keras.preprocessing import sequence\n",
    "from tensorflow.keras.utils import to_categorical\n",
    "from tensorflow.keras.callbacks import EarlyStopping\n",
    "from nltk.tokenize import word_tokenize\n",
    "from nltk.corpus import stopwords\n",
    "from nltk.stem import PorterStemmer\n",
    "from openpyxl import load_workbook\n",
    "\n",
    "from sklearn.metrics import roc_curve\n",
    "from sklearn.metrics import roc_auc_score\n",
    "from sklearn.metrics import confusion_matrix\n",
    "from sklearn.metrics import classification_report\n",
    "%matplotlib inline"
   ]
  },
  {
   "cell_type": "code",
   "execution_count": 3,
   "metadata": {},
   "outputs": [],
   "source": [
    "# Name of train and test dataset\n",
    "# Change according to test/train dataset chosen\n",
    "\n",
    "train_worksheet = 'df_2009_us'# 2009 training set\n",
    "test_worksheet = 'df_testing_all' # test set - 2010, 2011, MIMIC, MIMIC_unrestricted\n"
   ]
  },
  {
   "cell_type": "code",
   "execution_count": null,
   "metadata": {},
   "outputs": [],
   "source": [
    "# ***************** # IMPORT TRAINING DATASET\n",
    "df_tr = pd.read_excel(r'.\\train undersampled.xlsx', sheet_name = train_worksheet)\n",
    "df_tr.head()"
   ]
  },
  {
   "cell_type": "code",
   "execution_count": 5,
   "metadata": {},
   "outputs": [
    {
     "data": {
      "text/plain": [
       "1340"
      ]
     },
     "execution_count": 5,
     "metadata": {},
     "output_type": "execute_result"
    }
   ],
   "source": [
    "len(df_tr)"
   ]
  },
  {
   "cell_type": "code",
   "execution_count": 6,
   "metadata": {},
   "outputs": [
    {
     "name": "stdout",
     "output_type": "stream",
     "text": [
      "length of test data:  6065\n"
     ]
    }
   ],
   "source": [
    "# ***************** # IMPORT TESTING DATASET\n",
    "df_te = pd.read_excel(r'.\\train and test processed.xlsx', sheet_name = test_worksheet)\n",
    "print('length of test data: ', len(df_te))"
   ]
  },
  {
   "cell_type": "code",
   "execution_count": 7,
   "metadata": {},
   "outputs": [],
   "source": [
    "# FUNCTIONS FOR DATA CLEANING\n",
    "\n",
    "# remove stopwords\n",
    "stop=set(stopwords.words('english'))\n",
    "def remove_stopwords(text):\n",
    "    if text is not None:\n",
    "        tokens = [x for x in word_tokenize(text) if x not in stop]\n",
    "        return \" \".join(tokens)\n",
    "    else:\n",
    "        return None\n",
    "\n",
    "# stemming\n",
    "porter=PorterStemmer()\n",
    "def stemSentence(text):\n",
    "    token_words=word_tokenize(text)\n",
    "    stem_sentence =[]\n",
    "    for word in token_words:\n",
    "        stem_sentence.append(porter.stem(word))\n",
    "        stem_sentence.append(\" \")\n",
    "    return \"\".join(stem_sentence)\n",
    "\n",
    "# remove digits\n",
    "def remove_digits(text):\n",
    "    digitpattern = '[0-9]'\n",
    "    token_words=word_tokenize(text)\n",
    "    digit_removed= [re.sub(digitpattern,'', i) for i in token_words]\n",
    "    return \" \".join(digit_removed)\n",
    "\n",
    "df_tr['segment_2']=df_tr['segment_2'].apply(lambda x : remove_stopwords(x))\n",
    "df_tr['segment_2']=df_tr['segment_2'].apply(lambda x : remove_digits(x))\n",
    "df_tr['segment_2']=df_tr['segment_2'].apply(lambda x : stemSentence(x))\n",
    "\n",
    "df_te['segment_2']=df_te['segment_2'].apply(lambda x : remove_stopwords(x))\n",
    "df_te['segment_2']=df_te['segment_2'].apply(lambda x : remove_digits(x))\n",
    "df_te['segment_2']=df_te['segment_2'].apply(lambda x : stemSentence(x))"
   ]
  },
  {
   "cell_type": "code",
   "execution_count": null,
   "metadata": {},
   "outputs": [],
   "source": [
    "df_te.head()"
   ]
  },
  {
   "cell_type": "code",
   "execution_count": 9,
   "metadata": {},
   "outputs": [
    {
     "data": {
      "text/plain": [
       "<matplotlib.axes._subplots.AxesSubplot at 0x22428b38d68>"
      ]
     },
     "execution_count": 9,
     "metadata": {},
     "output_type": "execute_result"
    },
    {
     "data": {
      "image/png": "[encoded data removed]",
      "text/plain": [
       "<Figure size 432x288 with 1 Axes>"
      ]
     },
     "metadata": {
      "needs_background": "light"
     },
     "output_type": "display_data"
    }
   ],
   "source": [
    "# Understand the distribution better\n",
    "sns.countplot(df_tr.label)"
   ]
  },
  {
   "cell_type": "code",
   "execution_count": 10,
   "metadata": {},
   "outputs": [
    {
     "data": {
      "text/plain": [
       "<matplotlib.axes._subplots.AxesSubplot at 0x22428d8ea58>"
      ]
     },
     "execution_count": 10,
     "metadata": {},
     "output_type": "execute_result"
    },
    {
     "data": {
      "image/png": "[encoded data removed]",
      "text/plain": [
       "<Figure size 432x288 with 1 Axes>"
      ]
     },
     "metadata": {
      "needs_background": "light"
     },
     "output_type": "display_data"
    }
   ],
   "source": [
    "# Understand the distribution better\n",
    "sns.countplot(df_te.label)"
   ]
  },
  {
   "cell_type": "code",
   "execution_count": 11,
   "metadata": {},
   "outputs": [],
   "source": [
    "# Create input and output vectors\n",
    "# process the labels\n",
    "\n",
    "X_train=df_tr.segment_2\n",
    "X_test=df_te.segment_2\n",
    "\n",
    "le=LabelEncoder()\n",
    "Y_train=df_tr.label\n",
    "Y_train=le.fit_transform(Y_train)\n",
    "Y_train=Y_train.reshape(-1,1)\n",
    "\n",
    "le=LabelEncoder()\n",
    "Y_test=df_te.label\n",
    "Y_test=le.fit_transform(Y_test)\n",
    "Y_test=Y_test.reshape(-1,1)"
   ]
  },
  {
   "cell_type": "code",
   "execution_count": 12,
   "metadata": {},
   "outputs": [],
   "source": [
    "# Process the data\n",
    "# Tokenize the data and convert the text to sequences\n",
    "# Add padding to ensure that all the sequences have the same shape\n",
    "# There are many ways of taking the max_len and here an arbitrary length of 500 is chosen\n",
    "\n",
    "max_words = 10000\n",
    "max_len = 500\n",
    "embedding_dim = 200\n",
    "tok = Tokenizer(num_words=max_words)\n",
    "tok.fit_on_texts(X_train)\n",
    "sequences = tok.texts_to_sequences(X_train)\n",
    "sequences_matrix = sequence.pad_sequences(sequences,maxlen=max_len)"
   ]
  },
  {
   "cell_type": "code",
   "execution_count": 13,
   "metadata": {},
   "outputs": [
    {
     "data": {
      "text/plain": [
       "array([[   0,    0,    0, ..., 1383,  159,  930],\n",
       "       [   0,    0,    0, ...,  931,  255,  606],\n",
       "       [   0,    0,    0, ...,  728,  313, 1384],\n",
       "       ...,\n",
       "       [   0,    0,    0, ...,  205,  208,  478],\n",
       "       [   0,    0,    0, ...,  248,  161,  643],\n",
       "       [   0,    0,    0, ...,   17,    3,   18]])"
      ]
     },
     "execution_count": 13,
     "metadata": {},
     "output_type": "execute_result"
    }
   ],
   "source": [
    "sequences_matrix"
   ]
  },
  {
   "cell_type": "code",
   "execution_count": 14,
   "metadata": {},
   "outputs": [],
   "source": [
    "# Define the RNN structure\n",
    "\n",
    "def RNN():\n",
    "    inputs = Input(name='inputs', shape=[max_len])\n",
    "    layer = Embedding(max_words, embedding_dim, input_length = max_len)(inputs)\n",
    "    layer = LSTM(128)(layer)\n",
    "    layer = Dense(64, name ='FC1')(layer)\n",
    "    layer = Activation('relu')(layer)\n",
    "    layer = Dropout(0.5)(layer)\n",
    "    layer = Dense(1, name='out_layer')(layer)\n",
    "    layer = Activation('sigmoid')(layer)\n",
    "    model = Model(inputs=inputs, outputs=layer)\n",
    "    return model"
   ]
  },
  {
   "cell_type": "code",
   "execution_count": 15,
   "metadata": {},
   "outputs": [
    {
     "name": "stdout",
     "output_type": "stream",
     "text": [
      "Model: \"model\"\n",
      "_________________________________________________________________\n",
      "Layer (type)                 Output Shape              Param #   \n",
      "=================================================================\n",
      "inputs (InputLayer)          [(None, 500)]             0         \n",
      "_________________________________________________________________\n",
      "embedding (Embedding)        (None, 500, 200)          2000000   \n",
      "_________________________________________________________________\n",
      "lstm (LSTM)                  (None, 128)               168448    \n",
      "_________________________________________________________________\n",
      "FC1 (Dense)                  (None, 64)                8256      \n",
      "_________________________________________________________________\n",
      "activation (Activation)      (None, 64)                0         \n",
      "_________________________________________________________________\n",
      "dropout (Dropout)            (None, 64)                0         \n",
      "_________________________________________________________________\n",
      "out_layer (Dense)            (None, 1)                 65        \n",
      "_________________________________________________________________\n",
      "activation_1 (Activation)    (None, 1)                 0         \n",
      "=================================================================\n",
      "Total params: 2,176,769\n",
      "Trainable params: 2,176,769\n",
      "Non-trainable params: 0\n",
      "_________________________________________________________________\n"
     ]
    }
   ],
   "source": [
    "# Call the function and compile the model\n",
    "\n",
    "model = RNN()\n",
    "model.summary()\n",
    "model.compile(loss='binary_crossentropy',optimizer='adam',metrics=['accuracy'])"
   ]
  },
  {
   "cell_type": "code",
   "execution_count": 16,
   "metadata": {
    "scrolled": true
   },
   "outputs": [
    {
     "name": "stdout",
     "output_type": "stream",
     "text": [
      "Train on 804 samples, validate on 536 samples\n",
      "Epoch 1/100\n",
      "804/804 [==============================] - 62s 77ms/sample - loss: 0.5914 - accuracy: 0.8060 - val_loss: 2.5953 - val_accuracy: 0.0000e+00\n",
      "Epoch 2/100\n",
      "804/804 [==============================] - 73s 91ms/sample - loss: 0.4602 - accuracy: 0.8333 - val_loss: 1.2633 - val_accuracy: 0.0000e+00\n",
      "Epoch 3/100\n",
      "804/804 [==============================] - 79s 98ms/sample - loss: 0.4230 - accuracy: 0.8333 - val_loss: 1.9068 - val_accuracy: 0.0000e+00\n",
      "Epoch 4/100\n",
      "804/804 [==============================] - 87s 108ms/sample - loss: 0.3838 - accuracy: 0.8383 - val_loss: 1.2398 - val_accuracy: 0.0336\n",
      "Epoch 5/100\n",
      "804/804 [==============================] - 94s 117ms/sample - loss: 0.3343 - accuracy: 0.9104 - val_loss: 1.4107 - val_accuracy: 0.0765\n",
      "Epoch 6/100\n",
      "804/804 [==============================] - 96s 119ms/sample - loss: 0.2376 - accuracy: 0.9104 - val_loss: 1.4144 - val_accuracy: 0.2593\n",
      "Epoch 7/100\n",
      "804/804 [==============================] - 83s 103ms/sample - loss: 0.1382 - accuracy: 0.9652 - val_loss: 1.4860 - val_accuracy: 0.4049\n",
      "Epoch 8/100\n",
      "804/804 [==============================] - 72s 89ms/sample - loss: 0.0790 - accuracy: 0.9776 - val_loss: 1.6789 - val_accuracy: 0.4142\n",
      "Epoch 9/100\n",
      "804/804 [==============================] - 76s 94ms/sample - loss: 0.0360 - accuracy: 0.9938 - val_loss: 2.0196 - val_accuracy: 0.3881\n",
      "Epoch 10/100\n",
      "804/804 [==============================] - 80s 99ms/sample - loss: 0.0238 - accuracy: 0.9963 - val_loss: 2.3726 - val_accuracy: 0.4216\n",
      "Epoch 11/100\n",
      "804/804 [==============================] - 92s 114ms/sample - loss: 0.0136 - accuracy: 0.9975 - val_loss: 3.1173 - val_accuracy: 0.3358\n",
      "Epoch 12/100\n",
      "804/804 [==============================] - 101s 126ms/sample - loss: 0.0141 - accuracy: 0.9975 - val_loss: 3.2598 - val_accuracy: 0.3470\n",
      "Epoch 13/100\n",
      "804/804 [==============================] - 96s 119ms/sample - loss: 0.0137 - accuracy: 0.9975 - val_loss: 2.7518 - val_accuracy: 0.4049\n",
      "Epoch 14/100\n",
      "804/804 [==============================] - 99s 123ms/sample - loss: 0.0083 - accuracy: 0.9975 - val_loss: 2.7443 - val_accuracy: 0.4179\n"
     ]
    }
   ],
   "source": [
    "# This callback will stop the training when there is no improvement in the validation loss for 3 consecutive epochs\n",
    "callback = EarlyStopping(monitor='val_loss',patience=10)\n",
    "\n",
    "# Fit on the training data\n",
    "# history = model.fit(sequences_matrix, Y_train, batch_size=10, epochs=50, validation_split=0.8)\n",
    "history = model.fit(sequences_matrix, Y_train, batch_size=100, epochs=100, validation_split=0.4, callbacks=[callback])"
   ]
  },
  {
   "cell_type": "code",
   "execution_count": 17,
   "metadata": {},
   "outputs": [
    {
     "data": {
      "image/png": "[encoded data removed]",
      "text/plain": [
       "<Figure size 432x288 with 1 Axes>"
      ]
     },
     "metadata": {
      "needs_background": "light"
     },
     "output_type": "display_data"
    }
   ],
   "source": [
    "# Plot train and validation loss\n",
    "\n",
    "plt.plot(history.history['loss'])\n",
    "plt.plot(history.history['val_loss'])\n",
    "plt.title('model train vs validation loss')\n",
    "plt.ylabel('loss')\n",
    "plt.xlabel('epoch')\n",
    "plt.legend(['train','validation'],loc='upper right')\n",
    "plt.show()"
   ]
  },
  {
   "cell_type": "code",
   "execution_count": 18,
   "metadata": {},
   "outputs": [],
   "source": [
    "# Use this model on the train set to get the prediction values\n",
    "\n",
    "train_sequences = tok.texts_to_sequences(X_train)\n",
    "train_sequences_matrix = sequence.pad_sequences(train_sequences, maxlen=max_len)\n",
    "prediction_train = model.predict(train_sequences_matrix, verbose=0)"
   ]
  },
  {
   "cell_type": "code",
   "execution_count": 19,
   "metadata": {},
   "outputs": [],
   "source": [
    "df_tr['prediction']=prediction_train"
   ]
  },
  {
   "cell_type": "code",
   "execution_count": 20,
   "metadata": {},
   "outputs": [],
   "source": [
    "# Use this model on the test set\n",
    "\n",
    "test_sequences = tok.texts_to_sequences(X_test)\n",
    "test_sequences_matrix = sequence.pad_sequences(test_sequences, maxlen=max_len)\n",
    "prediction = model.predict(test_sequences_matrix, verbose=0)"
   ]
  },
  {
   "cell_type": "code",
   "execution_count": 21,
   "metadata": {},
   "outputs": [
    {
     "name": "stdout",
     "output_type": "stream",
     "text": [
      "6065\n"
     ]
    }
   ],
   "source": [
    "print(len(prediction))"
   ]
  },
  {
   "cell_type": "code",
   "execution_count": 22,
   "metadata": {},
   "outputs": [],
   "source": [
    "df_te['prediction']=prediction"
   ]
  },
  {
   "cell_type": "code",
   "execution_count": null,
   "metadata": {},
   "outputs": [],
   "source": [
    "df_te.head()"
   ]
  },
  {
   "cell_type": "markdown",
   "metadata": {},
   "source": [
    "## ROC CURVE"
   ]
  },
  {
   "cell_type": "code",
   "execution_count": 24,
   "metadata": {},
   "outputs": [],
   "source": [
    "# generate a no skill prediction (majority class)\n",
    "ns_probs = [0 for _ in range(len(df_te))]"
   ]
  },
  {
   "cell_type": "code",
   "execution_count": 25,
   "metadata": {},
   "outputs": [],
   "source": [
    "# calculate roc curves\n",
    "ns_fpr, ns_tpr, _ = roc_curve(df_te['label'],ns_probs)\n",
    "lstm_fpr, lstm_tpr, _ = roc_curve(df_te['label'],df_te['prediction'])"
   ]
  },
  {
   "cell_type": "code",
   "execution_count": 26,
   "metadata": {},
   "outputs": [
    {
     "data": {
      "text/plain": [
       "Text(0, 0.5, 'True Positive Rate')"
      ]
     },
     "execution_count": 26,
     "metadata": {},
     "output_type": "execute_result"
    },
    {
     "data": {
      "image/png": "[encoded data removed]",
      "text/plain": [
       "<Figure size 432x288 with 1 Axes>"
      ]
     },
     "metadata": {
      "needs_background": "light"
     },
     "output_type": "display_data"
    }
   ],
   "source": [
    "# plot the roc curves for the model\n",
    "plt.plot(ns_fpr, ns_tpr, linestyle='--', label = 'No Skill')\n",
    "plt.plot(lstm_fpr, lstm_tpr, marker = '.', label = 'LSTM')\n",
    "# axis labels\n",
    "plt.xlabel('False Positive Rate')\n",
    "plt.ylabel('True Positive Rate')"
   ]
  },
  {
   "cell_type": "code",
   "execution_count": 27,
   "metadata": {},
   "outputs": [
    {
     "name": "stdout",
     "output_type": "stream",
     "text": [
      "AUC:  0.7508375387248759\n"
     ]
    }
   ],
   "source": [
    "# calculate AUC\n",
    "auc = roc_auc_score(df_te['label'],df_te['prediction'])\n",
    "print(\"AUC: \",auc)"
   ]
  },
  {
   "cell_type": "code",
   "execution_count": 28,
   "metadata": {},
   "outputs": [],
   "source": [
    "# Wrapper function to adjust class predictions based on the prediction thresholds\n",
    "def adjusted_classes(y_scores, t):\n",
    "    \"\"\"\n",
    "    This function adjusts class predictions based on the prediction threshold (t).\n",
    "    Will only work for binary classification problems.\n",
    "    \"\"\"\n",
    "    return [1 if y>=t else 0 for y in y_scores]"
   ]
  },
  {
   "cell_type": "code",
   "execution_count": 29,
   "metadata": {},
   "outputs": [
    {
     "name": "stdout",
     "output_type": "stream",
     "text": [
      "Confusion matrix on testing set with lstm\n",
      "     pred_neg  pred_pos\n",
      "neg      1498      2536\n",
      "pos       205      1826\n",
      "\n",
      "Classification report on testing set with adjusted threshold\n",
      "              precision    recall  f1-score   support\n",
      "\n",
      "           0       0.88      0.37      0.52      4034\n",
      "           1       0.42      0.90      0.57      2031\n",
      "\n",
      "   micro avg       0.55      0.55      0.55      6065\n",
      "   macro avg       0.65      0.64      0.55      6065\n",
      "weighted avg       0.73      0.55      0.54      6065\n",
      "\n"
     ]
    }
   ],
   "source": [
    "# set the optimal threshold\n",
    "optimal_threshold = 0.5\n",
    "\n",
    "# get the y scores for the testing set\n",
    "y_pred = adjusted_classes(df_te['prediction'], optimal_threshold)\n",
    "print(\"Confusion matrix on testing set with lstm\")\n",
    "print(pd.DataFrame(confusion_matrix(df_te['label'], y_pred),\n",
    "                      columns=['pred_neg','pred_pos'],\n",
    "                      index=['neg','pos']))  \n",
    "print(\"\\nClassification report on testing set with adjusted threshold\")\n",
    "print(classification_report(df_te['label'],y_pred))"
   ]
  },
  {
   "cell_type": "markdown",
   "metadata": {},
   "source": [
    "## Save results to file"
   ]
  },
  {
   "cell_type": "code",
   "execution_count": 30,
   "metadata": {},
   "outputs": [],
   "source": [
    "# Combine results to dataframe\n",
    "lstm_results_train = pd.DataFrame({'context':df_tr['context'].tolist(),\n",
    "                              'segment_2':df_tr['segment_2'].tolist(),\n",
    "                              'drug':df_tr['drug'].tolist(),\n",
    "                              'ae': df_tr['ae'].tolist(),\n",
    "                              'label':df_tr['label'].tolist(),\n",
    "                              'pred_lstm':df_tr['prediction'].tolist()\n",
    "                             })\n",
    "\n",
    "lstm_results = pd.DataFrame({'source':df_te['source'].tolist(),\n",
    "                              'context':df_te['context'].tolist(),\n",
    "                              'segment_2':df_te['segment_2'].tolist(),\n",
    "                              'drug':df_te['drug'].tolist(),\n",
    "                              'ae': df_te['ae'].tolist(),\n",
    "                              'label':df_te['label'].tolist(),\n",
    "                              'pred_lstm':df_te['prediction'].tolist()\n",
    "                             })"
   ]
  },
  {
   "cell_type": "code",
   "execution_count": 31,
   "metadata": {},
   "outputs": [],
   "source": [
    "book=load_workbook(r'./results_external_lstm.xlsx')\n",
    "writer = pd.ExcelWriter(r'./results_external_lstm.xlsx', engine = 'openpyxl')\n",
    "writer.book = book\n",
    "writer.sheets = dict((ws.title, ws) for ws in book.worksheets)\n",
    "\n",
    "lstm_results_train.to_excel(writer, sheet_name = train_worksheet, index=False)\n",
    "lstm_results.to_excel(writer, sheet_name = test_worksheet, index=False)\n",
    "\n",
    "writer.save()"
   ]
  }
 ],
 "metadata": {
  "kernelspec": {
   "display_name": "Python 3",
   "language": "python",
   "name": "python3"
  },
  "language_info": {
   "codemirror_mode": {
    "name": "ipython",
    "version": 3
   },
   "file_extension": ".py",
   "mimetype": "text/x-python",
   "name": "python",
   "nbconvert_exporter": "python",
   "pygments_lexer": "ipython3",
   "version": "3.7.3"
  }
 },
 "nbformat": 4,
 "nbformat_minor": 2
}
