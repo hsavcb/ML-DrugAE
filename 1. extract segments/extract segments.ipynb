{
 "cells": [
  {
   "cell_type": "markdown",
   "metadata": {},
   "source": [
    "# Extracting segments\n",
    "\n",
    "In this notebook, we will trim the context down to shorter segments containing the drug and AE"
   ]
  },
  {
   "cell_type": "code",
   "execution_count": 16,
   "metadata": {},
   "outputs": [],
   "source": [
    "import pandas as pd\n",
    "import re"
   ]
  },
  {
   "cell_type": "code",
   "execution_count": 17,
   "metadata": {},
   "outputs": [],
   "source": [
    "# function to replace symbols and acronyms\n",
    "def replace_line_break(text):\n",
    "    text = text.replace(\"  .  \",\" - \")\n",
    "    text = text.replace(\"  \",\" - \")\n",
    "    return text\n"
   ]
  },
  {
   "cell_type": "code",
   "execution_count": 18,
   "metadata": {},
   "outputs": [],
   "source": [
    "# import dataset\n",
    "data = pd.read_excel (r'.\\train dataset.xlsx')"
   ]
  },
  {
   "cell_type": "code",
   "execution_count": null,
   "metadata": {},
   "outputs": [],
   "source": [
    "data.head()"
   ]
  },
  {
   "cell_type": "code",
   "execution_count": 20,
   "metadata": {},
   "outputs": [],
   "source": [
    "data['context2']=data['context'].apply(lambda x : replace_line_break(x))"
   ]
  },
  {
   "cell_type": "code",
   "execution_count": 21,
   "metadata": {},
   "outputs": [],
   "source": [
    "contexts=data['context2'] # user context with line breaks replaced for the segmentation\n",
    "aes=data['ae']\n",
    "drugs=data['drug']"
   ]
  },
  {
   "cell_type": "code",
   "execution_count": null,
   "metadata": {},
   "outputs": [],
   "source": [
    "#procedure to extract segments from context\n",
    "\n",
    "segments=[]\n",
    "min_drug=[]\n",
    "max_drug=[]\n",
    "min_ae=[]\n",
    "max_ae=[]\n",
    "for i in range(len(contexts)):\n",
    "    context=contexts[i]\n",
    "    ae=aes[i].strip()\n",
    "    drug=drugs[i].strip()\n",
    "    split=re.split(r'[.,)/-]',context) # for each context, we break it up where there are symbols, e.g. \".\" \",\" \")\" \"-\" \n",
    "    min_index_drug=0\n",
    "    drug_found=0\n",
    "    max_index_drug=0\n",
    "    min_index_ae=0\n",
    "    ae_found=0\n",
    "    max_index_ae=0\n",
    "    for i in range(len(split)):\n",
    "        if drug in split[i]: # if the drug name is found in the segment\n",
    "            if drug_found==0: # and the drug has not yet been found\n",
    "                drug_found=1 # update the drug_found flag\n",
    "                min_index_drug=i # update the min_index\n",
    "            max_index_drug=i # update the max_index\n",
    "        if ae in split[i]:\n",
    "            if ae_found==0: # and the drug has not yet been found\n",
    "                ae_found=1 # update the drug_found flag\n",
    "                min_index_ae=i # update the min_index\n",
    "            max_index_ae=i # update the max_index\n",
    "    min_index= min(min_index_drug,min_index_ae) #identify the first index where ae or drug occurs\n",
    "    max_index= max(max_index_drug,max_index_ae) #identify the first or last index where ae or drug occurs\n",
    "    segment=''\n",
    "    for j in range(min_index,max_index+1):\n",
    "        segment = segment+' '+split[j] # join these segments to get the final segment\n",
    "    print(split)\n",
    "    print(ae)\n",
    "    print(drug)\n",
    "    print(segment)\n",
    "    segments.append(segment)\n",
    "    min_drug.append(min_index_drug)\n",
    "    max_drug.append(max_index_drug)\n",
    "    min_ae.append(min_index_ae)\n",
    "    max_ae.append(max_index_ae)\n"
   ]
  },
  {
   "cell_type": "code",
   "execution_count": 23,
   "metadata": {},
   "outputs": [],
   "source": [
    "# add on additional fields\n",
    "data['min_drug']=min_drug\n",
    "data['max_drug']=max_drug\n",
    "data['min_ae']=min_ae\n",
    "data['max_ae']=max_ae\n",
    "data['segment']=segments\n",
    "\n",
    "data.to_csv('./train_segmented.csv')"
   ]
  },
  {
   "cell_type": "code",
   "execution_count": null,
   "metadata": {},
   "outputs": [],
   "source": [
    "data"
   ]
  }
 ],
 "metadata": {
  "kernelspec": {
   "display_name": "Python 3",
   "language": "python",
   "name": "python3"
  },
  "language_info": {
   "codemirror_mode": {
    "name": "ipython",
    "version": 3
   },
   "file_extension": ".py",
   "mimetype": "text/x-python",
   "name": "python",
   "nbconvert_exporter": "python",
   "pygments_lexer": "ipython3",
   "version": "3.7.3"
  }
 },
 "nbformat": 4,
 "nbformat_minor": 2
}
