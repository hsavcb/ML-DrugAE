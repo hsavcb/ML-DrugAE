{
 "cells": [
  {
   "cell_type": "markdown",
   "metadata": {},
   "source": [
    "# Applying word2vec with machine learning methods\n",
    "\n",
    "This notebook applies feature engineering (word2vec), and machine learning tools (knn, naive bayes, sgd, decision tree, random forest) on the training set to determine if each context contains a (non-ae) drug-ae pair."
   ]
  },
  {
   "cell_type": "code",
   "execution_count": 165,
   "metadata": {},
   "outputs": [],
   "source": [
    "# Name of train and test dataset\n",
    "# Change according to test/train dataset chosen\n",
    "\n",
    "train_worksheet = 'train_5'# 1 to 5\n",
    "test_worksheet = 'test_5' # 1 to 5\n"
   ]
  },
  {
   "cell_type": "code",
   "execution_count": 166,
   "metadata": {},
   "outputs": [],
   "source": [
    "# IMPORT PACKAGES\n",
    "import re\n",
    "import csv\n",
    "import sys\n",
    "import pickle\n",
    "import time\n",
    "import gensim\n",
    "import numpy as np\n",
    "import xgboost as xgb\n",
    "import pandas as pd\n",
    "import matplotlib.pyplot as plt\n",
    "from openpyxl import load_workbook\n",
    "\n",
    "from xgboost import XGBClassifier\n",
    "from nltk.tokenize import word_tokenize\n",
    "from nltk.corpus import stopwords\n",
    "from nltk.stem import PorterStemmer\n",
    "from sklearn.model_selection import train_test_split\n",
    "from sklearn.feature_extraction.text import CountVectorizer, TfidfTransformer, TfidfVectorizer\n",
    "from sklearn.pipeline import Pipeline\n",
    "from sklearn.neighbors import KNeighborsClassifier\n",
    "from sklearn.svm import SVC,SVR\n",
    "from sklearn.naive_bayes import MultinomialNB, GaussianNB   \n",
    "from sklearn.linear_model import SGDClassifier, LogisticRegression\n",
    "from sklearn.tree import DecisionTreeClassifier\n",
    "from sklearn.ensemble import RandomForestClassifier\n",
    "from sklearn.ensemble import GradientBoostingClassifier\n",
    "from sklearn import metrics\n",
    "from sklearn.metrics import precision_recall_curve\n",
    "from sklearn.metrics import confusion_matrix\n",
    "from sklearn.metrics import classification_report"
   ]
  },
  {
   "cell_type": "markdown",
   "metadata": {},
   "source": [
    "## Import data\n",
    "\n",
    "Import the training and testing datasets"
   ]
  },
  {
   "cell_type": "code",
   "execution_count": 167,
   "metadata": {},
   "outputs": [
    {
     "data": {
      "text/html": [
       "<div>\n",
       "<style scoped>\n",
       "    .dataframe tbody tr th:only-of-type {\n",
       "        vertical-align: middle;\n",
       "    }\n",
       "\n",
       "    .dataframe tbody tr th {\n",
       "        vertical-align: top;\n",
       "    }\n",
       "\n",
       "    .dataframe thead th {\n",
       "        text-align: right;\n",
       "    }\n",
       "</style>\n",
       "<table border=\"1\" class=\"dataframe\">\n",
       "  <thead>\n",
       "    <tr style=\"text-align: right;\">\n",
       "      <th></th>\n",
       "      <th>context</th>\n",
       "      <th>segment</th>\n",
       "      <th>drug</th>\n",
       "      <th>ae</th>\n",
       "      <th>label</th>\n",
       "      <th>segment_2</th>\n",
       "      <th>val</th>\n",
       "    </tr>\n",
       "  </thead>\n",
       "  <tbody>\n",
       "    <tr>\n",
       "      <th>0</th>\n",
       "      <td>onic polyps, ogd non-erosive gastritis (5/2008...</td>\n",
       "      <td>complete heart block secondary to degenerati...</td>\n",
       "      <td>propanolol</td>\n",
       "      <td>complete heart block</td>\n",
       "      <td>1</td>\n",
       "      <td>complete heart block secondary to degenerative...</td>\n",
       "      <td>5</td>\n",
       "    </tr>\n",
       "    <tr>\n",
       "      <th>1</th>\n",
       "      <td>bl e coli sensitive to meropenem)  - developed...</td>\n",
       "      <td>developed erythema with vancomycin; suspecte...</td>\n",
       "      <td>vancomycin</td>\n",
       "      <td>erythema</td>\n",
       "      <td>1</td>\n",
       "      <td>developed erythema with vancomycin  suspected ...</td>\n",
       "      <td>5</td>\n",
       "    </tr>\n",
       "    <tr>\n",
       "      <th>2</th>\n",
       "      <td>referred endocrine, glipizide increased to 10...</td>\n",
       "      <td>glipizide increased to 10 bd and metformin c...</td>\n",
       "      <td>glipizide</td>\n",
       "      <td>hypoglycemic</td>\n",
       "      <td>1</td>\n",
       "      <td>glipizide increased to 10 bd and metformin con...</td>\n",
       "      <td>5</td>\n",
       "    </tr>\n",
       "    <tr>\n",
       "      <th>3</th>\n",
       "      <td>hypotension likely secondary to hypotensive me...</td>\n",
       "      <td>hypotension likely secondary to hypotensive m...</td>\n",
       "      <td>hypotensive meds</td>\n",
       "      <td>hypotension</td>\n",
       "      <td>1</td>\n",
       "      <td>hypotension likely secondary to hypotensive me...</td>\n",
       "      <td>5</td>\n",
       "    </tr>\n",
       "    <tr>\n",
       "      <th>4</th>\n",
       "      <td>ncreased to 200mg om, 200mg afternoon, 400mg o...</td>\n",
       "      <td>lithium decreased to 1000mg on since patient...</td>\n",
       "      <td>lithium</td>\n",
       "      <td>tremor</td>\n",
       "      <td>1</td>\n",
       "      <td>lithium decreased to 1000mg on since patient h...</td>\n",
       "      <td>5</td>\n",
       "    </tr>\n",
       "  </tbody>\n",
       "</table>\n",
       "</div>"
      ],
      "text/plain": [
       "                                             context  \\\n",
       "0  onic polyps, ogd non-erosive gastritis (5/2008...   \n",
       "1  bl e coli sensitive to meropenem)  - developed...   \n",
       "2   referred endocrine, glipizide increased to 10...   \n",
       "3  hypotension likely secondary to hypotensive me...   \n",
       "4  ncreased to 200mg om, 200mg afternoon, 400mg o...   \n",
       "\n",
       "                                             segment              drug  \\\n",
       "0    complete heart block secondary to degenerati...        propanolol   \n",
       "1    developed erythema with vancomycin; suspecte...        vancomycin   \n",
       "2    glipizide increased to 10 bd and metformin c...         glipizide   \n",
       "3   hypotension likely secondary to hypotensive m...  hypotensive meds   \n",
       "4    lithium decreased to 1000mg on since patient...           lithium   \n",
       "\n",
       "                     ae  label  \\\n",
       "0  complete heart block      1   \n",
       "1              erythema      1   \n",
       "2          hypoglycemic      1   \n",
       "3           hypotension      1   \n",
       "4                tremor      1   \n",
       "\n",
       "                                           segment_2  val  \n",
       "0  complete heart block secondary to degenerative...    5  \n",
       "1  developed erythema with vancomycin  suspected ...    5  \n",
       "2  glipizide increased to 10 bd and metformin con...    5  \n",
       "3  hypotension likely secondary to hypotensive me...    5  \n",
       "4  lithium decreased to 1000mg on since patient h...    5  "
      ]
     },
     "execution_count": 167,
     "metadata": {},
     "output_type": "execute_result"
    }
   ],
   "source": [
    "# ***************** # IMPORT TRAINING DATASET\n",
    "train_data = pd.read_excel(r'.\\train_k_fold.xlsx', sheet_name = train_worksheet)\n",
    "train_data.head()"
   ]
  },
  {
   "cell_type": "code",
   "execution_count": 168,
   "metadata": {},
   "outputs": [
    {
     "data": {
      "text/plain": [
       "1082"
      ]
     },
     "execution_count": 168,
     "metadata": {},
     "output_type": "execute_result"
    }
   ],
   "source": [
    "len(train_data)"
   ]
  },
  {
   "cell_type": "code",
   "execution_count": 169,
   "metadata": {},
   "outputs": [
    {
     "name": "stdout",
     "output_type": "stream",
     "text": [
      "length of test data:  1017\n"
     ]
    }
   ],
   "source": [
    "# ***************** # IMPORT TESTING DATASET\n",
    "test_data = pd.read_excel(r'.\\train_k_fold.xlsx', sheet_name = test_worksheet)\n",
    "print('length of test data: ', len(test_data))"
   ]
  },
  {
   "cell_type": "code",
   "execution_count": null,
   "metadata": {},
   "outputs": [],
   "source": [
    "test_data.head()"
   ]
  },
  {
   "cell_type": "markdown",
   "metadata": {},
   "source": [
    "## Data cleaning\n",
    "\n",
    "- remove stopwords\n",
    "- remove digits\n",
    "\n",
    "We first define functions to clean the data, that can be applied across the 'context' column"
   ]
  },
  {
   "cell_type": "code",
   "execution_count": 171,
   "metadata": {},
   "outputs": [],
   "source": [
    "# FUNCTIONS FOR DATA CLEANING\n",
    "\n",
    "# remove stopwords\n",
    "stop=set(stopwords.words('english'))\n",
    "def remove_stopwords(text):\n",
    "    if text is not None:\n",
    "        tokens = [x for x in word_tokenize(text) if x not in stop]\n",
    "        return \" \".join(tokens)\n",
    "    else:\n",
    "        return None\n",
    "\n",
    "# remove digits\n",
    "def remove_digits(text):\n",
    "    digitpattern = '[0-9]'\n",
    "    token_words=word_tokenize(text)\n",
    "    digit_removed= [re.sub(digitpattern,'', i) for i in token_words]\n",
    "    return \" \".join(digit_removed)\n",
    "\n",
    "train_data['segment_2']=train_data['segment_2'].apply(lambda x : remove_stopwords(x))\n",
    "train_data['segment_2']=train_data['segment_2'].apply(lambda x : remove_digits(x))\n",
    "\n",
    "test_data['segment_2']=test_data['segment_2'].apply(lambda x : remove_stopwords(x))\n",
    "test_data['segment_2']=test_data['segment_2'].apply(lambda x : remove_digits(x))"
   ]
  },
  {
   "cell_type": "code",
   "execution_count": 172,
   "metadata": {},
   "outputs": [],
   "source": [
    "# CONVERT TRAINING AND TESTING DATASET TO ARRAYS\n",
    "train_x = train_data[['context','segment_2','drug','ae']]\n",
    "train_y = train_data['label']\n",
    "test_x = test_data[['context','segment_2','drug','ae']]\n",
    "test_y = test_data['label']"
   ]
  },
  {
   "cell_type": "code",
   "execution_count": 173,
   "metadata": {},
   "outputs": [],
   "source": [
    "train_x=train_x.values.tolist()\n",
    "test_x=test_x.values\n",
    "train_y=train_y.values.tolist()\n",
    "test_y=test_y.values"
   ]
  },
  {
   "cell_type": "markdown",
   "metadata": {},
   "source": [
    "## Word2vec\n",
    "\n",
    "We define \n",
    "- some functions to feed the training data into the word2vec pipline\n",
    "- functions to adjust class predictions based on the prediction thresholds\n",
    "- functions to plot the precision recall curve\n",
    "- functions to plot the f1 curve\n",
    "\n",
    "After that, we inspect the predicted probabilities of the training data and determine an appropriate cutoff for various methods"
   ]
  },
  {
   "cell_type": "code",
   "execution_count": 174,
   "metadata": {},
   "outputs": [
    {
     "name": "stdout",
     "output_type": "stream",
     "text": [
      "start load word2vec model\n",
      "finish load model in 46.43 seconds\n"
     ]
    }
   ],
   "source": [
    "# Loading the word2vec model\n",
    "start = time.time()\n",
    "\n",
    "print('start load word2vec model')    \n",
    "word2vec_model = gensim.models.KeyedVectors.load_word2vec_format(\n",
    "    # SELECT w2v model here, and amend the dimension in the next cell accordingly\n",
    "#     './GoogleNews-vectors-negative300.bin.gz', # dimension = 300 \n",
    "    './PubMed-w2v.bin', # dimension = 200 \n",
    "#     './wikipedia-pubmed-and-PMC-w2v.bin', # dimension = 200 \n",
    "    binary=True)  \n",
    "\n",
    "print('finish load model in %.2f seconds'%(time.time()-start))"
   ]
  },
  {
   "cell_type": "code",
   "execution_count": 175,
   "metadata": {},
   "outputs": [
    {
     "name": "stdout",
     "output_type": "stream",
     "text": [
      "finish transform data in 0.25 seconds\n"
     ]
    }
   ],
   "source": [
    "# ***************** #\n",
    "# Define functions to transform data\n",
    "class Doc2VecTransformer():\n",
    "    def __init__(self, model, sw, dim):\n",
    "        self.model = model\n",
    "        self.sw = sw\n",
    "        self.dim = dim\n",
    "    \n",
    "    def get_vector(self, w):\n",
    "        if (w not in self.sw) and (w in self.model.vocab):\n",
    "            return self.model[w]\n",
    "        else:\n",
    "            return np.zeros(self.dim)\n",
    "        \n",
    "    def transform(self, x_input):\n",
    "        vectors = []\n",
    "        zero_vec = np.zeros(self.dim)\n",
    "        \n",
    "        for line in x_input:\n",
    "            word_count = 0\n",
    "#             drug_vec = self.get_vector(line[2]) # changed to line[2] which has the drug\n",
    "#             ade_vec = self.get_vector(line[3]) # changed to line[3] which has the ade\n",
    "            context = line[1] # changed to line[1] which has the context           \n",
    "            context = context.split() \n",
    "            avg_vec = np.zeros(self.dim)\n",
    "            for w in context:\n",
    "                w_vec = self.get_vector(w)\n",
    "                if not np.array_equal(w_vec,zero_vec):\n",
    "                    avg_vec+=w_vec\n",
    "                    word_count +=1\n",
    "            \n",
    "#             avg_vec = avg_vec+drug_vec\n",
    "#             avg_vec = avg_vec+ade_vec\n",
    "            avg_vec = avg_vec/word_count\n",
    "            vectors.append(avg_vec)\n",
    "        return np.array(vectors)\n",
    "\n",
    "def transform_data(x_train, x_test):\n",
    "    start_trans = time.time()\n",
    "    doc_transformer = Doc2VecTransformer(model = word2vec_model, \n",
    "                                         sw = set(stopwords.words('english')),\n",
    "                                         dim = 200) # adjust dimensions to match w2v model\n",
    "    x_train_doc2vec = doc_transformer.transform(x_train)\n",
    "    x_test_doc2vec = doc_transformer.transform(x_test)\n",
    "    print('finish transform data in %.2f seconds'%(time.time()-start_trans))\n",
    "    return x_train_doc2vec, x_test_doc2vec\n",
    "\n",
    "x_train_doc2vec, x_test_doc2vec = transform_data(train_x, test_x) # Changed to train_x and test_x\n",
    "\n",
    "\n",
    "# word2vec_with(KNeighborsClassifier(),'KNN') \n",
    "# word2vec_with(SGDClassifier(), 'SGD default')    \n",
    "# word2vec_with(SGDClassifier(loss='hinge', max_iter=15, penalty='l2', alpha=1e-3, random_state=42, tol=None), 'SGD')    \n",
    "# word2vec_with(RandomForestClassifier(),'Random Forest')  \n",
    "# word2vec_with(RandomForestClassifier(class_weight = 'balanced'), 'Random Forest balanced')  \n"
   ]
  },
  {
   "cell_type": "code",
   "execution_count": 176,
   "metadata": {},
   "outputs": [],
   "source": [
    "# Wrapper function to fit the training data into the model#\n",
    "\n",
    "def word2vec_with(classifier, clf_name): \n",
    "    classifier.fit(x_train_doc2vec, train_y)  # Changed to train_y\n",
    "    y_scores = classifier.predict_proba(x_train_doc2vec)[:,1]\n",
    "    y_scores_test = classifier.predict_proba(x_test_doc2vec)[:,1]\n",
    "    return y_scores, y_scores_test\n",
    "    \n",
    "# Wrapper function to adjust class predictions based on the prediction thresholds\n",
    "def adjusted_classes(y_scores, t):\n",
    "    \"\"\"\n",
    "    This function adjusts class predictions based on the prediction threshold (t).\n",
    "    Will only work for binary classification problems.\n",
    "    \"\"\"\n",
    "    return [1 if y>=t else 0 for y in y_scores]\n",
    "\n",
    "# Wrapper function to plot the prediction recall curve\n",
    "def precision_recall_threshold(p,r, thresholds, t=0.5):\n",
    "    \"\"\"\n",
    "    plots the precision recall curve and shows the current value for each\n",
    "    by identifying the classifier's threshold\n",
    "    \"\"\"\n",
    "    \n",
    "    # generate new class predictions based on the adjusted_classes\n",
    "    # function above and view the resulting confusion matrix\n",
    "    y_pred_adj = adjusted_classes(y_scores, t)\n",
    "    print(pd.DataFrame(confusion_matrix(train_y, y_pred_adj),\n",
    "                      columns=['pred_neg','pred_pos'],\n",
    "                      index=['neg','pos']))  \n",
    "    \n",
    "    print(\"Classification report on testing set with adjusted threshold\")\n",
    "    print(classification_report(train_y,y_pred_adj))\n",
    "    \n",
    "    # plot the curve\n",
    "    plt.figure(figsize =(4,4))\n",
    "    plt.title(\"Precision and recall curve ^ = current threshold\")\n",
    "    plt.step(r,p, color=\"b\", alpha=0.2, where=\"post\")\n",
    "    plt.fill_between(r,p, step = \"post\", alpha=0.2, color=\"b\")\n",
    "    plt.ylim([0.5,1.01]);\n",
    "    plt.xlim([0.5,1.01]);\n",
    "    plt.xlabel('Recall');\n",
    "    plt.ylabel('Precision');\n",
    "          \n",
    "    # plot the current threshold on the line\n",
    "    close_default_clf = np.argmin(np.abs(thresholds - t))\n",
    "    plt.plot(r[close_default_clf],p[close_default_clf],'^',c='k',markersize=15)\n",
    "    \n",
    "# Wrapper function to plot the F1 by threshold curve          \n",
    "def plot_f1_vs_threshold(f1, thresholds):\n",
    "    plt.figure(figsize =(4,4))\n",
    "    plt.title(\"F1 Score as a function of the decision threshold\")\n",
    "    plt.plot(thresholds,f1[:-1], \"b--\", label =\"F1\")\n",
    "    plt.xlabel('Decision Threshold');\n",
    "    plt.ylabel('Score');\n"
   ]
  },
  {
   "cell_type": "markdown",
   "metadata": {},
   "source": [
    "### KNN Classifier"
   ]
  },
  {
   "cell_type": "code",
   "execution_count": 177,
   "metadata": {},
   "outputs": [],
   "source": [
    "# get y_scores after training (probability of belonging in the '1' class)\n",
    "results_from_pipeline=word2vec_with(KNeighborsClassifier(),'KNN')\n",
    "y_scores=results_from_pipeline[0]\n",
    "y_scores_test=results_from_pipeline[1]\n"
   ]
  },
  {
   "cell_type": "code",
   "execution_count": 178,
   "metadata": {},
   "outputs": [
    {
     "data": {
      "text/plain": [
       "array([0.4, 0.8, 1. , ..., 0.8, 0.4, 0.2])"
      ]
     },
     "execution_count": 178,
     "metadata": {},
     "output_type": "execute_result"
    }
   ],
   "source": [
    "y_scores"
   ]
  },
  {
   "cell_type": "code",
   "execution_count": 179,
   "metadata": {},
   "outputs": [],
   "source": [
    "# get precision and recall at various thresholds\n",
    "p, r, thresholds = precision_recall_curve(train_y, y_scores)"
   ]
  },
  {
   "cell_type": "code",
   "execution_count": 180,
   "metadata": {},
   "outputs": [
    {
     "name": "stdout",
     "output_type": "stream",
     "text": [
      "     pred_neg  pred_pos\n",
      "neg       320       221\n",
      "pos        20       521\n",
      "Classification report on testing set with adjusted threshold\n",
      "              precision    recall  f1-score   support\n",
      "\n",
      "           0       0.94      0.59      0.73       541\n",
      "           1       0.70      0.96      0.81       541\n",
      "\n",
      "   micro avg       0.78      0.78      0.78      1082\n",
      "   macro avg       0.82      0.78      0.77      1082\n",
      "weighted avg       0.82      0.78      0.77      1082\n",
      "\n"
     ]
    },
    {
     "data": {
      "image/png": "[encoded data removed]",
      "text/plain": [
       "<Figure size 288x288 with 1 Axes>"
      ]
     },
     "metadata": {
      "needs_background": "light"
     },
     "output_type": "display_data"
    }
   ],
   "source": [
    "# plot the precision and recall curve, adjust the threshold to see the confusion matrix output at that threshold\n",
    "precision_recall_threshold(p,r,thresholds, .4)"
   ]
  },
  {
   "cell_type": "code",
   "execution_count": 181,
   "metadata": {},
   "outputs": [
    {
     "data": {
      "image/png": "[encoded data removed]",
      "text/plain": [
       "<Figure size 288x288 with 1 Axes>"
      ]
     },
     "metadata": {
      "needs_background": "light"
     },
     "output_type": "display_data"
    }
   ],
   "source": [
    "f1=2*(p*r)/(p+r) # calculate f1 score at each threshold\n",
    "\n",
    "#plot f1 versus threshold\n",
    "plot_f1_vs_threshold(f1, thresholds)"
   ]
  },
  {
   "cell_type": "code",
   "execution_count": 182,
   "metadata": {},
   "outputs": [
    {
     "name": "stdout",
     "output_type": "stream",
     "text": [
      "Confusion matrix on testing set with adjusted threshold\n",
      "     pred_neg  pred_pos\n",
      "neg       682       206\n",
      "pos        39        90\n",
      "Classification report on testing set with adjusted threshold\n",
      "              precision    recall  f1-score   support\n",
      "\n",
      "           0       0.95      0.77      0.85       888\n",
      "           1       0.30      0.70      0.42       129\n",
      "\n",
      "   micro avg       0.76      0.76      0.76      1017\n",
      "   macro avg       0.62      0.73      0.64      1017\n",
      "weighted avg       0.86      0.76      0.79      1017\n",
      "\n"
     ]
    }
   ],
   "source": [
    "# set the optimal threshold\n",
    "optimal_threshold = 0.5\n",
    "\n",
    "# get the y scores for the testing set\n",
    "y_pred_test = adjusted_classes(y_scores_test, optimal_threshold)\n",
    "print(\"Confusion matrix on testing set with adjusted threshold\")\n",
    "print(pd.DataFrame(confusion_matrix(test_y, y_pred_test),\n",
    "                      columns=['pred_neg','pred_pos'],\n",
    "                      index=['neg','pos']))  \n",
    "print(\"Classification report on testing set with adjusted threshold\")\n",
    "print(classification_report(test_y,y_pred_test))\n",
    "\n",
    "# save results\n",
    "prob_word2vec_knn=y_scores_test.tolist()\n",
    "prob_word2vec_knn_train=y_scores.tolist()"
   ]
  },
  {
   "cell_type": "markdown",
   "metadata": {},
   "source": [
    "### Random Forest Classifier"
   ]
  },
  {
   "cell_type": "code",
   "execution_count": 183,
   "metadata": {},
   "outputs": [
    {
     "name": "stderr",
     "output_type": "stream",
     "text": [
      "C:\\Program Files\\Anaconda3\\lib\\site-packages\\sklearn\\ensemble\\forest.py:246: FutureWarning: The default value of n_estimators will change from 10 in version 0.20 to 100 in 0.22.\n",
      "  \"10 in version 0.20 to 100 in 0.22.\", FutureWarning)\n"
     ]
    }
   ],
   "source": [
    "# get y_scores after training (probability of belonging in the '1' class)\n",
    "results_from_pipeline=word2vec_with(RandomForestClassifier(),'Random Forest')\n",
    "y_scores=results_from_pipeline[0]\n",
    "y_scores_test=results_from_pipeline[1]\n"
   ]
  },
  {
   "cell_type": "code",
   "execution_count": 184,
   "metadata": {},
   "outputs": [],
   "source": [
    "# get precision and recall at various thresholds\n",
    "p, r, thresholds = precision_recall_curve(train_y, y_scores)"
   ]
  },
  {
   "cell_type": "code",
   "execution_count": 185,
   "metadata": {},
   "outputs": [
    {
     "name": "stdout",
     "output_type": "stream",
     "text": [
      "     pred_neg  pred_pos\n",
      "neg       514        27\n",
      "pos         0       541\n",
      "Classification report on testing set with adjusted threshold\n",
      "              precision    recall  f1-score   support\n",
      "\n",
      "           0       1.00      0.95      0.97       541\n",
      "           1       0.95      1.00      0.98       541\n",
      "\n",
      "   micro avg       0.98      0.98      0.98      1082\n",
      "   macro avg       0.98      0.98      0.98      1082\n",
      "weighted avg       0.98      0.98      0.98      1082\n",
      "\n"
     ]
    },
    {
     "data": {
      "image/png": "[encoded data removed]",
      "text/plain": [
       "<Figure size 288x288 with 1 Axes>"
      ]
     },
     "metadata": {
      "needs_background": "light"
     },
     "output_type": "display_data"
    }
   ],
   "source": [
    "# plot the precision and recall curve, adjust the threshold to see the confusion matrix output at that threshold\n",
    "precision_recall_threshold(p,r,thresholds, .4)"
   ]
  },
  {
   "cell_type": "code",
   "execution_count": 186,
   "metadata": {},
   "outputs": [
    {
     "data": {
      "image/png": "[encoded data removed]",
      "text/plain": [
       "<Figure size 288x288 with 1 Axes>"
      ]
     },
     "metadata": {
      "needs_background": "light"
     },
     "output_type": "display_data"
    }
   ],
   "source": [
    "f1=2*(p*r)/(p+r) # calculate f1 score at each threshold\n",
    "\n",
    "#plot f1 versus threshold\n",
    "plot_f1_vs_threshold(f1, thresholds)"
   ]
  },
  {
   "cell_type": "code",
   "execution_count": 187,
   "metadata": {},
   "outputs": [
    {
     "name": "stdout",
     "output_type": "stream",
     "text": [
      "Confusion matrix on testing set with adjusted threshold\n",
      "     pred_neg  pred_pos\n",
      "neg       527       361\n",
      "pos        28       101\n",
      "Classification report on testing set with adjusted threshold\n",
      "              precision    recall  f1-score   support\n",
      "\n",
      "           0       0.95      0.59      0.73       888\n",
      "           1       0.22      0.78      0.34       129\n",
      "\n",
      "   micro avg       0.62      0.62      0.62      1017\n",
      "   macro avg       0.58      0.69      0.54      1017\n",
      "weighted avg       0.86      0.62      0.68      1017\n",
      "\n"
     ]
    }
   ],
   "source": [
    "# set the optimal threshold\n",
    "optimal_threshold = 0.5\n",
    "\n",
    "# get the y scores for the testing set\n",
    "y_pred_test = adjusted_classes(y_scores_test, optimal_threshold)\n",
    "print(\"Confusion matrix on testing set with adjusted threshold\")\n",
    "print(pd.DataFrame(confusion_matrix(test_y, y_pred_test),\n",
    "                      columns=['pred_neg','pred_pos'],\n",
    "                      index=['neg','pos']))  \n",
    "print(\"Classification report on testing set with adjusted threshold\")\n",
    "print(classification_report(test_y,y_pred_test))\n",
    "\n",
    "# save results\n",
    "prob_word2vec_rf=y_scores_test.tolist()\n",
    "prob_word2vec_rf_train=y_scores.tolist()"
   ]
  },
  {
   "cell_type": "markdown",
   "metadata": {},
   "source": [
    "### SGD Classifier"
   ]
  },
  {
   "cell_type": "code",
   "execution_count": 188,
   "metadata": {},
   "outputs": [
    {
     "name": "stderr",
     "output_type": "stream",
     "text": [
      "C:\\Program Files\\Anaconda3\\lib\\site-packages\\sklearn\\linear_model\\stochastic_gradient.py:183: FutureWarning: max_iter and tol parameters have been added in SGDClassifier in 0.19. If max_iter is set but tol is left unset, the default value for tol in 0.19 and 0.20 will be None (which is equivalent to -infinity, so it has no effect) but will change in 0.21 to 1e-3. Specify tol to silence this warning.\n",
      "  FutureWarning)\n"
     ]
    }
   ],
   "source": [
    "# get y_scores after training (probability of belonging in the '1' class)\n",
    "results_from_pipeline= word2vec_with(SGDClassifier(loss='log', max_iter=15, penalty='l2', alpha=1e-3, random_state=42, tol=None), 'SGD')\n",
    "y_scores=results_from_pipeline[0]\n",
    "y_scores_test=results_from_pipeline[1]\n"
   ]
  },
  {
   "cell_type": "code",
   "execution_count": 189,
   "metadata": {},
   "outputs": [],
   "source": [
    "# get precision and recall at various thresholds\n",
    "p, r, thresholds = precision_recall_curve(train_y, y_scores)"
   ]
  },
  {
   "cell_type": "code",
   "execution_count": 190,
   "metadata": {},
   "outputs": [
    {
     "name": "stdout",
     "output_type": "stream",
     "text": [
      "     pred_neg  pred_pos\n",
      "neg       473        68\n",
      "pos       105       436\n",
      "Classification report on testing set with adjusted threshold\n",
      "              precision    recall  f1-score   support\n",
      "\n",
      "           0       0.82      0.87      0.85       541\n",
      "           1       0.87      0.81      0.83       541\n",
      "\n",
      "   micro avg       0.84      0.84      0.84      1082\n",
      "   macro avg       0.84      0.84      0.84      1082\n",
      "weighted avg       0.84      0.84      0.84      1082\n",
      "\n"
     ]
    },
    {
     "data": {
      "image/png": "[encoded data removed]",
      "text/plain": [
       "<Figure size 288x288 with 1 Axes>"
      ]
     },
     "metadata": {
      "needs_background": "light"
     },
     "output_type": "display_data"
    }
   ],
   "source": [
    "# plot the precision and recall curve, adjust the threshold to see the confusion matrix output at that threshold\n",
    "precision_recall_threshold(p,r,thresholds, .5)"
   ]
  },
  {
   "cell_type": "code",
   "execution_count": 191,
   "metadata": {},
   "outputs": [
    {
     "data": {
      "image/png": "[encoded data removed]",
      "text/plain": [
       "<Figure size 288x288 with 1 Axes>"
      ]
     },
     "metadata": {
      "needs_background": "light"
     },
     "output_type": "display_data"
    }
   ],
   "source": [
    "f1=2*(p*r)/(p+r) # calculate f1 score at each threshold\n",
    "\n",
    "#plot f1 versus threshold\n",
    "plot_f1_vs_threshold(f1, thresholds)"
   ]
  },
  {
   "cell_type": "markdown",
   "metadata": {},
   "source": [
    "From the above graphs, the threshold that maximises F1 score is about 0.3, we choose this threshold so that more positive cases get captured"
   ]
  },
  {
   "cell_type": "code",
   "execution_count": 192,
   "metadata": {},
   "outputs": [
    {
     "name": "stdout",
     "output_type": "stream",
     "text": [
      "Confusion matrix on testing set with adjusted threshold\n",
      "     pred_neg  pred_pos\n",
      "neg       739       149\n",
      "pos        43        86\n",
      "Classification report on testing set with adjusted threshold\n",
      "              precision    recall  f1-score   support\n",
      "\n",
      "           0       0.95      0.83      0.89       888\n",
      "           1       0.37      0.67      0.47       129\n",
      "\n",
      "   micro avg       0.81      0.81      0.81      1017\n",
      "   macro avg       0.66      0.75      0.68      1017\n",
      "weighted avg       0.87      0.81      0.83      1017\n",
      "\n"
     ]
    }
   ],
   "source": [
    "# set the optimal threshold\n",
    "optimal_threshold = 0.5\n",
    "\n",
    "# get the y scores for the testing set\n",
    "y_pred_test = adjusted_classes(y_scores_test, optimal_threshold)\n",
    "print(\"Confusion matrix on testing set with adjusted threshold\")\n",
    "print(pd.DataFrame(confusion_matrix(test_y, y_pred_test),\n",
    "                      columns=['pred_neg','pred_pos'],\n",
    "                      index=['neg','pos']))  \n",
    "print(\"Classification report on testing set with adjusted threshold\")\n",
    "print(classification_report(test_y,y_pred_test))\n",
    "\n",
    "# save results\n",
    "prob_word2vec_sgd=y_scores_test.tolist()\n",
    "prob_word2vec_sgd_train=y_scores.tolist()"
   ]
  },
  {
   "cell_type": "markdown",
   "metadata": {},
   "source": [
    "### XGBoost Classifier"
   ]
  },
  {
   "cell_type": "code",
   "execution_count": 193,
   "metadata": {},
   "outputs": [],
   "source": [
    "# get y_scores after training (probability of belonging in the '1' class)\n",
    "results_from_pipeline= word2vec_with(GradientBoostingClassifier(random_state=8),'Extreme Gradient Boosting')\n",
    "y_scores=results_from_pipeline[0]\n",
    "y_scores_test=results_from_pipeline[1]\n"
   ]
  },
  {
   "cell_type": "code",
   "execution_count": 194,
   "metadata": {},
   "outputs": [],
   "source": [
    "# get precision and recall at various thresholds\n",
    "p, r, thresholds = precision_recall_curve(train_y, y_scores)"
   ]
  },
  {
   "cell_type": "code",
   "execution_count": 195,
   "metadata": {},
   "outputs": [
    {
     "name": "stdout",
     "output_type": "stream",
     "text": [
      "     pred_neg  pred_pos\n",
      "neg       496        45\n",
      "pos         0       541\n",
      "Classification report on testing set with adjusted threshold\n",
      "              precision    recall  f1-score   support\n",
      "\n",
      "           0       1.00      0.92      0.96       541\n",
      "           1       0.92      1.00      0.96       541\n",
      "\n",
      "   micro avg       0.96      0.96      0.96      1082\n",
      "   macro avg       0.96      0.96      0.96      1082\n",
      "weighted avg       0.96      0.96      0.96      1082\n",
      "\n"
     ]
    },
    {
     "data": {
      "image/png": "[encoded data removed]",
      "text/plain": [
       "<Figure size 288x288 with 1 Axes>"
      ]
     },
     "metadata": {
      "needs_background": "light"
     },
     "output_type": "display_data"
    }
   ],
   "source": [
    "# plot the precision and recall curve, adjust the threshold to see the confusion matrix output at that threshold\n",
    "precision_recall_threshold(p,r,thresholds, .3)"
   ]
  },
  {
   "cell_type": "code",
   "execution_count": 196,
   "metadata": {},
   "outputs": [
    {
     "data": {
      "image/png": "[encoded data removed]",
      "text/plain": [
       "<Figure size 288x288 with 1 Axes>"
      ]
     },
     "metadata": {
      "needs_background": "light"
     },
     "output_type": "display_data"
    }
   ],
   "source": [
    "f1=2*(p*r)/(p+r) # calculate f1 score at each threshold\n",
    "\n",
    "#plot f1 versus threshold\n",
    "plot_f1_vs_threshold(f1, thresholds)"
   ]
  },
  {
   "cell_type": "markdown",
   "metadata": {},
   "source": [
    "From the above graphs, the threshold that maximises F1 score is about 0.3, we choose this threshold so that more positive cases get captured"
   ]
  },
  {
   "cell_type": "code",
   "execution_count": 197,
   "metadata": {},
   "outputs": [
    {
     "name": "stdout",
     "output_type": "stream",
     "text": [
      "Confusion matrix on testing set with adjusted threshold\n",
      "     pred_neg  pred_pos\n",
      "neg       691       197\n",
      "pos        35        94\n",
      "Classification report on testing set with adjusted threshold\n",
      "              precision    recall  f1-score   support\n",
      "\n",
      "           0       0.95      0.78      0.86       888\n",
      "           1       0.32      0.73      0.45       129\n",
      "\n",
      "   micro avg       0.77      0.77      0.77      1017\n",
      "   macro avg       0.64      0.75      0.65      1017\n",
      "weighted avg       0.87      0.77      0.80      1017\n",
      "\n"
     ]
    }
   ],
   "source": [
    "# set the optimal threshold\n",
    "optimal_threshold = 0.5\n",
    "\n",
    "# get the y scores for the testing set\n",
    "y_pred_test = adjusted_classes(y_scores_test, optimal_threshold)\n",
    "print(\"Confusion matrix on testing set with adjusted threshold\")\n",
    "print(pd.DataFrame(confusion_matrix(test_y, y_pred_test),\n",
    "                      columns=['pred_neg','pred_pos'],\n",
    "                      index=['neg','pos']))  \n",
    "print(\"Classification report on testing set with adjusted threshold\")\n",
    "print(classification_report(test_y,y_pred_test))\n",
    "\n",
    "# save results\n",
    "prob_word2vec_xgb=y_scores_test.tolist()\n",
    "prob_word2vec_xgb_train=y_scores.tolist()"
   ]
  },
  {
   "cell_type": "markdown",
   "metadata": {},
   "source": [
    "### Decision Tree Classifier"
   ]
  },
  {
   "cell_type": "code",
   "execution_count": 198,
   "metadata": {},
   "outputs": [],
   "source": [
    "# get y_scores after training (probability of belonging in the '1' class)\n",
    "results_from_pipeline= word2vec_with(DecisionTreeClassifier(random_state=2),'Decision Tree')\n",
    "y_scores=results_from_pipeline[0]\n",
    "y_scores_test=results_from_pipeline[1]"
   ]
  },
  {
   "cell_type": "code",
   "execution_count": 199,
   "metadata": {},
   "outputs": [],
   "source": [
    "# get precision and recall at various thresholds\n",
    "p, r, thresholds = precision_recall_curve(train_y, y_scores)"
   ]
  },
  {
   "cell_type": "code",
   "execution_count": 200,
   "metadata": {},
   "outputs": [
    {
     "name": "stdout",
     "output_type": "stream",
     "text": [
      "     pred_neg  pred_pos\n",
      "neg       540         1\n",
      "pos         0       541\n",
      "Classification report on testing set with adjusted threshold\n",
      "              precision    recall  f1-score   support\n",
      "\n",
      "           0       1.00      1.00      1.00       541\n",
      "           1       1.00      1.00      1.00       541\n",
      "\n",
      "   micro avg       1.00      1.00      1.00      1082\n",
      "   macro avg       1.00      1.00      1.00      1082\n",
      "weighted avg       1.00      1.00      1.00      1082\n",
      "\n"
     ]
    },
    {
     "data": {
      "image/png": "[encoded data removed]",
      "text/plain": [
       "<Figure size 288x288 with 1 Axes>"
      ]
     },
     "metadata": {
      "needs_background": "light"
     },
     "output_type": "display_data"
    }
   ],
   "source": [
    "# plot the precision and recall curve, adjust the threshold to see the confusion matrix output at that threshold\n",
    "precision_recall_threshold(p,r,thresholds, .3)"
   ]
  },
  {
   "cell_type": "code",
   "execution_count": 201,
   "metadata": {},
   "outputs": [
    {
     "data": {
      "image/png": "[encoded data removed]",
      "text/plain": [
       "<Figure size 288x288 with 1 Axes>"
      ]
     },
     "metadata": {
      "needs_background": "light"
     },
     "output_type": "display_data"
    }
   ],
   "source": [
    "f1=2*(p*r)/(p+r) # calculate f1 score at each threshold\n",
    "\n",
    "#plot f1 versus threshold\n",
    "plot_f1_vs_threshold(f1, thresholds)"
   ]
  },
  {
   "cell_type": "markdown",
   "metadata": {},
   "source": [
    "From the above graphs, the threshold that maximises F1 score is about 0.3, we choose this threshold so that more positive cases get captured"
   ]
  },
  {
   "cell_type": "code",
   "execution_count": 202,
   "metadata": {},
   "outputs": [
    {
     "name": "stdout",
     "output_type": "stream",
     "text": [
      "Confusion matrix on testing set with adjusted threshold\n",
      "     pred_neg  pred_pos\n",
      "neg       573       315\n",
      "pos        51        78\n",
      "Classification report on testing set with adjusted threshold\n",
      "              precision    recall  f1-score   support\n",
      "\n",
      "           0       0.92      0.65      0.76       888\n",
      "           1       0.20      0.60      0.30       129\n",
      "\n",
      "   micro avg       0.64      0.64      0.64      1017\n",
      "   macro avg       0.56      0.62      0.53      1017\n",
      "weighted avg       0.83      0.64      0.70      1017\n",
      "\n"
     ]
    }
   ],
   "source": [
    "# set the optimal threshold\n",
    "optimal_threshold = 0.5\n",
    "\n",
    "# get the y scores for the testing set\n",
    "y_pred_test = adjusted_classes(y_scores_test, optimal_threshold)\n",
    "print(\"Confusion matrix on testing set with adjusted threshold\")\n",
    "print(pd.DataFrame(confusion_matrix(test_y, y_pred_test),\n",
    "                      columns=['pred_neg','pred_pos'],\n",
    "                      index=['neg','pos']))  \n",
    "print(\"Classification report on testing set with adjusted threshold\")\n",
    "print(classification_report(test_y,y_pred_test))\n",
    "\n",
    "# save results\n",
    "prob_word2vec_dt=y_scores_test.tolist()\n",
    "prob_word2vec_dt_train=y_scores.tolist()"
   ]
  },
  {
   "cell_type": "markdown",
   "metadata": {},
   "source": [
    "## Combine results to a dataframe and save to excel"
   ]
  },
  {
   "cell_type": "code",
   "execution_count": 203,
   "metadata": {},
   "outputs": [],
   "source": [
    "# Combine results to dataframe\n",
    "\n",
    "word2vec_results_train = pd.DataFrame({'context':train_data['context'].tolist(),\n",
    "                              'segment_2':train_data['segment_2'].tolist(),\n",
    "                              'drug':train_data['drug'].tolist(),\n",
    "                              'ae':train_data['ae'].tolist(),\n",
    "                              'label':train_data['label'].tolist(),\n",
    "                             'prob_word2vec_knn':prob_word2vec_knn_train,\n",
    "                             'prob_word2vec_sgd':prob_word2vec_sgd_train,\n",
    "                             'prob_word2vec_dt':prob_word2vec_dt_train,\n",
    "                             'prob_word2vec_rf':prob_word2vec_rf_train,\n",
    "                             'prob_word2vec_xgb':prob_word2vec_xgb_train\n",
    "                             })\n",
    "\n",
    "\n",
    "word2vec_results_test = pd.DataFrame({'context':test_data['context'].tolist(),\n",
    "                              'segment_2':test_data['segment_2'].tolist(),\n",
    "                              'drug':test_data['drug'].tolist(),\n",
    "                              'ae':test_data['ae'].tolist(),\n",
    "                              'label':test_data['label'].tolist(),\n",
    "                             'prob_word2vec_knn':prob_word2vec_knn,\n",
    "                             'prob_word2vec_sgd':prob_word2vec_sgd,\n",
    "                             'prob_word2vec_dt':prob_word2vec_dt,\n",
    "                             'prob_word2vec_rf':prob_word2vec_rf,\n",
    "                             'prob_word2vec_xgb':prob_word2vec_xgb\n",
    "                             })\n",
    "\n"
   ]
  },
  {
   "cell_type": "code",
   "execution_count": 204,
   "metadata": {},
   "outputs": [],
   "source": [
    "book=load_workbook(r'./results_k_fold_w2v.xlsx')\n",
    "writer = pd.ExcelWriter(r'./results_k_fold_w2v.xlsx', engine = 'openpyxl')\n",
    "writer.book = book\n",
    "writer.sheets = dict((ws.title, ws) for ws in book.worksheets)\n",
    "word2vec_results_train.to_excel(writer, sheet_name = train_worksheet, index=False)\n",
    "word2vec_results_test.to_excel(writer, sheet_name = test_worksheet, index=False)\n",
    "\n",
    "writer.save()"
   ]
  }
 ],
 "metadata": {
  "kernelspec": {
   "display_name": "Python 3",
   "language": "python",
   "name": "python3"
  },
  "language_info": {
   "codemirror_mode": {
    "name": "ipython",
    "version": 3
   },
   "file_extension": ".py",
   "mimetype": "text/x-python",
   "name": "python",
   "nbconvert_exporter": "python",
   "pygments_lexer": "ipython3",
   "version": "3.7.3"
  }
 },
 "nbformat": 4,
 "nbformat_minor": 2
}
