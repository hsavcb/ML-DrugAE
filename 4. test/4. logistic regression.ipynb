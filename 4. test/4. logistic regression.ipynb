{
 "cells": [
  {
   "cell_type": "markdown",
   "metadata": {},
   "source": [
    "# Logistic regression\n",
    "\n",
    "In this notebook, we take the predictions from the previous models and train a logistic regression model to give a final probability of the segment containing a true drug-ae pair\n",
    "\n",
    "Outputs used: \n",
    "- tf-idf:naive bayes, stochastic gradient descent, random forest, xgboost\n",
    "- word2vec: stochastic gradient descent, xgboost\n",
    "- lstm"
   ]
  },
  {
   "cell_type": "code",
   "execution_count": 1,
   "metadata": {},
   "outputs": [],
   "source": [
    "import pandas as pd\n",
    "import numpy as np\n",
    "from openpyxl import load_workbook\n",
    "\n",
    "from sklearn.linear_model import LogisticRegression\n",
    "from sklearn.metrics import classification_report"
   ]
  },
  {
   "cell_type": "code",
   "execution_count": 2,
   "metadata": {},
   "outputs": [],
   "source": [
    "# Name of train and test dataset\n",
    "# Change according to test/train dataset chosen\n",
    "\n",
    "train_worksheet = 'df_2009_us'# 2009 training set\n",
    "test_worksheet = 'df_testing_all' # test set - 2010, 2011, MIMIC, MIMIC_unrestricted\n"
   ]
  },
  {
   "cell_type": "code",
   "execution_count": 3,
   "metadata": {},
   "outputs": [],
   "source": [
    "# ***************** # IMPORT TRAINING DATASET\n",
    "# Change according to test/train dataset chosen\n",
    "\n",
    "train_tfidf= pd.read_excel(r'.\\results_external_tfidf.xlsx', sheet_name = train_worksheet)\n",
    "train_w2v= pd.read_excel(r'.\\results_external_w2v.xlsx', sheet_name = train_worksheet)\n",
    "train_lstm= pd.read_excel(r'.\\results_external_lstm.xlsx', sheet_name = train_worksheet)\n",
    "\n",
    "test_tfidf= pd.read_excel(r'.\\results_external_tfidf.xlsx', sheet_name = test_worksheet)\n",
    "test_w2v= pd.read_excel(r'.\\results_external_w2v.xlsx', sheet_name = test_worksheet)\n",
    "test_lstm= pd.read_excel(r'.\\results_external_lstm.xlsx', sheet_name = test_worksheet)"
   ]
  },
  {
   "cell_type": "code",
   "execution_count": 4,
   "metadata": {},
   "outputs": [],
   "source": [
    "# *************** # Merge columns into single dataset\n",
    "train = pd.DataFrame({'context':train_tfidf['context'].tolist(),\n",
    "                        'segment_2':train_tfidf['segment_2'].tolist(),\n",
    "                        'drug':train_tfidf['drug'].tolist(),\n",
    "                        'ae': train_tfidf['ae'].tolist(),\n",
    "                        'label':train_tfidf['label'].tolist(),\n",
    "                        'prob_tfidf_nb':train_tfidf['prob_tfidf_nb'].tolist(),\n",
    "                        'prob_tfidf_sgd':train_tfidf['prob_tfidf_sgd'].tolist(),\n",
    "                        'prob_tfidf_rf':train_tfidf['prob_tfidf_rf'].tolist(),\n",
    "                        'prob_tfidf_xgb':train_tfidf['prob_tfidf_xgb'].tolist(),\n",
    "                        'prob_word2vec_sgd':train_w2v['prob_word2vec_sgd'].tolist(),\n",
    "                        'prob_word2vec_xgb':train_w2v['prob_word2vec_xgb'].tolist(),\n",
    "                        'pred_lstm':train_lstm['pred_lstm'].tolist(),\n",
    "                        })\n",
    "\n",
    "test = pd.DataFrame({'source':test_tfidf['source'].tolist(),\n",
    "                        'context':test_tfidf['context'].tolist(),\n",
    "                        'segment_2':test_tfidf['segment_2'].tolist(),\n",
    "                        'drug':test_tfidf['drug'].tolist(),\n",
    "                        'ae': test_tfidf['ae'].tolist(),\n",
    "                        'label':test_tfidf['label'].tolist(),\n",
    "                        'prob_tfidf_nb':test_tfidf['prob_tfidf_nb'].tolist(),\n",
    "                        'prob_tfidf_sgd':test_tfidf['prob_tfidf_sgd'].tolist(),\n",
    "                        'prob_tfidf_rf':test_tfidf['prob_tfidf_rf'].tolist(),\n",
    "                        'prob_tfidf_xgb':test_tfidf['prob_tfidf_xgb'].tolist(),\n",
    "                        'prob_word2vec_sgd':test_w2v['prob_word2vec_sgd'].tolist(),\n",
    "                        'prob_word2vec_xgb':test_w2v['prob_word2vec_xgb'].tolist(),\n",
    "                        'pred_lstm':test_lstm['pred_lstm'].tolist(),\n",
    "                        })"
   ]
  },
  {
   "cell_type": "code",
   "execution_count": 5,
   "metadata": {},
   "outputs": [
    {
     "data": {
      "text/html": [
       "<div>\n",
       "<style scoped>\n",
       "    .dataframe tbody tr th:only-of-type {\n",
       "        vertical-align: middle;\n",
       "    }\n",
       "\n",
       "    .dataframe tbody tr th {\n",
       "        vertical-align: top;\n",
       "    }\n",
       "\n",
       "    .dataframe thead th {\n",
       "        text-align: right;\n",
       "    }\n",
       "</style>\n",
       "<table border=\"1\" class=\"dataframe\">\n",
       "  <thead>\n",
       "    <tr style=\"text-align: right;\">\n",
       "      <th></th>\n",
       "      <th>context</th>\n",
       "      <th>segment_2</th>\n",
       "      <th>drug</th>\n",
       "      <th>ae</th>\n",
       "      <th>label</th>\n",
       "      <th>prob_tfidf_nb</th>\n",
       "      <th>prob_tfidf_sgd</th>\n",
       "      <th>prob_tfidf_rf</th>\n",
       "      <th>prob_tfidf_xgb</th>\n",
       "      <th>prob_word2vec_sgd</th>\n",
       "      <th>prob_word2vec_xgb</th>\n",
       "      <th>pred_lstm</th>\n",
       "    </tr>\n",
       "  </thead>\n",
       "  <tbody>\n",
       "    <tr>\n",
       "      <th>0</th>\n",
       "      <td>onic polyps, ogd non-erosive gastritis (5/2008...</td>\n",
       "      <td>complet heart block secondari degen diseas pro...</td>\n",
       "      <td>propanolol</td>\n",
       "      <td>complete heart block</td>\n",
       "      <td>1</td>\n",
       "      <td>0.795695</td>\n",
       "      <td>0.583734</td>\n",
       "      <td>0.8</td>\n",
       "      <td>0.663017</td>\n",
       "      <td>0.230238</td>\n",
       "      <td>0.688628</td>\n",
       "      <td>0.998728</td>\n",
       "    </tr>\n",
       "    <tr>\n",
       "      <th>1</th>\n",
       "      <td>bl e coli sensitive to meropenem)  - developed...</td>\n",
       "      <td>develop erythema vancomycin suspect red man sy...</td>\n",
       "      <td>vancomycin</td>\n",
       "      <td>erythema</td>\n",
       "      <td>1</td>\n",
       "      <td>0.957168</td>\n",
       "      <td>0.652359</td>\n",
       "      <td>0.9</td>\n",
       "      <td>0.750375</td>\n",
       "      <td>0.555737</td>\n",
       "      <td>0.751824</td>\n",
       "      <td>0.999854</td>\n",
       "    </tr>\n",
       "    <tr>\n",
       "      <th>2</th>\n",
       "      <td>referred endocrine, glipizide increased to 10 ...</td>\n",
       "      <td>glipizid increas bd metformin continu bd home ...</td>\n",
       "      <td>glipizide</td>\n",
       "      <td>hypoglycemic</td>\n",
       "      <td>1</td>\n",
       "      <td>0.940857</td>\n",
       "      <td>0.670613</td>\n",
       "      <td>1.0</td>\n",
       "      <td>0.560956</td>\n",
       "      <td>0.371404</td>\n",
       "      <td>0.722117</td>\n",
       "      <td>0.999959</td>\n",
       "    </tr>\n",
       "    <tr>\n",
       "      <th>3</th>\n",
       "      <td>hypotension likely secondary to hypotensive me...</td>\n",
       "      <td>hypotens like secondari hypotens med sepsi hel...</td>\n",
       "      <td>hypotensive meds</td>\n",
       "      <td>hypotension</td>\n",
       "      <td>1</td>\n",
       "      <td>0.836085</td>\n",
       "      <td>0.652899</td>\n",
       "      <td>0.9</td>\n",
       "      <td>0.629233</td>\n",
       "      <td>0.643945</td>\n",
       "      <td>0.815202</td>\n",
       "      <td>0.978179</td>\n",
       "    </tr>\n",
       "    <tr>\n",
       "      <th>4</th>\n",
       "      <td>ncreased to 200mg om, 200mg afternoon, 400mg o...</td>\n",
       "      <td>lithium decreas mg sinc patient tremor</td>\n",
       "      <td>lithium</td>\n",
       "      <td>tremor</td>\n",
       "      <td>1</td>\n",
       "      <td>0.958200</td>\n",
       "      <td>0.444959</td>\n",
       "      <td>0.6</td>\n",
       "      <td>0.317999</td>\n",
       "      <td>0.301216</td>\n",
       "      <td>0.554161</td>\n",
       "      <td>0.999239</td>\n",
       "    </tr>\n",
       "  </tbody>\n",
       "</table>\n",
       "</div>"
      ],
      "text/plain": [
       "                                             context  \\\n",
       "0  onic polyps, ogd non-erosive gastritis (5/2008...   \n",
       "1  bl e coli sensitive to meropenem)  - developed...   \n",
       "2  referred endocrine, glipizide increased to 10 ...   \n",
       "3  hypotension likely secondary to hypotensive me...   \n",
       "4  ncreased to 200mg om, 200mg afternoon, 400mg o...   \n",
       "\n",
       "                                           segment_2              drug  \\\n",
       "0  complet heart block secondari degen diseas pro...        propanolol   \n",
       "1  develop erythema vancomycin suspect red man sy...        vancomycin   \n",
       "2  glipizid increas bd metformin continu bd home ...         glipizide   \n",
       "3  hypotens like secondari hypotens med sepsi hel...  hypotensive meds   \n",
       "4             lithium decreas mg sinc patient tremor           lithium   \n",
       "\n",
       "                     ae  label  prob_tfidf_nb  prob_tfidf_sgd  prob_tfidf_rf  \\\n",
       "0  complete heart block      1       0.795695        0.583734            0.8   \n",
       "1              erythema      1       0.957168        0.652359            0.9   \n",
       "2          hypoglycemic      1       0.940857        0.670613            1.0   \n",
       "3           hypotension      1       0.836085        0.652899            0.9   \n",
       "4                tremor      1       0.958200        0.444959            0.6   \n",
       "\n",
       "   prob_tfidf_xgb  prob_word2vec_sgd  prob_word2vec_xgb  pred_lstm  \n",
       "0        0.663017           0.230238           0.688628   0.998728  \n",
       "1        0.750375           0.555737           0.751824   0.999854  \n",
       "2        0.560956           0.371404           0.722117   0.999959  \n",
       "3        0.629233           0.643945           0.815202   0.978179  \n",
       "4        0.317999           0.301216           0.554161   0.999239  "
      ]
     },
     "execution_count": 5,
     "metadata": {},
     "output_type": "execute_result"
    }
   ],
   "source": [
    "train.head()"
   ]
  },
  {
   "cell_type": "code",
   "execution_count": 6,
   "metadata": {},
   "outputs": [
    {
     "data": {
      "text/html": [
       "<div>\n",
       "<style scoped>\n",
       "    .dataframe tbody tr th:only-of-type {\n",
       "        vertical-align: middle;\n",
       "    }\n",
       "\n",
       "    .dataframe tbody tr th {\n",
       "        vertical-align: top;\n",
       "    }\n",
       "\n",
       "    .dataframe thead th {\n",
       "        text-align: right;\n",
       "    }\n",
       "</style>\n",
       "<table border=\"1\" class=\"dataframe\">\n",
       "  <thead>\n",
       "    <tr style=\"text-align: right;\">\n",
       "      <th></th>\n",
       "      <th>source</th>\n",
       "      <th>context</th>\n",
       "      <th>segment_2</th>\n",
       "      <th>drug</th>\n",
       "      <th>ae</th>\n",
       "      <th>label</th>\n",
       "      <th>prob_tfidf_nb</th>\n",
       "      <th>prob_tfidf_sgd</th>\n",
       "      <th>prob_tfidf_rf</th>\n",
       "      <th>prob_tfidf_xgb</th>\n",
       "      <th>prob_word2vec_sgd</th>\n",
       "      <th>prob_word2vec_xgb</th>\n",
       "      <th>pred_lstm</th>\n",
       "    </tr>\n",
       "  </thead>\n",
       "  <tbody>\n",
       "    <tr>\n",
       "      <th>0</th>\n",
       "      <td>2010</td>\n",
       "      <td>-increased frequency nil symptoms. -no dysuria...</td>\n",
       "      <td>diagnos gp clinic given ciprofloxacin worsen a...</td>\n",
       "      <td>ciprofloxacin</td>\n",
       "      <td>abdominal pain</td>\n",
       "      <td>1</td>\n",
       "      <td>0.093701</td>\n",
       "      <td>0.215557</td>\n",
       "      <td>0.0</td>\n",
       "      <td>0.256562</td>\n",
       "      <td>0.090539</td>\n",
       "      <td>0.085800</td>\n",
       "      <td>0.003876</td>\n",
       "    </tr>\n",
       "    <tr>\n",
       "      <th>1</th>\n",
       "      <td>2010</td>\n",
       "      <td>d - to withhold anti-coagulation therapy till ...</td>\n",
       "      <td>view anaemia ogd find withhold warfarin indefi...</td>\n",
       "      <td>warfarin</td>\n",
       "      <td>anaemia</td>\n",
       "      <td>0</td>\n",
       "      <td>0.292828</td>\n",
       "      <td>0.392238</td>\n",
       "      <td>0.2</td>\n",
       "      <td>0.360358</td>\n",
       "      <td>0.311312</td>\n",
       "      <td>0.510333</td>\n",
       "      <td>0.957912</td>\n",
       "    </tr>\n",
       "    <tr>\n",
       "      <th>2</th>\n",
       "      <td>2010</td>\n",
       "      <td>tal swelling facial flushing ed ard 5.25am - i...</td>\n",
       "      <td>imp anaphylactoid reaction parvolex given hydr...</td>\n",
       "      <td>promethazine</td>\n",
       "      <td>anaphylactoid reaction</td>\n",
       "      <td>0</td>\n",
       "      <td>0.918596</td>\n",
       "      <td>0.534267</td>\n",
       "      <td>0.3</td>\n",
       "      <td>0.360358</td>\n",
       "      <td>0.732299</td>\n",
       "      <td>0.400538</td>\n",
       "      <td>0.992576</td>\n",
       "    </tr>\n",
       "    <tr>\n",
       "      <th>3</th>\n",
       "      <td>2010</td>\n",
       "      <td>ndependent, community ambulant nkda pmhx 1 dm ...</td>\n",
       "      <td>glipizid metformin htn amlodipin lisinopril hy...</td>\n",
       "      <td>amlodipine</td>\n",
       "      <td>ami</td>\n",
       "      <td>0</td>\n",
       "      <td>0.462487</td>\n",
       "      <td>0.481140</td>\n",
       "      <td>0.9</td>\n",
       "      <td>0.509050</td>\n",
       "      <td>0.686867</td>\n",
       "      <td>0.769346</td>\n",
       "      <td>0.068080</td>\n",
       "    </tr>\n",
       "    <tr>\n",
       "      <th>4</th>\n",
       "      <td>2010</td>\n",
       "      <td>rs ago: facial redness rash anaphylaxis angioe...</td>\n",
       "      <td>rs ago facial red rash anaphylaxi angioedema g...</td>\n",
       "      <td>piptazo</td>\n",
       "      <td>anaphylaxis</td>\n",
       "      <td>1</td>\n",
       "      <td>0.880463</td>\n",
       "      <td>0.490452</td>\n",
       "      <td>0.5</td>\n",
       "      <td>0.438987</td>\n",
       "      <td>0.803897</td>\n",
       "      <td>0.756382</td>\n",
       "      <td>0.997690</td>\n",
       "    </tr>\n",
       "  </tbody>\n",
       "</table>\n",
       "</div>"
      ],
      "text/plain": [
       "  source                                            context  \\\n",
       "0   2010  -increased frequency nil symptoms. -no dysuria...   \n",
       "1   2010  d - to withhold anti-coagulation therapy till ...   \n",
       "2   2010  tal swelling facial flushing ed ard 5.25am - i...   \n",
       "3   2010  ndependent, community ambulant nkda pmhx 1 dm ...   \n",
       "4   2010  rs ago: facial redness rash anaphylaxis angioe...   \n",
       "\n",
       "                                           segment_2           drug  \\\n",
       "0  diagnos gp clinic given ciprofloxacin worsen a...  ciprofloxacin   \n",
       "1  view anaemia ogd find withhold warfarin indefi...       warfarin   \n",
       "2  imp anaphylactoid reaction parvolex given hydr...   promethazine   \n",
       "3  glipizid metformin htn amlodipin lisinopril hy...     amlodipine   \n",
       "4  rs ago facial red rash anaphylaxi angioedema g...        piptazo   \n",
       "\n",
       "                       ae  label  prob_tfidf_nb  prob_tfidf_sgd  \\\n",
       "0          abdominal pain      1       0.093701        0.215557   \n",
       "1                 anaemia      0       0.292828        0.392238   \n",
       "2  anaphylactoid reaction      0       0.918596        0.534267   \n",
       "3                     ami      0       0.462487        0.481140   \n",
       "4             anaphylaxis      1       0.880463        0.490452   \n",
       "\n",
       "   prob_tfidf_rf  prob_tfidf_xgb  prob_word2vec_sgd  prob_word2vec_xgb  \\\n",
       "0            0.0        0.256562           0.090539           0.085800   \n",
       "1            0.2        0.360358           0.311312           0.510333   \n",
       "2            0.3        0.360358           0.732299           0.400538   \n",
       "3            0.9        0.509050           0.686867           0.769346   \n",
       "4            0.5        0.438987           0.803897           0.756382   \n",
       "\n",
       "   pred_lstm  \n",
       "0   0.003876  \n",
       "1   0.957912  \n",
       "2   0.992576  \n",
       "3   0.068080  \n",
       "4   0.997690  "
      ]
     },
     "execution_count": 6,
     "metadata": {},
     "output_type": "execute_result"
    }
   ],
   "source": [
    "test.head()"
   ]
  },
  {
   "cell_type": "markdown",
   "metadata": {},
   "source": [
    "## Logistic regression"
   ]
  },
  {
   "cell_type": "code",
   "execution_count": 7,
   "metadata": {},
   "outputs": [],
   "source": [
    "# CREATE ARRAYS FOR TRAINING AND TESTING\n",
    "\n",
    "x_train = train[['prob_tfidf_nb','prob_tfidf_sgd','prob_tfidf_rf','prob_tfidf_xgb','prob_word2vec_sgd','prob_word2vec_xgb','pred_lstm']]\n",
    "y_train = train['label']\n",
    "\n",
    "x_test = test[['prob_tfidf_nb','prob_tfidf_sgd','prob_tfidf_rf','prob_tfidf_xgb','prob_word2vec_sgd','prob_word2vec_xgb','pred_lstm']]\n",
    "y_test = test['label']"
   ]
  },
  {
   "cell_type": "code",
   "execution_count": 8,
   "metadata": {},
   "outputs": [],
   "source": [
    "model = LogisticRegression()"
   ]
  },
  {
   "cell_type": "code",
   "execution_count": 9,
   "metadata": {},
   "outputs": [
    {
     "name": "stderr",
     "output_type": "stream",
     "text": [
      "C:\\Program Files\\Anaconda3\\lib\\site-packages\\sklearn\\linear_model\\logistic.py:433: FutureWarning: Default solver will be changed to 'lbfgs' in 0.22. Specify a solver to silence this warning.\n",
      "  FutureWarning)\n"
     ]
    },
    {
     "data": {
      "text/plain": [
       "LogisticRegression(C=1.0, class_weight=None, dual=False, fit_intercept=True,\n",
       "          intercept_scaling=1, max_iter=100, multi_class='warn',\n",
       "          n_jobs=None, penalty='l2', random_state=None, solver='warn',\n",
       "          tol=0.0001, verbose=0, warm_start=False)"
      ]
     },
     "execution_count": 9,
     "metadata": {},
     "output_type": "execute_result"
    }
   ],
   "source": [
    "# fit log regression model\n",
    "model.fit(x_train, y_train)"
   ]
  },
  {
   "cell_type": "code",
   "execution_count": 10,
   "metadata": {},
   "outputs": [],
   "source": [
    "y_pred = model.predict(x_test)"
   ]
  },
  {
   "cell_type": "code",
   "execution_count": 11,
   "metadata": {},
   "outputs": [
    {
     "name": "stdout",
     "output_type": "stream",
     "text": [
      "              precision    recall  f1-score   support\n",
      "\n",
      "           0       0.83      0.80      0.82      4034\n",
      "           1       0.63      0.68      0.66      2031\n",
      "\n",
      "   micro avg       0.76      0.76      0.76      6065\n",
      "   macro avg       0.73      0.74      0.74      6065\n",
      "weighted avg       0.77      0.76      0.76      6065\n",
      "\n"
     ]
    }
   ],
   "source": [
    "print(classification_report(y_test, y_pred))"
   ]
  },
  {
   "cell_type": "markdown",
   "metadata": {},
   "source": [
    "## Get probability scoring and save to excel sheet"
   ]
  },
  {
   "cell_type": "code",
   "execution_count": 12,
   "metadata": {},
   "outputs": [],
   "source": [
    "y_prob = model.predict_proba(x_test) # probability output by the regression model for the testing set\n",
    "y_prob_train = model.predict_proba(x_train) # probability output by the regression model for the training set"
   ]
  },
  {
   "cell_type": "code",
   "execution_count": 13,
   "metadata": {},
   "outputs": [
    {
     "data": {
      "text/plain": [
       "array([[0.99272911, 0.00727089],\n",
       "       [0.85235641, 0.14764359],\n",
       "       [0.55369036, 0.44630964],\n",
       "       ...,\n",
       "       [0.99425222, 0.00574778],\n",
       "       [0.69822739, 0.30177261],\n",
       "       [0.8694194 , 0.1305806 ]])"
      ]
     },
     "execution_count": 13,
     "metadata": {},
     "output_type": "execute_result"
    }
   ],
   "source": [
    "y_prob"
   ]
  },
  {
   "cell_type": "code",
   "execution_count": 14,
   "metadata": {},
   "outputs": [],
   "source": [
    "# Combine results to dataframe\n",
    "test['logreg_prob']=y_prob[:,1].tolist()\n",
    "train['logreg_prob']=y_prob_train[:,1].tolist()"
   ]
  },
  {
   "cell_type": "code",
   "execution_count": 15,
   "metadata": {},
   "outputs": [],
   "source": [
    "book=load_workbook(r'./logistic_external.xlsx')\n",
    "writer = pd.ExcelWriter(r'./logistic_external.xlsx', engine = 'openpyxl')\n",
    "writer.book = book\n",
    "writer.sheets = dict((ws.title, ws) for ws in book.worksheets)\n",
    "\n",
    "train.to_excel(writer, sheet_name = train_worksheet, index=False)\n",
    "test.to_excel(writer, sheet_name = test_worksheet, index=False)\n",
    "\n",
    "writer.save()"
   ]
  }
 ],
 "metadata": {
  "kernelspec": {
   "display_name": "Python 3",
   "language": "python",
   "name": "python3"
  },
  "language_info": {
   "codemirror_mode": {
    "name": "ipython",
    "version": 3
   },
   "file_extension": ".py",
   "mimetype": "text/x-python",
   "name": "python",
   "nbconvert_exporter": "python",
   "pygments_lexer": "ipython3",
   "version": "3.7.3"
  }
 },
 "nbformat": 4,
 "nbformat_minor": 2
}
