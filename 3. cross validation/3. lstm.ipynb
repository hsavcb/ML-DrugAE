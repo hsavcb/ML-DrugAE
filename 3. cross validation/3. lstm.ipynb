{
 "cells": [
  {
   "cell_type": "markdown",
   "metadata": {},
   "source": [
    "# Applying lstm with machine learning methods\n",
    "\n",
    "This notebook applies lstm model on the training set to determine if each context contains a (non-ae) drug-ae pair."
   ]
  },
  {
   "cell_type": "code",
   "execution_count": 130,
   "metadata": {},
   "outputs": [],
   "source": [
    "# Using a simple LSTM to classify text\n",
    "import pandas as pd\n",
    "import numpy as np\n",
    "import matplotlib.pyplot as plt\n",
    "import seaborn as sns\n",
    "import re\n",
    "from sklearn.model_selection import train_test_split\n",
    "from sklearn.preprocessing import LabelEncoder\n",
    "from tensorflow import keras\n",
    "from tensorflow.keras.models import Model\n",
    "from tensorflow.keras.layers import LSTM, Activation, Dense, Dropout, Input, Embedding\n",
    "from tensorflow.keras.optimizers import RMSprop\n",
    "from tensorflow.keras.preprocessing.text import Tokenizer\n",
    "from tensorflow.keras.preprocessing import sequence\n",
    "from tensorflow.keras.utils import to_categorical\n",
    "from tensorflow.keras.callbacks import EarlyStopping\n",
    "from nltk.tokenize import word_tokenize\n",
    "from nltk.corpus import stopwords\n",
    "from nltk.stem import PorterStemmer\n",
    "from openpyxl import load_workbook\n",
    "\n",
    "from sklearn.metrics import roc_curve\n",
    "from sklearn.metrics import roc_auc_score\n",
    "from sklearn.metrics import confusion_matrix\n",
    "from sklearn.metrics import classification_report\n",
    "%matplotlib inline"
   ]
  },
  {
   "cell_type": "code",
   "execution_count": 131,
   "metadata": {},
   "outputs": [],
   "source": [
    "# Name of train and test dataset\n",
    "# Change according to test/train dataset chosen\n",
    "\n",
    "train_worksheet = 'train_5'# 1 to 5\n",
    "test_worksheet = 'test_5' # 1 to 5\n"
   ]
  },
  {
   "cell_type": "code",
   "execution_count": null,
   "metadata": {},
   "outputs": [],
   "source": [
    "# ***************** # IMPORT TRAINING DATASET\n",
    "df_tr = pd.read_excel(r'.\\train_k_fold.xlsx', sheet_name = train_worksheet)\n",
    "df_tr.head()"
   ]
  },
  {
   "cell_type": "code",
   "execution_count": 133,
   "metadata": {},
   "outputs": [
    {
     "data": {
      "text/plain": [
       "1082"
      ]
     },
     "execution_count": 133,
     "metadata": {},
     "output_type": "execute_result"
    }
   ],
   "source": [
    "len(df_tr)"
   ]
  },
  {
   "cell_type": "code",
   "execution_count": 134,
   "metadata": {},
   "outputs": [
    {
     "name": "stdout",
     "output_type": "stream",
     "text": [
      "length of test data:  1017\n"
     ]
    }
   ],
   "source": [
    "# ***************** # IMPORT TESTING DATASET\n",
    "df_te = pd.read_excel(r'.\\train_k_fold.xlsx', sheet_name = test_worksheet)\n",
    "print('length of test data: ', len(df_te))"
   ]
  },
  {
   "cell_type": "code",
   "execution_count": 135,
   "metadata": {},
   "outputs": [],
   "source": [
    "# FUNCTIONS FOR DATA CLEANING\n",
    "\n",
    "# remove stopwords\n",
    "stop=set(stopwords.words('english'))\n",
    "def remove_stopwords(text):\n",
    "    if text is not None:\n",
    "        tokens = [x for x in word_tokenize(text) if x not in stop]\n",
    "        return \" \".join(tokens)\n",
    "    else:\n",
    "        return None\n",
    "\n",
    "# stemming\n",
    "porter=PorterStemmer()\n",
    "def stemSentence(text):\n",
    "    token_words=word_tokenize(text)\n",
    "    stem_sentence =[]\n",
    "    for word in token_words:\n",
    "        stem_sentence.append(porter.stem(word))\n",
    "        stem_sentence.append(\" \")\n",
    "    return \"\".join(stem_sentence)\n",
    "\n",
    "# remove digits\n",
    "def remove_digits(text):\n",
    "    digitpattern = '[0-9]'\n",
    "    token_words=word_tokenize(text)\n",
    "    digit_removed= [re.sub(digitpattern,'', i) for i in token_words]\n",
    "    return \" \".join(digit_removed)\n",
    "\n",
    "df_tr['segment_2']=df_tr['segment_2'].apply(lambda x : remove_stopwords(x))\n",
    "df_tr['segment_2']=df_tr['segment_2'].apply(lambda x : remove_digits(x))\n",
    "df_tr['segment_2']=df_tr['segment_2'].apply(lambda x : stemSentence(x))\n",
    "\n",
    "df_te['segment_2']=df_te['segment_2'].apply(lambda x : remove_stopwords(x))\n",
    "df_te['segment_2']=df_te['segment_2'].apply(lambda x : remove_digits(x))\n",
    "df_te['segment_2']=df_te['segment_2'].apply(lambda x : stemSentence(x))"
   ]
  },
  {
   "cell_type": "code",
   "execution_count": null,
   "metadata": {},
   "outputs": [],
   "source": [
    "df_te.head()"
   ]
  },
  {
   "cell_type": "code",
   "execution_count": 137,
   "metadata": {},
   "outputs": [
    {
     "data": {
      "text/plain": [
       "<matplotlib.axes._subplots.AxesSubplot at 0x21ca829d898>"
      ]
     },
     "execution_count": 137,
     "metadata": {},
     "output_type": "execute_result"
    },
    {
     "data": {
      "image/png": "[encoded data removed]",
      "text/plain": [
       "<Figure size 432x288 with 1 Axes>"
      ]
     },
     "metadata": {
      "needs_background": "light"
     },
     "output_type": "display_data"
    }
   ],
   "source": [
    "# Understand the distribution better\n",
    "sns.countplot(df_tr.label)"
   ]
  },
  {
   "cell_type": "code",
   "execution_count": 138,
   "metadata": {},
   "outputs": [
    {
     "data": {
      "text/plain": [
       "<matplotlib.axes._subplots.AxesSubplot at 0x21ca79ed710>"
      ]
     },
     "execution_count": 138,
     "metadata": {},
     "output_type": "execute_result"
    },
    {
     "data": {
      "image/png": "[encoded data removed]",
      "text/plain": [
       "<Figure size 432x288 with 1 Axes>"
      ]
     },
     "metadata": {
      "needs_background": "light"
     },
     "output_type": "display_data"
    }
   ],
   "source": [
    "# Understand the distribution better\n",
    "sns.countplot(df_te.label)"
   ]
  },
  {
   "cell_type": "code",
   "execution_count": 139,
   "metadata": {},
   "outputs": [],
   "source": [
    "# Create input and output vectors\n",
    "# process the labels\n",
    "\n",
    "X_train=df_tr.segment_2\n",
    "X_test=df_te.segment_2\n",
    "\n",
    "le=LabelEncoder()\n",
    "Y_train=df_tr.label\n",
    "Y_train=le.fit_transform(Y_train)\n",
    "Y_train=Y_train.reshape(-1,1)\n",
    "\n",
    "le=LabelEncoder()\n",
    "Y_test=df_te.label\n",
    "Y_test=le.fit_transform(Y_test)\n",
    "Y_test=Y_test.reshape(-1,1)"
   ]
  },
  {
   "cell_type": "code",
   "execution_count": 140,
   "metadata": {},
   "outputs": [],
   "source": [
    "# Process the data\n",
    "# Tokenize the data and convert the text to sequences\n",
    "# Add padding to ensure that all the sequences have the same shape\n",
    "# There are many ways of taking the max_len and here an arbitrary length of 500 is chosen\n",
    "\n",
    "max_words = 10000\n",
    "max_len = 500\n",
    "embedding_dim = 200\n",
    "tok = Tokenizer(num_words=max_words)\n",
    "tok.fit_on_texts(X_train)\n",
    "sequences = tok.texts_to_sequences(X_train)\n",
    "sequences_matrix = sequence.pad_sequences(sequences,maxlen=max_len)"
   ]
  },
  {
   "cell_type": "code",
   "execution_count": 141,
   "metadata": {},
   "outputs": [
    {
     "data": {
      "text/plain": [
       "array([[   0,    0,    0, ..., 1228,  231, 1229],\n",
       "       [   0,    0,    0, ...,  507,  315,  423],\n",
       "       [   0,    0,    0, ...,  508,  356,  509],\n",
       "       ...,\n",
       "       [   0,    0,    0, ...,  187,  508,   91],\n",
       "       [   0,    0,    0, ..., 2507, 1186,   93],\n",
       "       [   0,    0,    0, ...,    7,  239,  288]])"
      ]
     },
     "execution_count": 141,
     "metadata": {},
     "output_type": "execute_result"
    }
   ],
   "source": [
    "sequences_matrix"
   ]
  },
  {
   "cell_type": "code",
   "execution_count": 142,
   "metadata": {},
   "outputs": [],
   "source": [
    "# Define the RNN structure\n",
    "\n",
    "def RNN():\n",
    "    inputs = Input(name='inputs', shape=[max_len])\n",
    "    layer = Embedding(max_words, embedding_dim, input_length = max_len)(inputs)\n",
    "    layer = LSTM(128)(layer)\n",
    "    layer = Dense(64, name ='FC1')(layer)\n",
    "    layer = Activation('relu')(layer)\n",
    "    layer = Dropout(0.5)(layer)\n",
    "    layer = Dense(1, name='out_layer')(layer)\n",
    "    layer = Activation('sigmoid')(layer)\n",
    "    model = Model(inputs=inputs, outputs=layer)\n",
    "    return model"
   ]
  },
  {
   "cell_type": "code",
   "execution_count": 143,
   "metadata": {},
   "outputs": [
    {
     "name": "stdout",
     "output_type": "stream",
     "text": [
      "Model: \"model_4\"\n",
      "_________________________________________________________________\n",
      "Layer (type)                 Output Shape              Param #   \n",
      "=================================================================\n",
      "inputs (InputLayer)          [(None, 500)]             0         \n",
      "_________________________________________________________________\n",
      "embedding_4 (Embedding)      (None, 500, 200)          2000000   \n",
      "_________________________________________________________________\n",
      "lstm_4 (LSTM)                (None, 128)               168448    \n",
      "_________________________________________________________________\n",
      "FC1 (Dense)                  (None, 64)                8256      \n",
      "_________________________________________________________________\n",
      "activation_8 (Activation)    (None, 64)                0         \n",
      "_________________________________________________________________\n",
      "dropout_4 (Dropout)          (None, 64)                0         \n",
      "_________________________________________________________________\n",
      "out_layer (Dense)            (None, 1)                 65        \n",
      "_________________________________________________________________\n",
      "activation_9 (Activation)    (None, 1)                 0         \n",
      "=================================================================\n",
      "Total params: 2,176,769\n",
      "Trainable params: 2,176,769\n",
      "Non-trainable params: 0\n",
      "_________________________________________________________________\n"
     ]
    }
   ],
   "source": [
    "# Call the function and compile the model\n",
    "\n",
    "model = RNN()\n",
    "model.summary()\n",
    "model.compile(loss='binary_crossentropy',optimizer='adam',metrics=['accuracy'])"
   ]
  },
  {
   "cell_type": "code",
   "execution_count": 144,
   "metadata": {},
   "outputs": [
    {
     "name": "stdout",
     "output_type": "stream",
     "text": [
      "Train on 649 samples, validate on 433 samples\n",
      "Epoch 1/100\n",
      "649/649 [==============================] - 86s 132ms/sample - loss: 0.6426 - accuracy: 0.7396 - val_loss: 1.2590 - val_accuracy: 0.0000e+00\n",
      "Epoch 2/100\n",
      "649/649 [==============================] - 71s 109ms/sample - loss: 0.4625 - accuracy: 0.8336 - val_loss: 1.3852 - val_accuracy: 0.0000e+00\n",
      "Epoch 3/100\n",
      "649/649 [==============================] - 86s 132ms/sample - loss: 0.4354 - accuracy: 0.8336 - val_loss: 1.5249 - val_accuracy: 0.0000e+00\n",
      "Epoch 4/100\n",
      "649/649 [==============================] - 78s 121ms/sample - loss: 0.3812 - accuracy: 0.8336 - val_loss: 1.6781 - val_accuracy: 0.0000e+00\n",
      "Epoch 5/100\n",
      "649/649 [==============================] - 87s 134ms/sample - loss: 0.2978 - accuracy: 0.8921 - val_loss: 1.5395 - val_accuracy: 0.0439\n",
      "Epoch 6/100\n",
      "649/649 [==============================] - 86s 133ms/sample - loss: 0.2311 - accuracy: 0.9307 - val_loss: 1.3944 - val_accuracy: 0.3418\n",
      "Epoch 7/100\n",
      "649/649 [==============================] - 89s 136ms/sample - loss: 0.1270 - accuracy: 0.9676 - val_loss: 2.0091 - val_accuracy: 0.3418\n",
      "Epoch 8/100\n",
      "649/649 [==============================] - 71s 109ms/sample - loss: 0.0903 - accuracy: 0.9676 - val_loss: 2.3820 - val_accuracy: 0.3025\n",
      "Epoch 9/100\n",
      "649/649 [==============================] - 56s 86ms/sample - loss: 0.0517 - accuracy: 0.9877 - val_loss: 1.7817 - val_accuracy: 0.4319\n",
      "Epoch 10/100\n",
      "649/649 [==============================] - 56s 87ms/sample - loss: 0.0237 - accuracy: 0.9938 - val_loss: 2.4580 - val_accuracy: 0.3672\n",
      "Epoch 11/100\n",
      "649/649 [==============================] - 58s 89ms/sample - loss: 0.0144 - accuracy: 0.9985 - val_loss: 2.7633 - val_accuracy: 0.3880\n"
     ]
    }
   ],
   "source": [
    "# This callback will stop the training when there is no improvement in the validation loss for 3 consecutive epochs\n",
    "callback = EarlyStopping(monitor='val_loss',patience=10)\n",
    "\n",
    "# Fit on the training data\n",
    "# history = model.fit(sequences_matrix, Y_train, batch_size=10, epochs=50, validation_split=0.8)\n",
    "history = model.fit(sequences_matrix, Y_train, batch_size=100, epochs=100, validation_split=0.4, callbacks=[callback])"
   ]
  },
  {
   "cell_type": "code",
   "execution_count": 145,
   "metadata": {},
   "outputs": [
    {
     "data": {
      "image/png": "[encoded data removed]",
      "text/plain": [
       "<Figure size 432x288 with 1 Axes>"
      ]
     },
     "metadata": {
      "needs_background": "light"
     },
     "output_type": "display_data"
    }
   ],
   "source": [
    "# Plot train and validation loss\n",
    "\n",
    "plt.plot(history.history['loss'])\n",
    "plt.plot(history.history['val_loss'])\n",
    "plt.title('model train vs validation loss')\n",
    "plt.ylabel('loss')\n",
    "plt.xlabel('epoch')\n",
    "plt.legend(['train','validation'],loc='upper right')\n",
    "plt.show()"
   ]
  },
  {
   "cell_type": "code",
   "execution_count": 146,
   "metadata": {},
   "outputs": [],
   "source": [
    "# Use this model on the train set to get the prediction values\n",
    "\n",
    "train_sequences = tok.texts_to_sequences(X_train)\n",
    "train_sequences_matrix = sequence.pad_sequences(train_sequences, maxlen=max_len)\n",
    "prediction_train = model.predict(train_sequences_matrix, verbose=0)"
   ]
  },
  {
   "cell_type": "code",
   "execution_count": 147,
   "metadata": {},
   "outputs": [],
   "source": [
    "df_tr['prediction']=prediction_train"
   ]
  },
  {
   "cell_type": "code",
   "execution_count": 148,
   "metadata": {},
   "outputs": [],
   "source": [
    "# Use this model on the test set\n",
    "\n",
    "test_sequences = tok.texts_to_sequences(X_test)\n",
    "test_sequences_matrix = sequence.pad_sequences(test_sequences, maxlen=max_len)\n",
    "prediction = model.predict(test_sequences_matrix, verbose=0)"
   ]
  },
  {
   "cell_type": "code",
   "execution_count": 149,
   "metadata": {},
   "outputs": [
    {
     "name": "stdout",
     "output_type": "stream",
     "text": [
      "1017\n"
     ]
    }
   ],
   "source": [
    "print(len(prediction))"
   ]
  },
  {
   "cell_type": "code",
   "execution_count": 150,
   "metadata": {},
   "outputs": [],
   "source": [
    "df_te['prediction']=prediction"
   ]
  },
  {
   "cell_type": "code",
   "execution_count": null,
   "metadata": {},
   "outputs": [],
   "source": [
    "df_te.head()"
   ]
  },
  {
   "cell_type": "markdown",
   "metadata": {},
   "source": [
    "## ROC CURVE"
   ]
  },
  {
   "cell_type": "code",
   "execution_count": 152,
   "metadata": {},
   "outputs": [],
   "source": [
    "# generate a no skill prediction (majority class)\n",
    "ns_probs = [0 for _ in range(len(df_te))]"
   ]
  },
  {
   "cell_type": "code",
   "execution_count": 153,
   "metadata": {},
   "outputs": [],
   "source": [
    "# calculate roc curves\n",
    "ns_fpr, ns_tpr, _ = roc_curve(df_te['label'],ns_probs)\n",
    "lstm_fpr, lstm_tpr, _ = roc_curve(df_te['label'],df_te['prediction'])"
   ]
  },
  {
   "cell_type": "code",
   "execution_count": 154,
   "metadata": {},
   "outputs": [
    {
     "data": {
      "text/plain": [
       "Text(0, 0.5, 'True Positive Rate')"
      ]
     },
     "execution_count": 154,
     "metadata": {},
     "output_type": "execute_result"
    },
    {
     "data": {
      "image/png": "[encoded data removed]",
      "text/plain": [
       "<Figure size 432x288 with 1 Axes>"
      ]
     },
     "metadata": {
      "needs_background": "light"
     },
     "output_type": "display_data"
    }
   ],
   "source": [
    "# plot the roc curves for the model\n",
    "plt.plot(ns_fpr, ns_tpr, linestyle='--', label = 'No Skill')\n",
    "plt.plot(lstm_fpr, lstm_tpr, marker = '.', label = 'LSTM')\n",
    "# axis labels\n",
    "plt.xlabel('False Positive Rate')\n",
    "plt.ylabel('True Positive Rate')"
   ]
  },
  {
   "cell_type": "code",
   "execution_count": 155,
   "metadata": {},
   "outputs": [
    {
     "name": "stdout",
     "output_type": "stream",
     "text": [
      "AUC:  0.8398194706334241\n"
     ]
    }
   ],
   "source": [
    "# calculate AUC\n",
    "auc = roc_auc_score(df_te['label'],df_te['prediction'])\n",
    "print(\"AUC: \",auc)"
   ]
  },
  {
   "cell_type": "code",
   "execution_count": 156,
   "metadata": {},
   "outputs": [],
   "source": [
    "# Wrapper function to adjust class predictions based on the prediction thresholds\n",
    "def adjusted_classes(y_scores, t):\n",
    "    \"\"\"\n",
    "    This function adjusts class predictions based on the prediction threshold (t).\n",
    "    Will only work for binary classification problems.\n",
    "    \"\"\"\n",
    "    return [1 if y>=t else 0 for y in y_scores]"
   ]
  },
  {
   "cell_type": "code",
   "execution_count": 157,
   "metadata": {},
   "outputs": [
    {
     "name": "stdout",
     "output_type": "stream",
     "text": [
      "Confusion matrix on testing set with lstm\n",
      "     pred_neg  pred_pos\n",
      "neg       278       610\n",
      "pos         3       126\n",
      "\n",
      "Classification report on testing set with adjusted threshold\n",
      "              precision    recall  f1-score   support\n",
      "\n",
      "           0       0.99      0.31      0.48       888\n",
      "           1       0.17      0.98      0.29       129\n",
      "\n",
      "   micro avg       0.40      0.40      0.40      1017\n",
      "   macro avg       0.58      0.64      0.38      1017\n",
      "weighted avg       0.89      0.40      0.45      1017\n",
      "\n"
     ]
    }
   ],
   "source": [
    "# set the optimal threshold\n",
    "optimal_threshold = 0.5\n",
    "\n",
    "# get the y scores for the testing set\n",
    "y_pred = adjusted_classes(df_te['prediction'], optimal_threshold)\n",
    "print(\"Confusion matrix on testing set with lstm\")\n",
    "print(pd.DataFrame(confusion_matrix(df_te['label'], y_pred),\n",
    "                      columns=['pred_neg','pred_pos'],\n",
    "                      index=['neg','pos']))  \n",
    "print(\"\\nClassification report on testing set with adjusted threshold\")\n",
    "print(classification_report(df_te['label'],y_pred))"
   ]
  },
  {
   "cell_type": "markdown",
   "metadata": {},
   "source": [
    "## Save results to file"
   ]
  },
  {
   "cell_type": "code",
   "execution_count": 158,
   "metadata": {},
   "outputs": [],
   "source": [
    "# Combine results to dataframe\n",
    "lstm_results_train = pd.DataFrame({'context':df_tr['context'].tolist(),\n",
    "                              'segment_2':df_tr['segment_2'].tolist(),\n",
    "                              'drug':df_tr['drug'].tolist(),\n",
    "                              'ae': df_tr['ae'].tolist(),\n",
    "                              'label':df_tr['label'].tolist(),\n",
    "                              'pred_lstm':df_tr['prediction'].tolist()\n",
    "                             })\n",
    "\n",
    "lstm_results = pd.DataFrame({'context':df_te['context'].tolist(),\n",
    "                              'segment_2':df_te['segment_2'].tolist(),\n",
    "                              'drug':df_te['drug'].tolist(),\n",
    "                              'ae': df_te['ae'].tolist(),\n",
    "                              'label':df_te['label'].tolist(),\n",
    "                              'pred_lstm':df_te['prediction'].tolist()\n",
    "                             })"
   ]
  },
  {
   "cell_type": "code",
   "execution_count": 159,
   "metadata": {},
   "outputs": [],
   "source": [
    "book=load_workbook(r'./results_k_fold_lstm.xlsx')\n",
    "writer = pd.ExcelWriter(r'./results_k_fold_lstm.xlsx', engine = 'openpyxl')\n",
    "writer.book = book\n",
    "writer.sheets = dict((ws.title, ws) for ws in book.worksheets)\n",
    "\n",
    "lstm_results_train.to_excel(writer, sheet_name = train_worksheet, index=False)\n",
    "lstm_results.to_excel(writer, sheet_name = test_worksheet, index=False)\n",
    "\n",
    "writer.save()"
   ]
  }
 ],
 "metadata": {
  "kernelspec": {
   "display_name": "Python 3",
   "language": "python",
   "name": "python3"
  },
  "language_info": {
   "codemirror_mode": {
    "name": "ipython",
    "version": 3
   },
   "file_extension": ".py",
   "mimetype": "text/x-python",
   "name": "python",
   "nbconvert_exporter": "python",
   "pygments_lexer": "ipython3",
   "version": "3.7.3"
  }
 },
 "nbformat": 4,
 "nbformat_minor": 2
}
