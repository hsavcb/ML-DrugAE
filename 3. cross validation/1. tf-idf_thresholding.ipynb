{
 "cells": [
  {
   "cell_type": "markdown",
   "metadata": {},
   "source": [
    "# Applying tf-idf with machine learning methods\n",
    "\n",
    "This notebook applies feature engineering (tf-idf), and machine learning tools (knn, naive bayes, sgd, decision tree, random forest, XGBoost) on the training set to determine if each context contains a (non-ae) drug-ae pair.\n"
   ]
  },
  {
   "cell_type": "code",
   "execution_count": 170,
   "metadata": {},
   "outputs": [],
   "source": [
    "# Name of train and test dataset\n",
    "# Change according to test/train dataset chosen\n",
    "\n",
    "train_worksheet = 'train_5'# 1 to 5\n",
    "test_worksheet = 'test_5' # 1 to 5\n"
   ]
  },
  {
   "cell_type": "code",
   "execution_count": 171,
   "metadata": {},
   "outputs": [],
   "source": [
    "# IMPORT PACKAGES\n",
    "import re\n",
    "import csv\n",
    "import sys\n",
    "import pickle\n",
    "import time\n",
    "import gensim\n",
    "import numpy as np\n",
    "import xgboost as xgb\n",
    "import pandas as pd\n",
    "import matplotlib.pyplot as plt\n",
    "from openpyxl import load_workbook\n",
    "\n",
    "from xgboost import XGBClassifier\n",
    "from nltk.tokenize import word_tokenize\n",
    "from nltk.corpus import stopwords\n",
    "from nltk.stem import PorterStemmer\n",
    "from sklearn.model_selection import train_test_split\n",
    "from sklearn.feature_extraction.text import CountVectorizer, TfidfTransformer, TfidfVectorizer\n",
    "from sklearn.pipeline import Pipeline\n",
    "from sklearn.neighbors import KNeighborsClassifier\n",
    "from sklearn.svm import SVC,SVR\n",
    "from sklearn.naive_bayes import MultinomialNB, GaussianNB   \n",
    "from sklearn.linear_model import SGDClassifier, LogisticRegression\n",
    "from sklearn.tree import DecisionTreeClassifier\n",
    "from sklearn.ensemble import RandomForestClassifier\n",
    "from sklearn.ensemble import GradientBoostingClassifier\n",
    "from sklearn import metrics\n",
    "from sklearn.metrics import precision_recall_curve\n",
    "from sklearn.metrics import confusion_matrix\n",
    "from sklearn.metrics import classification_report"
   ]
  },
  {
   "cell_type": "markdown",
   "metadata": {},
   "source": [
    "## Import data\n",
    "\n",
    "Import the training and testing datasets"
   ]
  },
  {
   "cell_type": "code",
   "execution_count": null,
   "metadata": {},
   "outputs": [],
   "source": [
    "# ***************** # IMPORT TRAINING DATASET\n",
    "train_data = pd.read_excel(r'.\\train_k_fold.xlsx', sheet_name = train_worksheet)\n",
    "train_data.head()"
   ]
  },
  {
   "cell_type": "code",
   "execution_count": 173,
   "metadata": {},
   "outputs": [
    {
     "data": {
      "text/plain": [
       "1082"
      ]
     },
     "execution_count": 173,
     "metadata": {},
     "output_type": "execute_result"
    }
   ],
   "source": [
    "len(train_data)"
   ]
  },
  {
   "cell_type": "code",
   "execution_count": 174,
   "metadata": {},
   "outputs": [
    {
     "name": "stdout",
     "output_type": "stream",
     "text": [
      "length of test data:  1017\n"
     ]
    }
   ],
   "source": [
    "# ***************** # IMPORT TESTING DATASET\n",
    "test_data = pd.read_excel(r'.\\train_k_fold.xlsx', sheet_name = test_worksheet)\n",
    "print('length of test data: ', len(test_data))"
   ]
  },
  {
   "cell_type": "code",
   "execution_count": null,
   "metadata": {},
   "outputs": [],
   "source": [
    "test_data.head()"
   ]
  },
  {
   "cell_type": "markdown",
   "metadata": {},
   "source": [
    "## Data cleaning\n",
    "\n",
    "- remove stopwords\n",
    "- stemming\n",
    "- remove digits\n",
    "\n",
    "We first define functions to clean the data, that can be applied across the 'context' column"
   ]
  },
  {
   "cell_type": "code",
   "execution_count": 176,
   "metadata": {},
   "outputs": [],
   "source": [
    "# FUNCTIONS FOR DATA CLEANING\n",
    "\n",
    "# remove stopwords\n",
    "stop=set(stopwords.words('english'))\n",
    "def remove_stopwords(text):\n",
    "    if text is not None:\n",
    "        tokens = [x for x in word_tokenize(text) if x not in stop]\n",
    "        return \" \".join(tokens)\n",
    "    else:\n",
    "        return None\n",
    "\n",
    "# stemming\n",
    "porter=PorterStemmer()\n",
    "def stemSentence(text):\n",
    "    token_words=word_tokenize(text)\n",
    "    stem_sentence =[]\n",
    "    for word in token_words:\n",
    "        stem_sentence.append(porter.stem(word))\n",
    "        stem_sentence.append(\" \")\n",
    "    return \"\".join(stem_sentence)\n",
    "\n",
    "# remove digits\n",
    "def remove_digits(text):\n",
    "    digitpattern = '[0-9]'\n",
    "    token_words=word_tokenize(text)\n",
    "    digit_removed= [re.sub(digitpattern,'', i) for i in token_words]\n",
    "    return \" \".join(digit_removed)\n",
    "\n",
    "train_data['segment_2']=train_data['segment_2'].apply(lambda x : remove_stopwords(x))\n",
    "train_data['segment_2']=train_data['segment_2'].apply(lambda x : remove_digits(x))\n",
    "train_data['segment_2']=train_data['segment_2'].apply(lambda x : stemSentence(x))\n",
    "\n",
    "test_data['segment_2']=test_data['segment_2'].apply(lambda x : remove_stopwords(x))\n",
    "test_data['segment_2']=test_data['segment_2'].apply(lambda x : remove_digits(x))\n",
    "test_data['segment_2']=test_data['segment_2'].apply(lambda x : stemSentence(x))"
   ]
  },
  {
   "cell_type": "code",
   "execution_count": 177,
   "metadata": {},
   "outputs": [],
   "source": [
    "# CONVERT TRAINING AND TESTING DATASET TO ARRAYS\n",
    "train_x = train_data[['context','segment_2','drug','ae']]\n",
    "train_y = train_data['label']\n",
    "test_x = test_data[['context','segment_2','drug','ae']]\n",
    "test_y = test_data['label']"
   ]
  },
  {
   "cell_type": "code",
   "execution_count": 178,
   "metadata": {},
   "outputs": [],
   "source": [
    "train_x=train_x.values.tolist()\n",
    "test_x=test_x.values\n",
    "train_y=train_y.values.tolist()"
   ]
  },
  {
   "cell_type": "markdown",
   "metadata": {},
   "source": [
    "## Tf-idf\n",
    "\n",
    "We define \n",
    "- some functions to feed the training data into the tf-idf pipline\n",
    "- functions to adjust class predictions based on the prediction thresholds\n",
    "- functions to plot the precision recall curve\n",
    "- functions to plot the f1 curve\n",
    "\n",
    "After that, we inspect the predicted probabilities of the training data and determine an appropriate cutoff for various methods"
   ]
  },
  {
   "cell_type": "code",
   "execution_count": 179,
   "metadata": {},
   "outputs": [],
   "source": [
    "# Wrapper function to fit the training data into the model#\n",
    "\n",
    "def tfidf_pipeline_with(classifier, clf_name):            \n",
    "    pipeline = Pipeline([('vect', CountVectorizer(stop_words=stopwords.words('english'))), \n",
    "                         ('tfidf',TfidfTransformer()),                      \n",
    "                         ('clf', classifier),\n",
    "                        ])\n",
    "    pipeline.fit([row[1] for row in train_x], train_y)  ##change to row[1] which has the segment\n",
    "    y_scores = pipeline.predict_proba([row[1] for row in train_x])[:,1]\n",
    "    y_scores_test = pipeline.predict_proba([row[1] for row in test_x])[:,1]\n",
    "    return y_scores, y_scores_test\n",
    "    \n",
    "# Wrapper function to adjust class predictions based on the prediction thresholds\n",
    "def adjusted_classes(y_scores, t):\n",
    "    \"\"\"\n",
    "    This function adjusts class predictions based on the prediction threshold (t).\n",
    "    Will only work for binary classification problems.\n",
    "    \"\"\"\n",
    "    return [1 if y>=t else 0 for y in y_scores]\n",
    "\n",
    "# Wrapper function to plot the prediction recall curve\n",
    "def precision_recall_threshold(p,r, thresholds, t=0.5):\n",
    "    \"\"\"\n",
    "    plots the precision recall curve and shows the current value for each\n",
    "    by identifying the classifier's threshold\n",
    "    \"\"\"\n",
    "    \n",
    "    # generate new class predictions based on the adjusted_classes\n",
    "    # function above and view the resulting confusion matrix\n",
    "    y_pred_adj = adjusted_classes(y_scores, t)\n",
    "    print(pd.DataFrame(confusion_matrix(train_y, y_pred_adj),\n",
    "                      columns=['pred_neg','pred_pos'],\n",
    "                      index=['neg','pos']))  \n",
    "    \n",
    "    print(\"Classification report on testing set with adjusted threshold\")\n",
    "    print(classification_report(train_y,y_pred_adj))\n",
    "    \n",
    "    # plot the curve\n",
    "    plt.figure(figsize =(4,4))\n",
    "    plt.title(\"Precision and recall curve ^ = current threshold\")\n",
    "    plt.step(r,p, color=\"b\", alpha=0.2, where=\"post\")\n",
    "    plt.fill_between(r,p, step = \"post\", alpha=0.2, color=\"b\")\n",
    "    plt.ylim([0.5,1.01]);\n",
    "    plt.xlim([0.5,1.01]);\n",
    "    plt.xlabel('Recall');\n",
    "    plt.ylabel('Precision');\n",
    "          \n",
    "    # plot the current threshold on the line\n",
    "    close_default_clf = np.argmin(np.abs(thresholds - t))\n",
    "    plt.plot(r[close_default_clf],p[close_default_clf],'^',c='k',markersize=15)\n",
    "    \n",
    "# Wrapper function to plot the F1 by threshold curve          \n",
    "def plot_f1_vs_threshold(f1, thresholds):\n",
    "    plt.figure(figsize =(4,4))\n",
    "    plt.title(\"F1 Score as a function of the decision threshold\")\n",
    "    plt.plot(thresholds,f1[:-1], \"b--\", label =\"F1\")\n",
    "    plt.xlabel('Decision Threshold');\n",
    "    plt.ylabel('Score');\n"
   ]
  },
  {
   "cell_type": "markdown",
   "metadata": {},
   "source": [
    "### KNN Classifier"
   ]
  },
  {
   "cell_type": "code",
   "execution_count": 180,
   "metadata": {},
   "outputs": [],
   "source": [
    "# get y_scores after training (probability of belonging in the '1' class)\n",
    "results_from_pipeline=tfidf_pipeline_with(KNeighborsClassifier(n_neighbors=3,metric='euclidean' ),'KNN euclidean')\n",
    "y_scores=results_from_pipeline[0]\n",
    "y_scores_test=results_from_pipeline[1]"
   ]
  },
  {
   "cell_type": "code",
   "execution_count": 181,
   "metadata": {},
   "outputs": [],
   "source": [
    "# get precision and recall at various thresholds\n",
    "p, r, thresholds = precision_recall_curve(train_y, y_scores)"
   ]
  },
  {
   "cell_type": "code",
   "execution_count": 182,
   "metadata": {},
   "outputs": [
    {
     "name": "stdout",
     "output_type": "stream",
     "text": [
      "     pred_neg  pred_pos\n",
      "neg       454        87\n",
      "pos        40       501\n",
      "Classification report on testing set with adjusted threshold\n",
      "              precision    recall  f1-score   support\n",
      "\n",
      "           0       0.92      0.84      0.88       541\n",
      "           1       0.85      0.93      0.89       541\n",
      "\n",
      "   micro avg       0.88      0.88      0.88      1082\n",
      "   macro avg       0.89      0.88      0.88      1082\n",
      "weighted avg       0.89      0.88      0.88      1082\n",
      "\n"
     ]
    },
    {
     "data": {
      "image/png": "[encoded data removed]",
      "text/plain": [
       "<Figure size 288x288 with 1 Axes>"
      ]
     },
     "metadata": {
      "needs_background": "light"
     },
     "output_type": "display_data"
    }
   ],
   "source": [
    "# plot the precision and recall curve, adjust the threshold to see the confusion matrix output at that threshold\n",
    "precision_recall_threshold(p,r,thresholds, .5)"
   ]
  },
  {
   "cell_type": "code",
   "execution_count": 183,
   "metadata": {},
   "outputs": [
    {
     "data": {
      "image/png": "[encoded data removed]",
      "text/plain": [
       "<Figure size 288x288 with 1 Axes>"
      ]
     },
     "metadata": {
      "needs_background": "light"
     },
     "output_type": "display_data"
    }
   ],
   "source": [
    "f1=2*(p*r)/(p+r) # calculate f1 score at each threshold\n",
    "\n",
    "#plot f1 versus threshold\n",
    "plot_f1_vs_threshold(f1, thresholds)"
   ]
  },
  {
   "cell_type": "code",
   "execution_count": 184,
   "metadata": {},
   "outputs": [
    {
     "name": "stdout",
     "output_type": "stream",
     "text": [
      "Confusion matrix on testing set with adjusted threshold\n",
      "     pred_neg  pred_pos\n",
      "neg       581       307\n",
      "pos        21       108\n",
      "Classification report on testing set with adjusted threshold\n",
      "              precision    recall  f1-score   support\n",
      "\n",
      "           0       0.97      0.65      0.78       888\n",
      "           1       0.26      0.84      0.40       129\n",
      "\n",
      "   micro avg       0.68      0.68      0.68      1017\n",
      "   macro avg       0.61      0.75      0.59      1017\n",
      "weighted avg       0.88      0.68      0.73      1017\n",
      "\n"
     ]
    }
   ],
   "source": [
    "# set the optimal threshold\n",
    "optimal_threshold = 0.5\n",
    "\n",
    "# get the y scores for the testing set\n",
    "y_pred_test = adjusted_classes(y_scores_test, optimal_threshold)\n",
    "print(\"Confusion matrix on testing set with adjusted threshold\")\n",
    "print(pd.DataFrame(confusion_matrix(test_y, y_pred_test),\n",
    "                      columns=['pred_neg','pred_pos'],\n",
    "                      index=['neg','pos']))  \n",
    "print(\"Classification report on testing set with adjusted threshold\")\n",
    "print(classification_report(test_y,y_pred_test))\n",
    "\n",
    "# save results\n",
    "prob_tfidf_knn=y_scores_test.tolist()\n",
    "prob_tfidf_knn_train=y_scores.tolist()"
   ]
  },
  {
   "cell_type": "markdown",
   "metadata": {},
   "source": [
    "### Naive Bayes Classifier"
   ]
  },
  {
   "cell_type": "code",
   "execution_count": 185,
   "metadata": {},
   "outputs": [],
   "source": [
    "# get y_scores after training (probability of belonging in the '1' class)\n",
    "results_from_pipeline=tfidf_pipeline_with(MultinomialNB(alpha=0.05),'Naive Bayes')\n",
    "y_scores=results_from_pipeline[0]\n",
    "y_scores_test=results_from_pipeline[1]"
   ]
  },
  {
   "cell_type": "code",
   "execution_count": 186,
   "metadata": {},
   "outputs": [],
   "source": [
    "# get precision and recall at various thresholds\n",
    "p, r, thresholds = precision_recall_curve(train_y, y_scores)"
   ]
  },
  {
   "cell_type": "code",
   "execution_count": 187,
   "metadata": {},
   "outputs": [
    {
     "name": "stdout",
     "output_type": "stream",
     "text": [
      "     pred_neg  pred_pos\n",
      "neg       523        18\n",
      "pos         3       538\n",
      "Classification report on testing set with adjusted threshold\n",
      "              precision    recall  f1-score   support\n",
      "\n",
      "           0       0.99      0.97      0.98       541\n",
      "           1       0.97      0.99      0.98       541\n",
      "\n",
      "   micro avg       0.98      0.98      0.98      1082\n",
      "   macro avg       0.98      0.98      0.98      1082\n",
      "weighted avg       0.98      0.98      0.98      1082\n",
      "\n"
     ]
    },
    {
     "data": {
      "image/png": "[encoded data removed]",
      "text/plain": [
       "<Figure size 288x288 with 1 Axes>"
      ]
     },
     "metadata": {
      "needs_background": "light"
     },
     "output_type": "display_data"
    }
   ],
   "source": [
    "# plot the precision and recall curve, adjust the threshold to see the confusion matrix output at that threshold\n",
    "precision_recall_threshold(p,r,thresholds, .5)"
   ]
  },
  {
   "cell_type": "code",
   "execution_count": 188,
   "metadata": {},
   "outputs": [
    {
     "data": {
      "image/png": "[encoded data removed]",
      "text/plain": [
       "<Figure size 288x288 with 1 Axes>"
      ]
     },
     "metadata": {
      "needs_background": "light"
     },
     "output_type": "display_data"
    }
   ],
   "source": [
    "f1=2*(p*r)/(p+r) # calculate f1 score at each threshold\n",
    "\n",
    "#plot f1 versus threshold\n",
    "plot_f1_vs_threshold(f1, thresholds)"
   ]
  },
  {
   "cell_type": "markdown",
   "metadata": {},
   "source": [
    "From the above graphs, the threshold that maximises F1 score is about 0.3, but to maximise recall, we choose a smaller threshold where all the positive cases get captured"
   ]
  },
  {
   "cell_type": "code",
   "execution_count": 189,
   "metadata": {},
   "outputs": [
    {
     "name": "stdout",
     "output_type": "stream",
     "text": [
      "Confusion matrix on testing set with adjusted threshold\n",
      "     pred_neg  pred_pos\n",
      "neg       672       216\n",
      "pos        28       101\n",
      "\n",
      "Classification report on testing set with adjusted threshold\n",
      "              precision    recall  f1-score   support\n",
      "\n",
      "           0       0.96      0.76      0.85       888\n",
      "           1       0.32      0.78      0.45       129\n",
      "\n",
      "   micro avg       0.76      0.76      0.76      1017\n",
      "   macro avg       0.64      0.77      0.65      1017\n",
      "weighted avg       0.88      0.76      0.80      1017\n",
      "\n"
     ]
    }
   ],
   "source": [
    "# set the optimal threshold\n",
    "optimal_threshold = 0.5\n",
    "\n",
    "# get the y scores for the testing set\n",
    "y_pred_test = adjusted_classes(y_scores_test, optimal_threshold)\n",
    "print(\"Confusion matrix on testing set with adjusted threshold\")\n",
    "print(pd.DataFrame(confusion_matrix(test_y, y_pred_test),\n",
    "                      columns=['pred_neg','pred_pos'],\n",
    "                      index=['neg','pos']))  \n",
    "print(\"\\nClassification report on testing set with adjusted threshold\")\n",
    "print(classification_report(test_y,y_pred_test))\n",
    "\n",
    "# save results\n",
    "prob_tfidf_nb=y_scores_test.tolist()\n",
    "prob_tfidf_nb_train=y_scores.tolist()"
   ]
  },
  {
   "cell_type": "markdown",
   "metadata": {},
   "source": [
    "### SGD Classifier"
   ]
  },
  {
   "cell_type": "code",
   "execution_count": 190,
   "metadata": {},
   "outputs": [
    {
     "name": "stderr",
     "output_type": "stream",
     "text": [
      "C:\\Program Files\\Anaconda3\\lib\\site-packages\\sklearn\\linear_model\\stochastic_gradient.py:183: FutureWarning: max_iter and tol parameters have been added in SGDClassifier in 0.19. If max_iter is set but tol is left unset, the default value for tol in 0.19 and 0.20 will be None (which is equivalent to -infinity, so it has no effect) but will change in 0.21 to 1e-3. Specify tol to silence this warning.\n",
      "  FutureWarning)\n"
     ]
    }
   ],
   "source": [
    "# get y_scores after training (probability of belonging in the '1' class)\n",
    "results_from_pipeline=tfidf_pipeline_with(SGDClassifier(loss='log', max_iter=50, penalty='l2', alpha=1e-3, random_state=42, tol=None), 'SGD') \n",
    "y_scores=results_from_pipeline[0]\n",
    "y_scores_test=results_from_pipeline[1]"
   ]
  },
  {
   "cell_type": "code",
   "execution_count": 191,
   "metadata": {},
   "outputs": [],
   "source": [
    "# get precision and recall at various thresholds\n",
    "p, r, thresholds = precision_recall_curve(train_y, y_scores)"
   ]
  },
  {
   "cell_type": "code",
   "execution_count": 192,
   "metadata": {},
   "outputs": [
    {
     "name": "stdout",
     "output_type": "stream",
     "text": [
      "     pred_neg  pred_pos\n",
      "neg       502        39\n",
      "pos        36       505\n",
      "Classification report on testing set with adjusted threshold\n",
      "              precision    recall  f1-score   support\n",
      "\n",
      "           0       0.93      0.93      0.93       541\n",
      "           1       0.93      0.93      0.93       541\n",
      "\n",
      "   micro avg       0.93      0.93      0.93      1082\n",
      "   macro avg       0.93      0.93      0.93      1082\n",
      "weighted avg       0.93      0.93      0.93      1082\n",
      "\n"
     ]
    },
    {
     "data": {
      "image/png": "[encoded data removed]",
      "text/plain": [
       "<Figure size 288x288 with 1 Axes>"
      ]
     },
     "metadata": {
      "needs_background": "light"
     },
     "output_type": "display_data"
    }
   ],
   "source": [
    "# plot the precision and recall curve, adjust the threshold to see the confusion matrix output at that threshold\n",
    "precision_recall_threshold(p,r,thresholds, .5)"
   ]
  },
  {
   "cell_type": "code",
   "execution_count": 193,
   "metadata": {},
   "outputs": [
    {
     "data": {
      "image/png": "[encoded data removed]",
      "text/plain": [
       "<Figure size 288x288 with 1 Axes>"
      ]
     },
     "metadata": {
      "needs_background": "light"
     },
     "output_type": "display_data"
    }
   ],
   "source": [
    "f1=2*(p*r)/(p+r) # calculate f1 score at each threshold\n",
    "\n",
    "#plot f1 versus threshold\n",
    "plot_f1_vs_threshold(f1, thresholds)"
   ]
  },
  {
   "cell_type": "markdown",
   "metadata": {},
   "source": [
    "From the above graphs, the threshold that maximises F1 score is about 0.3, the recall is about 0.8 in the training set which is quite good. we will keep to 0.3"
   ]
  },
  {
   "cell_type": "code",
   "execution_count": 194,
   "metadata": {},
   "outputs": [
    {
     "name": "stdout",
     "output_type": "stream",
     "text": [
      "Confusion matrix on testing set with adjusted threshold\n",
      "     pred_neg  pred_pos\n",
      "neg       722       166\n",
      "pos        30        99\n",
      "\n",
      "Classification report on testing set with adjusted threshold\n",
      "              precision    recall  f1-score   support\n",
      "\n",
      "           0       0.96      0.81      0.88       888\n",
      "           1       0.37      0.77      0.50       129\n",
      "\n",
      "   micro avg       0.81      0.81      0.81      1017\n",
      "   macro avg       0.67      0.79      0.69      1017\n",
      "weighted avg       0.89      0.81      0.83      1017\n",
      "\n"
     ]
    }
   ],
   "source": [
    "# set the optimal threshold\n",
    "optimal_threshold = 0.5\n",
    "\n",
    "# get the y scores for the testing set\n",
    "y_pred_test = adjusted_classes(y_scores_test, optimal_threshold)\n",
    "print(\"Confusion matrix on testing set with adjusted threshold\")\n",
    "print(pd.DataFrame(confusion_matrix(test_y, y_pred_test),\n",
    "                      columns=['pred_neg','pred_pos'],\n",
    "                      index=['neg','pos']))  \n",
    "print(\"\\nClassification report on testing set with adjusted threshold\")\n",
    "print(classification_report(test_y,y_pred_test))\n",
    "\n",
    "# save results\n",
    "prob_tfidf_sgd=y_scores_test.tolist()\n",
    "prob_tfidf_sgd_train=y_scores.tolist()"
   ]
  },
  {
   "cell_type": "markdown",
   "metadata": {},
   "source": [
    "### Decision Tree Classifier"
   ]
  },
  {
   "cell_type": "code",
   "execution_count": 195,
   "metadata": {},
   "outputs": [],
   "source": [
    "# get y_scores after training (probability of belonging in the '1' class)\n",
    "results_from_pipeline=tfidf_pipeline_with(DecisionTreeClassifier(random_state=2),'Decision Tree')   \n",
    "y_scores=results_from_pipeline[0]\n",
    "y_scores_test=results_from_pipeline[1]"
   ]
  },
  {
   "cell_type": "code",
   "execution_count": 196,
   "metadata": {},
   "outputs": [],
   "source": [
    "# get precision and recall at various thresholds\n",
    "p, r, thresholds = precision_recall_curve(train_y, y_scores)"
   ]
  },
  {
   "cell_type": "code",
   "execution_count": 197,
   "metadata": {},
   "outputs": [
    {
     "name": "stdout",
     "output_type": "stream",
     "text": [
      "     pred_neg  pred_pos\n",
      "neg       540         1\n",
      "pos         0       541\n",
      "Classification report on testing set with adjusted threshold\n",
      "              precision    recall  f1-score   support\n",
      "\n",
      "           0       1.00      1.00      1.00       541\n",
      "           1       1.00      1.00      1.00       541\n",
      "\n",
      "   micro avg       1.00      1.00      1.00      1082\n",
      "   macro avg       1.00      1.00      1.00      1082\n",
      "weighted avg       1.00      1.00      1.00      1082\n",
      "\n"
     ]
    },
    {
     "data": {
      "image/png": "[encoded data removed]",
      "text/plain": [
       "<Figure size 288x288 with 1 Axes>"
      ]
     },
     "metadata": {
      "needs_background": "light"
     },
     "output_type": "display_data"
    }
   ],
   "source": [
    "# plot the precision and recall curve, adjust the threshold to see the confusion matrix output at that threshold\n",
    "precision_recall_threshold(p,r,thresholds, .5)"
   ]
  },
  {
   "cell_type": "code",
   "execution_count": 198,
   "metadata": {},
   "outputs": [
    {
     "data": {
      "image/png": "[encoded data removed]",
      "text/plain": [
       "<Figure size 288x288 with 1 Axes>"
      ]
     },
     "metadata": {
      "needs_background": "light"
     },
     "output_type": "display_data"
    }
   ],
   "source": [
    "f1=2*(p*r)/(p+r) # calculate f1 score at each threshold\n",
    "\n",
    "#plot f1 versus threshold\n",
    "plot_f1_vs_threshold(f1, thresholds)"
   ]
  },
  {
   "cell_type": "code",
   "execution_count": 199,
   "metadata": {},
   "outputs": [
    {
     "name": "stdout",
     "output_type": "stream",
     "text": [
      "Confusion matrix on testing set with adjusted threshold\n",
      "     pred_neg  pred_pos\n",
      "neg       612       276\n",
      "pos        32        97\n",
      "\n",
      "Classification report on testing set with adjusted threshold\n",
      "              precision    recall  f1-score   support\n",
      "\n",
      "           0       0.95      0.69      0.80       888\n",
      "           1       0.26      0.75      0.39       129\n",
      "\n",
      "   micro avg       0.70      0.70      0.70      1017\n",
      "   macro avg       0.61      0.72      0.59      1017\n",
      "weighted avg       0.86      0.70      0.75      1017\n",
      "\n"
     ]
    }
   ],
   "source": [
    "# set the optimal threshold\n",
    "optimal_threshold = 0.5\n",
    "\n",
    "# get the y scores for the testing set\n",
    "y_pred_test = adjusted_classes(y_scores_test, optimal_threshold)\n",
    "print(\"Confusion matrix on testing set with adjusted threshold\")\n",
    "print(pd.DataFrame(confusion_matrix(test_y, y_pred_test),\n",
    "                      columns=['pred_neg','pred_pos'],\n",
    "                      index=['neg','pos']))  \n",
    "print(\"\\nClassification report on testing set with adjusted threshold\")\n",
    "print(classification_report(test_y,y_pred_test))\n",
    "\n",
    "# save results\n",
    "prob_tfidf_dt=y_scores_test.tolist()\n",
    "prob_tfidf_dt_train=y_scores.tolist()"
   ]
  },
  {
   "cell_type": "markdown",
   "metadata": {},
   "source": [
    "### Random Forest Classifier"
   ]
  },
  {
   "cell_type": "code",
   "execution_count": 200,
   "metadata": {},
   "outputs": [
    {
     "name": "stderr",
     "output_type": "stream",
     "text": [
      "C:\\Program Files\\Anaconda3\\lib\\site-packages\\sklearn\\ensemble\\forest.py:246: FutureWarning: The default value of n_estimators will change from 10 in version 0.20 to 100 in 0.22.\n",
      "  \"10 in version 0.20 to 100 in 0.22.\", FutureWarning)\n"
     ]
    }
   ],
   "source": [
    "# get y_scores after training (probability of belonging in the '1' class)\n",
    "results_from_pipeline=tfidf_pipeline_with(RandomForestClassifier(random_state=5),'Random Forest')  \n",
    "y_scores=results_from_pipeline[0]\n",
    "y_scores_test=results_from_pipeline[1]"
   ]
  },
  {
   "cell_type": "code",
   "execution_count": 201,
   "metadata": {},
   "outputs": [],
   "source": [
    "# get precision and recall at various thresholds\n",
    "p, r, thresholds = precision_recall_curve(train_y, y_scores)"
   ]
  },
  {
   "cell_type": "code",
   "execution_count": 202,
   "metadata": {},
   "outputs": [
    {
     "name": "stdout",
     "output_type": "stream",
     "text": [
      "     pred_neg  pred_pos\n",
      "neg       534         7\n",
      "pos         3       538\n",
      "Classification report on testing set with adjusted threshold\n",
      "              precision    recall  f1-score   support\n",
      "\n",
      "           0       0.99      0.99      0.99       541\n",
      "           1       0.99      0.99      0.99       541\n",
      "\n",
      "   micro avg       0.99      0.99      0.99      1082\n",
      "   macro avg       0.99      0.99      0.99      1082\n",
      "weighted avg       0.99      0.99      0.99      1082\n",
      "\n"
     ]
    },
    {
     "data": {
      "image/png": "[encoded data removed]",
      "text/plain": [
       "<Figure size 288x288 with 1 Axes>"
      ]
     },
     "metadata": {
      "needs_background": "light"
     },
     "output_type": "display_data"
    }
   ],
   "source": [
    "# plot the precision and recall curve, adjust the threshold to see the confusion matrix output at that threshold\n",
    "precision_recall_threshold(p,r,thresholds, .5)"
   ]
  },
  {
   "cell_type": "code",
   "execution_count": 203,
   "metadata": {},
   "outputs": [
    {
     "data": {
      "image/png": "[encoded data removed]",
      "text/plain": [
       "<Figure size 288x288 with 1 Axes>"
      ]
     },
     "metadata": {
      "needs_background": "light"
     },
     "output_type": "display_data"
    }
   ],
   "source": [
    "f1=2*(p*r)/(p+r) # calculate f1 score at each threshold\n",
    "\n",
    "#plot f1 versus threshold\n",
    "plot_f1_vs_threshold(f1, thresholds)"
   ]
  },
  {
   "cell_type": "code",
   "execution_count": 204,
   "metadata": {},
   "outputs": [
    {
     "name": "stdout",
     "output_type": "stream",
     "text": [
      "Confusion matrix on testing set with adjusted threshold\n",
      "     pred_neg  pred_pos\n",
      "neg       587       301\n",
      "pos        33        96\n",
      "\n",
      "Classification report on testing set with adjusted threshold\n",
      "              precision    recall  f1-score   support\n",
      "\n",
      "           0       0.95      0.66      0.78       888\n",
      "           1       0.24      0.74      0.37       129\n",
      "\n",
      "   micro avg       0.67      0.67      0.67      1017\n",
      "   macro avg       0.59      0.70      0.57      1017\n",
      "weighted avg       0.86      0.67      0.73      1017\n",
      "\n"
     ]
    }
   ],
   "source": [
    "# set the optimal threshold\n",
    "optimal_threshold = 0.5\n",
    "\n",
    "# get the y scores for the testing set\n",
    "y_pred_test = adjusted_classes(y_scores_test, optimal_threshold)\n",
    "print(\"Confusion matrix on testing set with adjusted threshold\")\n",
    "print(pd.DataFrame(confusion_matrix(test_y, y_pred_test),\n",
    "                      columns=['pred_neg','pred_pos'],\n",
    "                      index=['neg','pos']))  \n",
    "print(\"\\nClassification report on testing set with adjusted threshold\")\n",
    "print(classification_report(test_y,y_pred_test))\n",
    "\n",
    "# save results\n",
    "prob_tfidf_rf=y_scores_test.tolist()\n",
    "prob_tfidf_rf_train=y_scores.tolist()"
   ]
  },
  {
   "cell_type": "markdown",
   "metadata": {},
   "source": [
    "### XGBoost Classifier"
   ]
  },
  {
   "cell_type": "code",
   "execution_count": 205,
   "metadata": {},
   "outputs": [],
   "source": [
    "# get y_scores after training (probability of belonging in the '1' class)\n",
    "results_from_pipeline=tfidf_pipeline_with(GradientBoostingClassifier(random_state=8),'Extreme Gradient Boosting')  \n",
    "y_scores=results_from_pipeline[0]\n",
    "y_scores_test=results_from_pipeline[1]"
   ]
  },
  {
   "cell_type": "code",
   "execution_count": 206,
   "metadata": {},
   "outputs": [],
   "source": [
    "# get precision and recall at various thresholds\n",
    "p, r, thresholds = precision_recall_curve(train_y, y_scores)"
   ]
  },
  {
   "cell_type": "code",
   "execution_count": 207,
   "metadata": {},
   "outputs": [
    {
     "name": "stdout",
     "output_type": "stream",
     "text": [
      "     pred_neg  pred_pos\n",
      "neg       511        30\n",
      "pos        73       468\n",
      "Classification report on testing set with adjusted threshold\n",
      "              precision    recall  f1-score   support\n",
      "\n",
      "           0       0.88      0.94      0.91       541\n",
      "           1       0.94      0.87      0.90       541\n",
      "\n",
      "   micro avg       0.90      0.90      0.90      1082\n",
      "   macro avg       0.91      0.90      0.90      1082\n",
      "weighted avg       0.91      0.90      0.90      1082\n",
      "\n"
     ]
    },
    {
     "data": {
      "image/png": "[encoded data removed]",
      "text/plain": [
       "<Figure size 288x288 with 1 Axes>"
      ]
     },
     "metadata": {
      "needs_background": "light"
     },
     "output_type": "display_data"
    }
   ],
   "source": [
    "# plot the precision and recall curve, adjust the threshold to see the confusion matrix output at that threshold\n",
    "precision_recall_threshold(p,r,thresholds, .5)"
   ]
  },
  {
   "cell_type": "code",
   "execution_count": 208,
   "metadata": {},
   "outputs": [
    {
     "data": {
      "image/png": "[encoded data removed]",
      "text/plain": [
       "<Figure size 288x288 with 1 Axes>"
      ]
     },
     "metadata": {
      "needs_background": "light"
     },
     "output_type": "display_data"
    }
   ],
   "source": [
    "f1=2*(p*r)/(p+r) # calculate f1 score at each threshold\n",
    "\n",
    "#plot f1 versus threshold\n",
    "plot_f1_vs_threshold(f1, thresholds)"
   ]
  },
  {
   "cell_type": "code",
   "execution_count": 209,
   "metadata": {},
   "outputs": [
    {
     "name": "stdout",
     "output_type": "stream",
     "text": [
      "Confusion matrix on testing set with adjusted threshold\n",
      "     pred_neg  pred_pos\n",
      "neg       717       171\n",
      "pos        40        89\n",
      "\n",
      "Classification report on testing set with adjusted threshold\n",
      "              precision    recall  f1-score   support\n",
      "\n",
      "           0       0.95      0.81      0.87       888\n",
      "           1       0.34      0.69      0.46       129\n",
      "\n",
      "   micro avg       0.79      0.79      0.79      1017\n",
      "   macro avg       0.64      0.75      0.66      1017\n",
      "weighted avg       0.87      0.79      0.82      1017\n",
      "\n"
     ]
    }
   ],
   "source": [
    "# set the optimal threshold\n",
    "optimal_threshold = 0.5\n",
    "\n",
    "# get the y scores for the testing set\n",
    "y_pred_test = adjusted_classes(y_scores_test, optimal_threshold)\n",
    "print(\"Confusion matrix on testing set with adjusted threshold\")\n",
    "print(pd.DataFrame(confusion_matrix(test_y, y_pred_test),\n",
    "                      columns=['pred_neg','pred_pos'],\n",
    "                      index=['neg','pos']))  \n",
    "print(\"\\nClassification report on testing set with adjusted threshold\")\n",
    "print(classification_report(test_y,y_pred_test))\n",
    "\n",
    "# save results\n",
    "prob_tfidf_xgb=y_scores_test.tolist()\n",
    "prob_tfidf_xgb_train=y_scores.tolist()"
   ]
  },
  {
   "cell_type": "markdown",
   "metadata": {},
   "source": [
    "## Combine results to a dataframe and save to excel"
   ]
  },
  {
   "cell_type": "code",
   "execution_count": 210,
   "metadata": {},
   "outputs": [],
   "source": [
    "# Combine results to dataframe\n",
    "\n",
    "tfidf_results_train = pd.DataFrame({'context':train_data['context'].tolist(),\n",
    "                              'segment_2':train_data['segment_2'].tolist(),\n",
    "                              'drug':train_data['drug'].tolist(),\n",
    "                              'ae':train_data['ae'].tolist(),\n",
    "                              'label':train_data['label'].tolist(),\n",
    "                             'prob_tfidf_nb':prob_tfidf_nb_train,\n",
    "                             'prob_tfidf_knn':prob_tfidf_knn_train,\n",
    "                             'prob_tfidf_sgd':prob_tfidf_sgd_train,\n",
    "                             'prob_tfidf_dt':prob_tfidf_dt_train,\n",
    "                             'prob_tfidf_rf':prob_tfidf_rf_train,\n",
    "                             'prob_tfidf_xgb':prob_tfidf_xgb_train\n",
    "                             })\n",
    "\n",
    "\n",
    "tfidf_results_test = pd.DataFrame({'context':test_data['context'].tolist(),\n",
    "                              'segment_2':test_data['segment_2'].tolist(),\n",
    "                              'drug':test_data['drug'].tolist(),\n",
    "                              'ae':test_data['ae'].tolist(),\n",
    "                              'label':test_data['label'].tolist(),\n",
    "                             'prob_tfidf_nb':prob_tfidf_nb,      \n",
    "                             'prob_tfidf_knn':prob_tfidf_knn,\n",
    "                             'prob_tfidf_sgd':prob_tfidf_sgd,\n",
    "                             'prob_tfidf_dt':prob_tfidf_dt,\n",
    "                             'prob_tfidf_rf':prob_tfidf_rf,\n",
    "                             'prob_tfidf_xgb':prob_tfidf_xgb\n",
    "                             })\n"
   ]
  },
  {
   "cell_type": "code",
   "execution_count": 211,
   "metadata": {},
   "outputs": [],
   "source": [
    "book=load_workbook(r'./results_k_fold_tfidf.xlsx')\n",
    "writer = pd.ExcelWriter(r'./results_k_fold_tfidf.xlsx', engine = 'openpyxl')\n",
    "writer.book = book\n",
    "writer.sheets = dict((ws.title, ws) for ws in book.worksheets)\n",
    "tfidf_results_train.to_excel(writer, sheet_name = train_worksheet, index=False)\n",
    "tfidf_results_test.to_excel(writer, sheet_name = test_worksheet, index=False)\n",
    "\n",
    "writer.save()"
   ]
  }
 ],
 "metadata": {
  "kernelspec": {
   "display_name": "Python 3",
   "language": "python",
   "name": "python3"
  },
  "language_info": {
   "codemirror_mode": {
    "name": "ipython",
    "version": 3
   },
   "file_extension": ".py",
   "mimetype": "text/x-python",
   "name": "python",
   "nbconvert_exporter": "python",
   "pygments_lexer": "ipython3",
   "version": "3.7.3"
  }
 },
 "nbformat": 4,
 "nbformat_minor": 2
}
